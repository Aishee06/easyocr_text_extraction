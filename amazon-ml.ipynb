{
 "cells": [
  {
   "cell_type": "markdown",
   "id": "b3535660",
   "metadata": {},
   "source": [
    "# Step 1: Project Setup and Initial Data Overview"
   ]
  },
  {
   "cell_type": "code",
   "execution_count": 1,
   "id": "dae1810f-a037-400f-93dc-188dc082074c",
   "metadata": {},
   "outputs": [
    {
     "name": "stdout",
     "output_type": "stream",
     "text": [
      "amazon-ml.ipynb\n",
      "constants.py\n",
      "images\n",
      "sample_code.py\n",
      "sample_test.csv\n",
      "sample_test_out.csv\n",
      "sample_test_out_fail.csv\n",
      "sanity.py\n",
      "test.csv\n",
      "train.csv\n",
      "utils.py\n",
      "venv\n"
     ]
    }
   ],
   "source": [
    "!ls"
   ]
  },
  {
   "cell_type": "markdown",
   "id": "36ac668b",
   "metadata": {},
   "source": [
    "# Step 2: Installing dependencies\n",
    "(others are installed through pip)"
   ]
  },
  {
   "cell_type": "code",
   "execution_count": 3,
   "id": "35f6c6b5-6115-4d42-b74f-4bc9a8fcf6b4",
   "metadata": {},
   "outputs": [
    {
     "name": "stdout",
     "output_type": "stream",
     "text": [
      "Collecting matplotlib\n",
      "  Using cached matplotlib-3.9.2-cp312-cp312-win_amd64.whl.metadata (11 kB)\n",
      "Collecting contourpy>=1.0.1 (from matplotlib)\n",
      "  Using cached contourpy-1.3.0-cp312-cp312-win_amd64.whl.metadata (5.4 kB)\n",
      "Collecting cycler>=0.10 (from matplotlib)\n",
      "  Using cached cycler-0.12.1-py3-none-any.whl.metadata (3.8 kB)\n",
      "Collecting fonttools>=4.22.0 (from matplotlib)\n",
      "  Using cached fonttools-4.53.1-cp312-cp312-win_amd64.whl.metadata (165 kB)\n",
      "Collecting kiwisolver>=1.3.1 (from matplotlib)\n",
      "  Using cached kiwisolver-1.4.7-cp312-cp312-win_amd64.whl.metadata (6.4 kB)\n",
      "Requirement already satisfied: numpy>=1.23 in c:\\users\\riddhi raj\\appdata\\local\\programs\\python\\python312\\lib\\site-packages (from matplotlib) (1.26.4)\n",
      "Requirement already satisfied: packaging>=20.0 in c:\\users\\riddhi raj\\appdata\\local\\programs\\python\\python312\\lib\\site-packages (from matplotlib) (23.2)\n",
      "Requirement already satisfied: pillow>=8 in c:\\users\\riddhi raj\\appdata\\local\\programs\\python\\python312\\lib\\site-packages (from matplotlib) (10.2.0)\n",
      "Collecting pyparsing>=2.3.1 (from matplotlib)\n",
      "  Using cached pyparsing-3.1.4-py3-none-any.whl.metadata (5.1 kB)\n",
      "Requirement already satisfied: python-dateutil>=2.7 in c:\\users\\riddhi raj\\appdata\\local\\programs\\python\\python312\\lib\\site-packages (from matplotlib) (2.9.0.post0)\n",
      "Requirement already satisfied: six>=1.5 in c:\\users\\riddhi raj\\appdata\\local\\programs\\python\\python312\\lib\\site-packages (from python-dateutil>=2.7->matplotlib) (1.16.0)\n",
      "Using cached matplotlib-3.9.2-cp312-cp312-win_amd64.whl (7.8 MB)\n",
      "Using cached contourpy-1.3.0-cp312-cp312-win_amd64.whl (218 kB)\n",
      "Using cached cycler-0.12.1-py3-none-any.whl (8.3 kB)\n",
      "Using cached fonttools-4.53.1-cp312-cp312-win_amd64.whl (2.2 MB)\n",
      "Using cached kiwisolver-1.4.7-cp312-cp312-win_amd64.whl (55 kB)\n",
      "Using cached pyparsing-3.1.4-py3-none-any.whl (104 kB)\n",
      "Installing collected packages: pyparsing, kiwisolver, fonttools, cycler, contourpy, matplotlib\n",
      "Successfully installed contourpy-1.3.0 cycler-0.12.1 fonttools-4.53.1 kiwisolver-1.4.7 matplotlib-3.9.2 pyparsing-3.1.4\n",
      "Note: you may need to restart the kernel to use updated packages.\n"
     ]
    }
   ],
   "source": [
    "%pip install matplotlib"
   ]
  },
  {
   "cell_type": "markdown",
   "id": "11fa3b4d",
   "metadata": {},
   "source": [
    "# Step 3: Importing Libraries and Setting Up the Environment"
   ]
  },
  {
   "cell_type": "code",
   "execution_count": 1,
   "id": "4eb5438d-0533-4c66-8e7a-0707265364c2",
   "metadata": {},
   "outputs": [],
   "source": [
    "import os\n",
    "import pandas as pd\n",
    "import numpy as np\n",
    "import requests\n",
    "from PIL import Image\n",
    "import pytesseract\n",
    "import cv2\n",
    "import matplotlib.pyplot as plt\n",
    "from io import BytesIO\n",
    "from tqdm import tqdm\n",
    "import re\n",
    "from concurrent.futures import ProcessPoolExecutor\n",
    "from functools import partial"
   ]
  },
  {
   "cell_type": "markdown",
   "id": "b96baa83",
   "metadata": {},
   "source": [
    "# Step 4: Loading and Previewing the datasets"
   ]
  },
  {
   "cell_type": "code",
   "execution_count": 2,
   "id": "23dd8f41-664d-40b4-b3bc-0e0bc7dcbb73",
   "metadata": {},
   "outputs": [
    {
     "data": {
      "text/html": [
       "<div>\n",
       "<style scoped>\n",
       "    .dataframe tbody tr th:only-of-type {\n",
       "        vertical-align: middle;\n",
       "    }\n",
       "\n",
       "    .dataframe tbody tr th {\n",
       "        vertical-align: top;\n",
       "    }\n",
       "\n",
       "    .dataframe thead th {\n",
       "        text-align: right;\n",
       "    }\n",
       "</style>\n",
       "<table border=\"1\" class=\"dataframe\">\n",
       "  <thead>\n",
       "    <tr style=\"text-align: right;\">\n",
       "      <th></th>\n",
       "      <th>image_link</th>\n",
       "      <th>group_id</th>\n",
       "      <th>entity_name</th>\n",
       "      <th>entity_value</th>\n",
       "    </tr>\n",
       "  </thead>\n",
       "  <tbody>\n",
       "    <tr>\n",
       "      <th>0</th>\n",
       "      <td>https://m.media-amazon.com/images/I/61I9XdN6OF...</td>\n",
       "      <td>748919</td>\n",
       "      <td>item_weight</td>\n",
       "      <td>500.0 gram</td>\n",
       "    </tr>\n",
       "    <tr>\n",
       "      <th>1</th>\n",
       "      <td>https://m.media-amazon.com/images/I/71gSRbyXmo...</td>\n",
       "      <td>916768</td>\n",
       "      <td>item_volume</td>\n",
       "      <td>1.0 cup</td>\n",
       "    </tr>\n",
       "    <tr>\n",
       "      <th>2</th>\n",
       "      <td>https://m.media-amazon.com/images/I/61BZ4zrjZX...</td>\n",
       "      <td>459516</td>\n",
       "      <td>item_weight</td>\n",
       "      <td>0.709 gram</td>\n",
       "    </tr>\n",
       "    <tr>\n",
       "      <th>3</th>\n",
       "      <td>https://m.media-amazon.com/images/I/612mrlqiI4...</td>\n",
       "      <td>459516</td>\n",
       "      <td>item_weight</td>\n",
       "      <td>0.709 gram</td>\n",
       "    </tr>\n",
       "    <tr>\n",
       "      <th>4</th>\n",
       "      <td>https://m.media-amazon.com/images/I/617Tl40LOX...</td>\n",
       "      <td>731432</td>\n",
       "      <td>item_weight</td>\n",
       "      <td>1400 milligram</td>\n",
       "    </tr>\n",
       "  </tbody>\n",
       "</table>\n",
       "</div>"
      ],
      "text/plain": [
       "                                          image_link  group_id  entity_name  \\\n",
       "0  https://m.media-amazon.com/images/I/61I9XdN6OF...    748919  item_weight   \n",
       "1  https://m.media-amazon.com/images/I/71gSRbyXmo...    916768  item_volume   \n",
       "2  https://m.media-amazon.com/images/I/61BZ4zrjZX...    459516  item_weight   \n",
       "3  https://m.media-amazon.com/images/I/612mrlqiI4...    459516  item_weight   \n",
       "4  https://m.media-amazon.com/images/I/617Tl40LOX...    731432  item_weight   \n",
       "\n",
       "     entity_value  \n",
       "0      500.0 gram  \n",
       "1         1.0 cup  \n",
       "2      0.709 gram  \n",
       "3      0.709 gram  \n",
       "4  1400 milligram  "
      ]
     },
     "execution_count": 2,
     "metadata": {},
     "output_type": "execute_result"
    }
   ],
   "source": [
    "# Load the datasets\n",
    "train = pd.read_csv('train.csv')\n",
    "test = pd.read_csv('test.csv')\n",
    "\n",
    "# Display the first few rows of the training data\n",
    "train.head()"
   ]
  },
  {
   "attachments": {
    "image.png": {
     "image/png": "[encoded data removed]"
    }
   },
   "cell_type": "markdown",
   "id": "e5b414b7",
   "metadata": {},
   "source": [
    "![image.png](attachment:image.png)"
   ]
  },
  {
   "cell_type": "markdown",
   "id": "813aa368",
   "metadata": {},
   "source": [
    "# Step 5: Downloading Images with Multi-threading"
   ]
  },
  {
   "cell_type": "code",
   "execution_count": null,
   "id": "5c17e9de-4b38-4db8-a0ee-edd769bbd1ba",
   "metadata": {},
   "outputs": [
    {
     "name": "stdout",
     "output_type": "stream",
     "text": [
      "Downloading training images quickly with parallel threads...\n"
     ]
    },
    {
     "name": "stderr",
     "output_type": "stream",
     "text": [
      "100%|████████████████████████████████████████████████████████████████████████| 263859/263859 [1:47:11<00:00, 41.03it/s]\n"
     ]
    },
    {
     "name": "stdout",
     "output_type": "stream",
     "text": [
      "Downloading test images quickly with parallel threads...\n"
     ]
    },
    {
     "name": "stderr",
     "output_type": "stream",
     "text": [
      "100%|█████████████████████████████████████████████████████████████████████████▉| 130973/131187 [40:25<00:13, 15.68it/s]"
     ]
    }
   ],
   "source": [
    "import os\n",
    "import requests\n",
    "from PIL import Image\n",
    "from io import BytesIO\n",
    "from tqdm import tqdm\n",
    "from concurrent.futures import ThreadPoolExecutor\n",
    "\n",
    "# Function to download a single image\n",
    "def download_image(url_idx):\n",
    "    url, idx, save_folder = url_idx\n",
    "    image_path = os.path.join(save_folder, f\"{idx}.jpg\")\n",
    "    try:\n",
    "        response = requests.get(url, timeout=5)\n",
    "        img = Image.open(BytesIO(response.content))\n",
    "        img.save(image_path)\n",
    "    except Exception:\n",
    "        # Skip any issues without printing errors or warnings\n",
    "        pass\n",
    "\n",
    "# Function to download images using multi-threading\n",
    "def download_images_fast_parallel(urls, save_folder, num_threads=10):\n",
    "    os.makedirs(save_folder, exist_ok=True)\n",
    "    # Prepare arguments for each image\n",
    "    url_idx_list = [(url, idx, save_folder) for idx, url in enumerate(urls)]\n",
    "    \n",
    "    # Use ThreadPoolExecutor to download images in parallel\n",
    "    with ThreadPoolExecutor(max_workers=num_threads) as executor:\n",
    "        list(tqdm(executor.map(download_image, url_idx_list), total=len(urls)))\n",
    "\n",
    "# Set number of threads\n",
    "num_threads = 50  # Increase the number of threads to 50 for faster downloads\n",
    "\n",
    "# Download training images quickly using parallel threading\n",
    "print(\"Downloading training images quickly with parallel threads...\")\n",
    "download_images_fast_parallel(train['image_link'], 'images/train', num_threads=num_threads)\n",
    "\n",
    "# Download test images quickly using parallel threading\n",
    "print(\"Downloading test images quickly with parallel threads...\")\n",
    "download_images_fast_parallel(test['image_link'], 'images/test', num_threads=num_threads)"
   ]
  },
  {
   "cell_type": "markdown",
   "id": "64631fb8",
   "metadata": {},
   "source": [
    "# Step 6: Batch-wise Text Extraction from Images using EasyOCR with GPU Support"
   ]
  },
  {
   "cell_type": "code",
   "execution_count": 9,
   "id": "25f8a13e-ebc6-4c1e-b187-a231c46426a1",
   "metadata": {},
   "outputs": [
    {
     "name": "stdout",
     "output_type": "stream",
     "text": [
      "Extracting text from training images in batches with parallel threads and GPU support...\n"
     ]
    },
    {
     "name": "stderr",
     "output_type": "stream",
     "text": [
      " 22%|█████████████████▏                                                             | 434/2000 [02:09<05:05,  5.13it/s]"
     ]
    },
    {
     "name": "stdout",
     "output_type": "stream",
     "text": [
      "Image not found: images/train\\520.jpg\n"
     ]
    },
    {
     "name": "stderr",
     "output_type": "stream",
     "text": [
      " 43%|█████████████████████████████████▋                                             | 852/2000 [04:16<08:48,  2.17it/s]"
     ]
    },
    {
     "name": "stdout",
     "output_type": "stream",
     "text": [
      "Image not found: images/train\\1096.jpg\n"
     ]
    },
    {
     "name": "stderr",
     "output_type": "stream",
     "text": [
      "100%|██████████████████████████████████████████████████████████████████████████████| 2000/2000 [08:35<00:00,  3.88it/s]\n"
     ]
    },
    {
     "name": "stdout",
     "output_type": "stream",
     "text": [
      "Processed batch 1/132\n"
     ]
    },
    {
     "name": "stderr",
     "output_type": "stream",
     "text": [
      "100%|██████████████████████████████████████████████████████████████████████████████| 2000/2000 [08:04<00:00,  4.13it/s]\n"
     ]
    },
    {
     "name": "stdout",
     "output_type": "stream",
     "text": [
      "Processed batch 2/132\n"
     ]
    },
    {
     "name": "stderr",
     "output_type": "stream",
     "text": [
      "100%|██████████████████████████████████████████████████████████████████████████████| 2000/2000 [08:13<00:00,  4.05it/s]\n"
     ]
    },
    {
     "name": "stdout",
     "output_type": "stream",
     "text": [
      "Processed batch 3/132\n"
     ]
    },
    {
     "name": "stderr",
     "output_type": "stream",
     "text": [
      " 81%|██████████████████████████████████████████████████████████████▉               | 1614/2000 [08:16<01:17,  5.00it/s]"
     ]
    },
    {
     "name": "stdout",
     "output_type": "stream",
     "text": [
      "Image not found: images/train\\7754.jpg\n"
     ]
    },
    {
     "name": "stderr",
     "output_type": "stream",
     "text": [
      "100%|██████████████████████████████████████████████████████████████████████████████| 2000/2000 [09:20<00:00,  3.57it/s]\n"
     ]
    },
    {
     "name": "stdout",
     "output_type": "stream",
     "text": [
      "Processed batch 4/132\n"
     ]
    },
    {
     "name": "stderr",
     "output_type": "stream",
     "text": [
      "100%|██████████████████████████████████████████████████████████████████████████████| 2000/2000 [08:08<00:00,  4.10it/s]\n"
     ]
    },
    {
     "name": "stdout",
     "output_type": "stream",
     "text": [
      "Processed batch 5/132\n"
     ]
    },
    {
     "name": "stderr",
     "output_type": "stream",
     "text": [
      "100%|██████████████████████████████████████████████████████████████████████████████| 2000/2000 [08:25<00:00,  3.96it/s]\n"
     ]
    },
    {
     "name": "stdout",
     "output_type": "stream",
     "text": [
      "Processed batch 6/132\n"
     ]
    },
    {
     "name": "stderr",
     "output_type": "stream",
     "text": [
      "100%|██████████████████████████████████████████████████████████████████████████████| 2000/2000 [08:31<00:00,  3.91it/s]\n"
     ]
    },
    {
     "name": "stdout",
     "output_type": "stream",
     "text": [
      "Processed batch 7/132\n"
     ]
    },
    {
     "name": "stderr",
     "output_type": "stream",
     "text": [
      "100%|██████████████████████████████████████████████████████████████████████████████| 2000/2000 [08:19<00:00,  4.00it/s]\n"
     ]
    },
    {
     "name": "stdout",
     "output_type": "stream",
     "text": [
      "Processed batch 8/132\n"
     ]
    },
    {
     "name": "stderr",
     "output_type": "stream",
     "text": [
      " 60%|██████████████████████████████████████████████▊                               | 1200/2000 [05:15<02:13,  5.99it/s]"
     ]
    },
    {
     "name": "stdout",
     "output_type": "stream",
     "text": [
      "Image not found: images/train\\17319.jpg\n"
     ]
    },
    {
     "name": "stderr",
     "output_type": "stream",
     "text": [
      "100%|██████████████████████████████████████████████████████████████████████████████| 2000/2000 [08:06<00:00,  4.11it/s]\n"
     ]
    },
    {
     "name": "stdout",
     "output_type": "stream",
     "text": [
      "Processed batch 9/132\n"
     ]
    },
    {
     "name": "stderr",
     "output_type": "stream",
     "text": [
      "100%|██████████████████████████████████████████████████████████████████████████████| 2000/2000 [08:23<00:00,  3.97it/s]\n"
     ]
    },
    {
     "name": "stdout",
     "output_type": "stream",
     "text": [
      "Processed batch 10/132\n"
     ]
    },
    {
     "name": "stderr",
     "output_type": "stream",
     "text": [
      "100%|██████████████████████████████████████████████████████████████████████████████| 2000/2000 [07:58<00:00,  4.18it/s]\n"
     ]
    },
    {
     "name": "stdout",
     "output_type": "stream",
     "text": [
      "Processed batch 11/132\n"
     ]
    },
    {
     "name": "stderr",
     "output_type": "stream",
     "text": [
      "100%|██████████████████████████████████████████████████████████████████████████████| 2000/2000 [08:38<00:00,  3.86it/s]\n"
     ]
    },
    {
     "name": "stdout",
     "output_type": "stream",
     "text": [
      "Processed batch 12/132\n"
     ]
    },
    {
     "name": "stderr",
     "output_type": "stream",
     "text": [
      "100%|██████████████████████████████████████████████████████████████████████████████| 2000/2000 [08:06<00:00,  4.11it/s]\n"
     ]
    },
    {
     "name": "stdout",
     "output_type": "stream",
     "text": [
      "Processed batch 13/132\n"
     ]
    },
    {
     "name": "stderr",
     "output_type": "stream",
     "text": [
      " 27%|████████████████████▉                                                          | 531/2000 [02:09<04:07,  5.92it/s]"
     ]
    },
    {
     "name": "stdout",
     "output_type": "stream",
     "text": [
      "Image not found: images/train\\26576.jpg\n"
     ]
    },
    {
     "name": "stderr",
     "output_type": "stream",
     "text": [
      "100%|██████████████████████████████████████████████████████████████████████████████| 2000/2000 [08:11<00:00,  4.07it/s]\n"
     ]
    },
    {
     "name": "stdout",
     "output_type": "stream",
     "text": [
      "Processed batch 14/132\n"
     ]
    },
    {
     "name": "stderr",
     "output_type": "stream",
     "text": [
      " 45%|███████████████████████████████████▋                                           | 902/2000 [04:06<05:54,  3.10it/s]"
     ]
    },
    {
     "name": "stdout",
     "output_type": "stream",
     "text": [
      "Image not found: images/train\\28993.jpg\n"
     ]
    },
    {
     "name": "stderr",
     "output_type": "stream",
     "text": [
      "100%|██████████████████████████████████████████████████████████████████████████████| 2000/2000 [08:38<00:00,  3.86it/s]\n"
     ]
    },
    {
     "name": "stdout",
     "output_type": "stream",
     "text": [
      "Processed batch 15/132\n"
     ]
    },
    {
     "name": "stderr",
     "output_type": "stream",
     "text": [
      "100%|██████████████████████████████████████████████████████████████████████████████| 2000/2000 [08:07<00:00,  4.10it/s]\n"
     ]
    },
    {
     "name": "stdout",
     "output_type": "stream",
     "text": [
      "Processed batch 16/132\n"
     ]
    },
    {
     "name": "stderr",
     "output_type": "stream",
     "text": [
      "100%|██████████████████████████████████████████████████████████████████████████████| 2000/2000 [07:50<00:00,  4.25it/s]\n"
     ]
    },
    {
     "name": "stdout",
     "output_type": "stream",
     "text": [
      "Processed batch 17/132\n"
     ]
    },
    {
     "name": "stderr",
     "output_type": "stream",
     "text": [
      " 43%|█████████████████████████████████▉                                             | 859/2000 [03:54<04:48,  3.96it/s]"
     ]
    },
    {
     "name": "stdout",
     "output_type": "stream",
     "text": [
      "Image not found: images/train\\34979.jpg\n"
     ]
    },
    {
     "name": "stderr",
     "output_type": "stream",
     "text": [
      "100%|██████████████████████████████████████████████████████████████████████████████| 2000/2000 [08:22<00:00,  3.98it/s]\n"
     ]
    },
    {
     "name": "stdout",
     "output_type": "stream",
     "text": [
      "Processed batch 18/132\n"
     ]
    },
    {
     "name": "stderr",
     "output_type": "stream",
     "text": [
      " 52%|████████████████████████████████████████▍                                     | 1037/2000 [04:29<04:11,  3.82it/s]"
     ]
    },
    {
     "name": "stdout",
     "output_type": "stream",
     "text": [
      "Image not found: images/train\\37141.jpg\n"
     ]
    },
    {
     "name": "stderr",
     "output_type": "stream",
     "text": [
      "100%|██████████████████████████████████████████████████████████████████████████████| 2000/2000 [08:11<00:00,  4.07it/s]\n"
     ]
    },
    {
     "name": "stdout",
     "output_type": "stream",
     "text": [
      "Processed batch 19/132\n"
     ]
    },
    {
     "name": "stderr",
     "output_type": "stream",
     "text": [
      " 43%|█████████████████████████████████▉                                             | 859/2000 [04:13<08:42,  2.18it/s]"
     ]
    },
    {
     "name": "stdout",
     "output_type": "stream",
     "text": [
      "Image not found: images/train\\39111.jpg\n"
     ]
    },
    {
     "name": "stderr",
     "output_type": "stream",
     "text": [
      " 92%|███████████████████████████████████████████████████████████████████████▊      | 1840/2000 [07:59<00:30,  5.33it/s]"
     ]
    },
    {
     "name": "stdout",
     "output_type": "stream",
     "text": [
      "Image not found: images/train\\39962.jpg\n"
     ]
    },
    {
     "name": "stderr",
     "output_type": "stream",
     "text": [
      "100%|██████████████████████████████████████████████████████████████████████████████| 2000/2000 [08:20<00:00,  3.99it/s]\n"
     ]
    },
    {
     "name": "stdout",
     "output_type": "stream",
     "text": [
      "Processed batch 20/132\n"
     ]
    },
    {
     "name": "stderr",
     "output_type": "stream",
     "text": [
      "100%|██████████████████████████████████████████████████████████████████████████████| 2000/2000 [09:11<00:00,  3.62it/s]\n"
     ]
    },
    {
     "name": "stdout",
     "output_type": "stream",
     "text": [
      "Processed batch 21/132\n"
     ]
    },
    {
     "name": "stderr",
     "output_type": "stream",
     "text": [
      "100%|██████████████████████████████████████████████████████████████████████████████| 2000/2000 [08:59<00:00,  3.71it/s]\n"
     ]
    },
    {
     "name": "stdout",
     "output_type": "stream",
     "text": [
      "Processed batch 22/132\n"
     ]
    },
    {
     "name": "stderr",
     "output_type": "stream",
     "text": [
      "100%|██████████████████████████████████████████████████████████████████████████████| 2000/2000 [09:20<00:00,  3.57it/s]\n"
     ]
    },
    {
     "name": "stdout",
     "output_type": "stream",
     "text": [
      "Processed batch 23/132\n"
     ]
    },
    {
     "name": "stderr",
     "output_type": "stream",
     "text": [
      "100%|██████████████████████████████████████████████████████████████████████████████| 2000/2000 [10:26<00:00,  3.19it/s]\n"
     ]
    },
    {
     "name": "stdout",
     "output_type": "stream",
     "text": [
      "Processed batch 24/132\n"
     ]
    },
    {
     "name": "stderr",
     "output_type": "stream",
     "text": [
      " 12%|█████████▋                                                                     | 244/2000 [01:31<13:55,  2.10it/s]"
     ]
    },
    {
     "name": "stdout",
     "output_type": "stream",
     "text": [
      "Image not found: images/train\\48366.jpg\n"
     ]
    },
    {
     "name": "stderr",
     "output_type": "stream",
     "text": [
      "100%|██████████████████████████████████████████████████████████████████████████████| 2000/2000 [09:12<00:00,  3.62it/s]\n"
     ]
    },
    {
     "name": "stdout",
     "output_type": "stream",
     "text": [
      "Processed batch 25/132\n"
     ]
    },
    {
     "name": "stderr",
     "output_type": "stream",
     "text": [
      "100%|██████████████████████████████████████████████████████████████████████████████| 2000/2000 [09:05<00:00,  3.66it/s]\n"
     ]
    },
    {
     "name": "stdout",
     "output_type": "stream",
     "text": [
      "Processed batch 26/132\n"
     ]
    },
    {
     "name": "stderr",
     "output_type": "stream",
     "text": [
      "100%|██████████████████████████████████████████████████████████████████████████████| 2000/2000 [09:32<00:00,  3.49it/s]\n"
     ]
    },
    {
     "name": "stdout",
     "output_type": "stream",
     "text": [
      "Processed batch 27/132\n"
     ]
    },
    {
     "name": "stderr",
     "output_type": "stream",
     "text": [
      "100%|██████████████████████████████████████████████████████████████████████████████| 2000/2000 [09:50<00:00,  3.38it/s]\n"
     ]
    },
    {
     "name": "stdout",
     "output_type": "stream",
     "text": [
      "Processed batch 28/132\n"
     ]
    },
    {
     "name": "stderr",
     "output_type": "stream",
     "text": [
      "100%|██████████████████████████████████████████████████████████████████████████████| 2000/2000 [09:15<00:00,  3.60it/s]\n"
     ]
    },
    {
     "name": "stdout",
     "output_type": "stream",
     "text": [
      "Processed batch 29/132\n"
     ]
    },
    {
     "name": "stderr",
     "output_type": "stream",
     "text": [
      "100%|██████████████████████████████████████████████████████████████████████████████| 2000/2000 [08:59<00:00,  3.71it/s]\n"
     ]
    },
    {
     "name": "stdout",
     "output_type": "stream",
     "text": [
      "Processed batch 30/132\n"
     ]
    },
    {
     "name": "stderr",
     "output_type": "stream",
     "text": [
      "100%|██████████████████████████████████████████████████████████████████████████████| 2000/2000 [08:49<00:00,  3.78it/s]\n"
     ]
    },
    {
     "name": "stdout",
     "output_type": "stream",
     "text": [
      "Processed batch 31/132\n"
     ]
    },
    {
     "name": "stderr",
     "output_type": "stream",
     "text": [
      " 74%|█████████████████████████████████████████████████████████▋                    | 1479/2000 [07:07<02:41,  3.23it/s]"
     ]
    },
    {
     "name": "stdout",
     "output_type": "stream",
     "text": [
      "Image not found: images/train\\63572.jpg\n"
     ]
    },
    {
     "name": "stderr",
     "output_type": "stream",
     "text": [
      "100%|██████████████████████████████████████████████████████████████████████████████| 2000/2000 [09:45<00:00,  3.42it/s]\n"
     ]
    },
    {
     "name": "stdout",
     "output_type": "stream",
     "text": [
      "Processed batch 32/132\n"
     ]
    },
    {
     "name": "stderr",
     "output_type": "stream",
     "text": [
      " 63%|█████████████████████████████████████████████████▍                            | 1268/2000 [06:40<01:53,  6.45it/s]"
     ]
    },
    {
     "name": "stdout",
     "output_type": "stream",
     "text": [
      "Image not found: images/train\\65462.jpg\n"
     ]
    },
    {
     "name": "stderr",
     "output_type": "stream",
     "text": [
      "100%|██████████████████████████████████████████████████████████████████████████████| 2000/2000 [09:29<00:00,  3.51it/s]\n"
     ]
    },
    {
     "name": "stdout",
     "output_type": "stream",
     "text": [
      "Processed batch 33/132\n"
     ]
    },
    {
     "name": "stderr",
     "output_type": "stream",
     "text": [
      "100%|██████████████████████████████████████████████████████████████████████████████| 2000/2000 [09:04<00:00,  3.67it/s]\n"
     ]
    },
    {
     "name": "stdout",
     "output_type": "stream",
     "text": [
      "Processed batch 34/132\n"
     ]
    },
    {
     "name": "stderr",
     "output_type": "stream",
     "text": [
      "100%|██████████████████████████████████████████████████████████████████████████████| 2000/2000 [08:50<00:00,  3.77it/s]\n"
     ]
    },
    {
     "name": "stdout",
     "output_type": "stream",
     "text": [
      "Processed batch 35/132\n"
     ]
    },
    {
     "name": "stderr",
     "output_type": "stream",
     "text": [
      "100%|██████████████████████████████████████████████████████████████████████████████| 2000/2000 [08:53<00:00,  3.75it/s]\n"
     ]
    },
    {
     "name": "stdout",
     "output_type": "stream",
     "text": [
      "Processed batch 36/132\n"
     ]
    },
    {
     "name": "stderr",
     "output_type": "stream",
     "text": [
      "100%|██████████████████████████████████████████████████████████████████████████████| 2000/2000 [08:46<00:00,  3.80it/s]\n"
     ]
    },
    {
     "name": "stdout",
     "output_type": "stream",
     "text": [
      "Processed batch 37/132\n"
     ]
    },
    {
     "name": "stderr",
     "output_type": "stream",
     "text": [
      "100%|██████████████████████████████████████████████████████████████████████████████| 2000/2000 [09:16<00:00,  3.60it/s]\n"
     ]
    },
    {
     "name": "stdout",
     "output_type": "stream",
     "text": [
      "Processed batch 38/132\n"
     ]
    },
    {
     "name": "stderr",
     "output_type": "stream",
     "text": [
      " 47%|█████████████████████████████████████▍                                         | 947/2000 [04:41<04:33,  3.85it/s]"
     ]
    },
    {
     "name": "stdout",
     "output_type": "stream",
     "text": [
      "Image not found: images/train\\77111.jpg\n"
     ]
    },
    {
     "name": "stderr",
     "output_type": "stream",
     "text": [
      "100%|██████████████████████████████████████████████████████████████████████████████| 2000/2000 [08:53<00:00,  3.75it/s]\n"
     ]
    },
    {
     "name": "stdout",
     "output_type": "stream",
     "text": [
      "Processed batch 39/132\n"
     ]
    },
    {
     "name": "stderr",
     "output_type": "stream",
     "text": [
      "100%|██████████████████████████████████████████████████████████████████████████████| 2000/2000 [09:31<00:00,  3.50it/s]\n"
     ]
    },
    {
     "name": "stdout",
     "output_type": "stream",
     "text": [
      "Processed batch 40/132\n"
     ]
    },
    {
     "name": "stderr",
     "output_type": "stream",
     "text": [
      "100%|██████████████████████████████████████████████████████████████████████████████| 2000/2000 [08:59<00:00,  3.71it/s]\n"
     ]
    },
    {
     "name": "stdout",
     "output_type": "stream",
     "text": [
      "Processed batch 41/132\n"
     ]
    },
    {
     "name": "stderr",
     "output_type": "stream",
     "text": [
      "100%|██████████████████████████████████████████████████████████████████████████████| 2000/2000 [08:51<00:00,  3.76it/s]\n"
     ]
    },
    {
     "name": "stdout",
     "output_type": "stream",
     "text": [
      "Processed batch 42/132\n"
     ]
    },
    {
     "name": "stderr",
     "output_type": "stream",
     "text": [
      "100%|██████████████████████████████████████████████████████████████████████████████| 2000/2000 [08:22<00:00,  3.98it/s]\n"
     ]
    },
    {
     "name": "stdout",
     "output_type": "stream",
     "text": [
      "Processed batch 43/132\n"
     ]
    },
    {
     "name": "stderr",
     "output_type": "stream",
     "text": [
      "100%|██████████████████████████████████████████████████████████████████████████████| 2000/2000 [08:47<00:00,  3.79it/s]\n"
     ]
    },
    {
     "name": "stdout",
     "output_type": "stream",
     "text": [
      "Processed batch 44/132\n"
     ]
    },
    {
     "name": "stderr",
     "output_type": "stream",
     "text": [
      "100%|██████████████████████████████████████████████████████████████████████████████| 2000/2000 [08:32<00:00,  3.91it/s]\n"
     ]
    },
    {
     "name": "stdout",
     "output_type": "stream",
     "text": [
      "Processed batch 45/132\n"
     ]
    },
    {
     "name": "stderr",
     "output_type": "stream",
     "text": [
      "100%|██████████████████████████████████████████████████████████████████████████████| 2000/2000 [08:52<00:00,  3.76it/s]\n"
     ]
    },
    {
     "name": "stdout",
     "output_type": "stream",
     "text": [
      "Processed batch 46/132\n"
     ]
    },
    {
     "name": "stderr",
     "output_type": "stream",
     "text": [
      "100%|██████████████████████████████████████████████████████████████████████████████| 2000/2000 [08:41<00:00,  3.83it/s]\n"
     ]
    },
    {
     "name": "stdout",
     "output_type": "stream",
     "text": [
      "Processed batch 47/132\n"
     ]
    },
    {
     "name": "stderr",
     "output_type": "stream",
     "text": [
      "100%|██████████████████████████████████████████████████████████████████████████████| 2000/2000 [08:55<00:00,  3.73it/s]\n"
     ]
    },
    {
     "name": "stdout",
     "output_type": "stream",
     "text": [
      "Processed batch 48/132\n"
     ]
    },
    {
     "name": "stderr",
     "output_type": "stream",
     "text": [
      " 30%|███████████████████████▌                                                       | 598/2000 [02:46<06:27,  3.62it/s]"
     ]
    },
    {
     "name": "stdout",
     "output_type": "stream",
     "text": [
      "Image not found: images/train\\96679.jpg\n"
     ]
    },
    {
     "name": "stderr",
     "output_type": "stream",
     "text": [
      "100%|██████████████████████████████████████████████████████████████████████████████| 2000/2000 [08:46<00:00,  3.80it/s]\n"
     ]
    },
    {
     "name": "stdout",
     "output_type": "stream",
     "text": [
      "Processed batch 49/132\n"
     ]
    },
    {
     "name": "stderr",
     "output_type": "stream",
     "text": [
      "100%|██████████████████████████████████████████████████████████████████████████████| 2000/2000 [09:06<00:00,  3.66it/s]\n"
     ]
    },
    {
     "name": "stdout",
     "output_type": "stream",
     "text": [
      "Processed batch 50/132\n"
     ]
    },
    {
     "name": "stderr",
     "output_type": "stream",
     "text": [
      " 86%|███████████████████████████████████████████████████████████████████           | 1721/2000 [07:40<00:54,  5.10it/s]"
     ]
    },
    {
     "name": "stdout",
     "output_type": "stream",
     "text": [
      "Image not found: images/train\\101790.jpg\n"
     ]
    },
    {
     "name": "stderr",
     "output_type": "stream",
     "text": [
      "100%|██████████████████████████████████████████████████████████████████████████████| 2000/2000 [08:31<00:00,  3.91it/s]\n"
     ]
    },
    {
     "name": "stdout",
     "output_type": "stream",
     "text": [
      "Processed batch 51/132\n"
     ]
    },
    {
     "name": "stderr",
     "output_type": "stream",
     "text": [
      " 84%|█████████████████████████████████████████████████████████████████▎            | 1674/2000 [08:01<01:09,  4.71it/s]"
     ]
    },
    {
     "name": "stdout",
     "output_type": "stream",
     "text": [
      "Image not found: images/train\\103787.jpg\n"
     ]
    },
    {
     "name": "stderr",
     "output_type": "stream",
     "text": [
      "100%|██████████████████████████████████████████████████████████████████████████████| 2000/2000 [08:59<00:00,  3.71it/s]\n"
     ]
    },
    {
     "name": "stdout",
     "output_type": "stream",
     "text": [
      "Processed batch 52/132\n"
     ]
    },
    {
     "name": "stderr",
     "output_type": "stream",
     "text": [
      "100%|██████████████████████████████████████████████████████████████████████████████| 2000/2000 [09:42<00:00,  3.43it/s]\n"
     ]
    },
    {
     "name": "stdout",
     "output_type": "stream",
     "text": [
      "Processed batch 53/132\n"
     ]
    },
    {
     "name": "stderr",
     "output_type": "stream",
     "text": [
      "100%|██████████████████████████████████████████████████████████████████████████████| 2000/2000 [09:24<00:00,  3.54it/s]\n"
     ]
    },
    {
     "name": "stdout",
     "output_type": "stream",
     "text": [
      "Processed batch 54/132\n"
     ]
    },
    {
     "name": "stderr",
     "output_type": "stream",
     "text": [
      "100%|██████████████████████████████████████████████████████████████████████████████| 2000/2000 [09:11<00:00,  3.63it/s]\n"
     ]
    },
    {
     "name": "stdout",
     "output_type": "stream",
     "text": [
      "Processed batch 55/132\n"
     ]
    },
    {
     "name": "stderr",
     "output_type": "stream",
     "text": [
      " 52%|████████████████████████████████████████▏                                     | 1032/2000 [04:56<01:31, 10.54it/s]"
     ]
    },
    {
     "name": "stdout",
     "output_type": "stream",
     "text": [
      "Image not found: images/train\\111183.jpg\n"
     ]
    },
    {
     "name": "stderr",
     "output_type": "stream",
     "text": [
      "100%|██████████████████████████████████████████████████████████████████████████████| 2000/2000 [09:01<00:00,  3.70it/s]\n"
     ]
    },
    {
     "name": "stdout",
     "output_type": "stream",
     "text": [
      "Processed batch 56/132\n"
     ]
    },
    {
     "name": "stderr",
     "output_type": "stream",
     "text": [
      " 47%|█████████████████████████████████████                                          | 939/2000 [04:44<03:19,  5.32it/s]"
     ]
    },
    {
     "name": "stdout",
     "output_type": "stream",
     "text": [
      "Image not found: images/train\\113130.jpg\n"
     ]
    },
    {
     "name": "stderr",
     "output_type": "stream",
     "text": [
      "100%|██████████████████████████████████████████████████████████████████████████████| 2000/2000 [09:26<00:00,  3.53it/s]\n"
     ]
    },
    {
     "name": "stdout",
     "output_type": "stream",
     "text": [
      "Processed batch 57/132\n"
     ]
    },
    {
     "name": "stderr",
     "output_type": "stream",
     "text": [
      "100%|██████████████████████████████████████████████████████████████████████████████| 2000/2000 [08:52<00:00,  3.76it/s]\n"
     ]
    },
    {
     "name": "stdout",
     "output_type": "stream",
     "text": [
      "Processed batch 58/132\n"
     ]
    },
    {
     "name": "stderr",
     "output_type": "stream",
     "text": [
      "100%|██████████████████████████████████████████████████████████████████████████████| 2000/2000 [09:24<00:00,  3.54it/s]\n"
     ]
    },
    {
     "name": "stdout",
     "output_type": "stream",
     "text": [
      "Processed batch 59/132\n"
     ]
    },
    {
     "name": "stderr",
     "output_type": "stream",
     "text": [
      "100%|██████████████████████████████████████████████████████████████████████████████| 2000/2000 [08:41<00:00,  3.83it/s]\n"
     ]
    },
    {
     "name": "stdout",
     "output_type": "stream",
     "text": [
      "Processed batch 60/132\n"
     ]
    },
    {
     "name": "stderr",
     "output_type": "stream",
     "text": [
      " 12%|█████████▌                                                                     | 243/2000 [01:00<04:31,  6.47it/s]"
     ]
    },
    {
     "name": "stdout",
     "output_type": "stream",
     "text": [
      "Image not found: images/train\\120294.jpg\n"
     ]
    },
    {
     "name": "stderr",
     "output_type": "stream",
     "text": [
      "100%|██████████████████████████████████████████████████████████████████████████████| 2000/2000 [08:19<00:00,  4.01it/s]\n"
     ]
    },
    {
     "name": "stdout",
     "output_type": "stream",
     "text": [
      "Processed batch 61/132\n"
     ]
    },
    {
     "name": "stderr",
     "output_type": "stream",
     "text": [
      "100%|██████████████████████████████████████████████████████████████████████████████| 2000/2000 [08:30<00:00,  3.92it/s]\n"
     ]
    },
    {
     "name": "stdout",
     "output_type": "stream",
     "text": [
      "Processed batch 62/132\n"
     ]
    },
    {
     "name": "stderr",
     "output_type": "stream",
     "text": [
      "100%|██████████████████████████████████████████████████████████████████████████████| 2000/2000 [08:42<00:00,  3.83it/s]\n"
     ]
    },
    {
     "name": "stdout",
     "output_type": "stream",
     "text": [
      "Processed batch 63/132\n"
     ]
    },
    {
     "name": "stderr",
     "output_type": "stream",
     "text": [
      "100%|██████████████████████████████████████████████████████████████████████████████| 2000/2000 [08:23<00:00,  3.98it/s]\n"
     ]
    },
    {
     "name": "stdout",
     "output_type": "stream",
     "text": [
      "Processed batch 64/132\n"
     ]
    },
    {
     "name": "stderr",
     "output_type": "stream",
     "text": [
      " 71%|███████████████████████████████████████████████████████▎                      | 1417/2000 [06:35<02:06,  4.61it/s]"
     ]
    },
    {
     "name": "stdout",
     "output_type": "stream",
     "text": [
      "Image not found: images/train\\129735.jpg\n"
     ]
    },
    {
     "name": "stderr",
     "output_type": "stream",
     "text": [
      "100%|██████████████████████████████████████████████████████████████████████████████| 2000/2000 [08:32<00:00,  3.90it/s]\n"
     ]
    },
    {
     "name": "stdout",
     "output_type": "stream",
     "text": [
      "Processed batch 65/132\n"
     ]
    },
    {
     "name": "stderr",
     "output_type": "stream",
     "text": [
      "100%|██████████████████████████████████████████████████████████████████████████████| 2000/2000 [06:43<00:00,  4.96it/s]\n"
     ]
    },
    {
     "name": "stdout",
     "output_type": "stream",
     "text": [
      "Processed batch 66/132\n"
     ]
    },
    {
     "name": "stderr",
     "output_type": "stream",
     "text": [
      "100%|██████████████████████████████████████████████████████████████████████████████| 2000/2000 [03:16<00:00, 10.17it/s]\n"
     ]
    },
    {
     "name": "stdout",
     "output_type": "stream",
     "text": [
      "Processed batch 67/132\n"
     ]
    },
    {
     "name": "stderr",
     "output_type": "stream",
     "text": [
      "100%|██████████████████████████████████████████████████████████████████████████████| 2000/2000 [03:18<00:00, 10.08it/s]\n"
     ]
    },
    {
     "name": "stdout",
     "output_type": "stream",
     "text": [
      "Processed batch 68/132\n"
     ]
    },
    {
     "name": "stderr",
     "output_type": "stream",
     "text": [
      "100%|██████████████████████████████████████████████████████████████████████████████| 2000/2000 [03:22<00:00,  9.88it/s]\n"
     ]
    },
    {
     "name": "stdout",
     "output_type": "stream",
     "text": [
      "Processed batch 69/132\n"
     ]
    },
    {
     "name": "stderr",
     "output_type": "stream",
     "text": [
      "100%|██████████████████████████████████████████████████████████████████████████████| 2000/2000 [03:09<00:00, 10.54it/s]\n"
     ]
    },
    {
     "name": "stdout",
     "output_type": "stream",
     "text": [
      "Processed batch 70/132\n"
     ]
    },
    {
     "name": "stderr",
     "output_type": "stream",
     "text": [
      "100%|██████████████████████████████████████████████████████████████████████████████| 2000/2000 [03:13<00:00, 10.35it/s]\n"
     ]
    },
    {
     "name": "stdout",
     "output_type": "stream",
     "text": [
      "Processed batch 71/132\n"
     ]
    },
    {
     "name": "stderr",
     "output_type": "stream",
     "text": [
      "100%|██████████████████████████████████████████████████████████████████████████████| 2000/2000 [03:15<00:00, 10.25it/s]\n"
     ]
    },
    {
     "name": "stdout",
     "output_type": "stream",
     "text": [
      "Processed batch 72/132\n"
     ]
    },
    {
     "name": "stderr",
     "output_type": "stream",
     "text": [
      "100%|██████████████████████████████████████████████████████████████████████████████| 2000/2000 [03:15<00:00, 10.22it/s]\n"
     ]
    },
    {
     "name": "stdout",
     "output_type": "stream",
     "text": [
      "Processed batch 73/132\n"
     ]
    },
    {
     "name": "stderr",
     "output_type": "stream",
     "text": [
      "100%|██████████████████████████████████████████████████████████████████████████████| 2000/2000 [03:24<00:00,  9.78it/s]\n"
     ]
    },
    {
     "name": "stdout",
     "output_type": "stream",
     "text": [
      "Processed batch 74/132\n"
     ]
    },
    {
     "name": "stderr",
     "output_type": "stream",
     "text": [
      "100%|██████████████████████████████████████████████████████████████████████████████| 2000/2000 [03:13<00:00, 10.31it/s]\n"
     ]
    },
    {
     "name": "stdout",
     "output_type": "stream",
     "text": [
      "Processed batch 75/132\n"
     ]
    },
    {
     "name": "stderr",
     "output_type": "stream",
     "text": [
      " 59%|██████████████████████████████████████████████                                | 1182/2000 [02:00<01:06, 12.23it/s]"
     ]
    },
    {
     "name": "stdout",
     "output_type": "stream",
     "text": [
      "Image not found: images/train\\151242.jpg\n",
      "Image not found: images/train\\151243.jpg\n",
      "Image not found: images/train\\151245.jpg\n",
      "Image not found: images/train\\151247.jpg\n",
      "Image not found: images/train\\151248.jpg\n",
      "Image not found: images/train\\151249.jpg\n",
      "Image not found: images/train\\151250.jpg\n",
      "Image not found: images/train\\151251.jpg\n",
      "Image not found: images/train\\151252.jpg\n",
      "Image not found: images/train\\151253.jpg\n",
      "Image not found: images/train\\151254.jpg\n",
      "Image not found: images/train\\151255.jpg\n",
      "Image not found: images/train\\151256.jpg\n",
      "Image not found: images/train\\151257.jpg\n",
      "Image not found: images/train\\151258.jpg\n",
      "Image not found: images/train\\151260.jpg\n",
      "Image not found: images/train\\151261.jpg\n",
      "Image not found: images/train\\151262.jpg\n",
      "Image not found: images/train\\151263.jpg\n",
      "Image not found: images/train\\151264.jpg\n",
      "Image not found: images/train\\151265.jpg\n",
      "Image not found: images/train\\151266.jpg\n",
      "Image not found: images/train\\151267.jpg\n",
      "Image not found: images/train\\151268.jpg\n",
      "Image not found: images/train\\151269.jpg\n",
      "Image not found: images/train\\151270.jpg\n",
      "Image not found: images/train\\151271.jpg\n",
      "Image not found: images/train\\151272.jpg\n",
      "Image not found: images/train\\151273.jpg\n",
      "Image not found: images/train\\151274.jpg\n",
      "Image not found: images/train\\151275.jpg\n",
      "Image not found: images/train\\151276.jpg\n",
      "Image not found: images/train\\151277.jpg\n",
      "Image not found: images/train\\151278.jpg\n",
      "Image not found: images/train\\151280.jpg\n",
      "Image not found: images/train\\151281.jpg\n",
      "Image not found: images/train\\151282.jpg\n",
      "Image not found: images/train\\151283.jpg\n",
      "Image not found: images/train\\151284.jpg\n",
      "Image not found: images/train\\151285.jpg\n",
      "Image not found: images/train\\151286.jpg\n",
      "Image not found: images/train\\151287.jpg\n",
      "Image not found: images/train\\151288.jpg\n",
      "Image not found: images/train\\151289.jpg\n",
      "Image not found: images/train\\151290.jpg\n",
      "Image not found: images/train\\151291.jpg\n",
      "Image not found: images/train\\151292.jpg\n",
      "Image not found: images/train\\151293.jpg\n",
      "Image not found: images/train\\151294.jpg\n",
      "Image not found: images/train\\151295.jpg\n",
      "Image not found: images/train\\151296.jpg\n",
      "Image not found: images/train\\151297.jpg\n",
      "Image not found: images/train\\151298.jpg\n",
      "Image not found: images/train\\151299.jpg\n",
      "Image not found: images/train\\151300.jpg\n",
      "Image not found: images/train\\151301.jpg\n",
      "Image not found: images/train\\151302.jpg\n",
      "Image not found: images/train\\151303.jpg\n",
      "Image not found: images/train\\151304.jpg\n",
      "Image not found: images/train\\151305.jpg\n",
      "Image not found: images/train\\151306.jpg\n",
      "Image not found: images/train\\151307.jpg\n",
      "Image not found: images/train\\151308.jpg\n",
      "Image not found: images/train\\151309.jpg\n",
      "Image not found: images/train\\151310.jpg\n",
      "Image not found: images/train\\151311.jpg\n",
      "Image not found: images/train\\151312.jpg\n",
      "Image not found: images/train\\151313.jpg\n",
      "Image not found: images/train\\151314.jpg\n",
      "Image not found: images/train\\151315.jpg\n",
      "Image not found: images/train\\151316.jpg\n",
      "Image not found: images/train\\151317.jpg\n",
      "Image not found: images/train\\151318.jpg\n",
      "Image not found: images/train\\151319.jpg\n",
      "Image not found: images/train\\151320.jpg\n",
      "Image not found: images/train\\151321.jpg\n",
      "Image not found: images/train\\151322.jpg\n",
      "Image not found: images/train\\151323.jpg\n",
      "Image not found: images/train\\151324.jpg\n",
      "Image not found: images/train\\151325.jpg\n",
      "Image not found: images/train\\151326.jpg\n",
      "Image not found: images/train\\151327.jpg\n",
      "Image not found: images/train\\151328.jpg\n",
      "Image not found: images/train\\151329.jpg\n",
      "Image not found: images/train\\151330.jpg\n",
      "Image not found: images/train\\151331.jpg\n",
      "Image not found: images/train\\151332.jpg\n",
      "Image not found: images/train\\151333.jpg\n",
      "Image not found: images/train\\151334.jpg\n",
      "Image not found: images/train\\151335.jpg\n",
      "Image not found: images/train\\151336.jpg\n",
      "Image not found: images/train\\151337.jpg\n",
      "Image not found: images/train\\151338.jpg\n",
      "Image not found: images/train\\151339.jpg\n",
      "Image not found: images/train\\151340.jpg\n",
      "Image not found: images/train\\151341.jpg\n",
      "Image not found: images/train\\151342.jpg\n",
      "Image not found: images/train\\151343.jpg\n",
      "Image not found: images/train\\151344.jpg\n",
      "Image not found: images/train\\151345.jpg\n",
      "Image not found: images/train\\151346.jpg\n",
      "Image not found: images/train\\151347.jpg\n",
      "Image not found: images/train\\151348.jpg\n",
      "Image not found: images/train\\151349.jpg\n",
      "Image not found: images/train\\151350.jpg\n",
      "Image not found: images/train\\151351.jpg\n",
      "Image not found: images/train\\151352.jpg\n",
      "Image not found: images/train\\151353.jpg\n",
      "Image not found: images/train\\151354.jpg\n",
      "Image not found: images/train\\151355.jpg\n",
      "Image not found: images/train\\151356.jpg\n",
      "Image not found: images/train\\151357.jpg\n",
      "Image not found: images/train\\151358.jpg\n",
      "Image not found: images/train\\151359.jpg\n",
      "Image not found: images/train\\151360.jpg\n",
      "Image not found: images/train\\151361.jpg\n",
      "Image not found: images/train\\151362.jpg\n",
      "Image not found: images/train\\151363.jpg\n",
      "Image not found: images/train\\151364.jpg\n",
      "Image not found: images/train\\151365.jpg\n",
      "Image not found: images/train\\151366.jpg\n",
      "Image not found: images/train\\151367.jpg\n",
      "Image not found: images/train\\151368.jpg\n",
      "Image not found: images/train\\151369.jpg\n",
      "Image not found: images/train\\151370.jpg\n",
      "Image not found: images/train\\151371.jpg\n",
      "Image not found: images/train\\151373.jpg\n",
      "Image not found: images/train\\151374.jpg\n",
      "Image not found: images/train\\151375.jpg\n",
      "Image not found: images/train\\151376.jpg\n",
      "Image not found: images/train\\151377.jpg\n",
      "Image not found: images/train\\151378.jpg\n",
      "Image not found: images/train\\151379.jpg\n",
      "Image not found: images/train\\151380.jpg\n",
      "Image not found: images/train\\151381.jpg\n",
      "Image not found: images/train\\151382.jpg\n",
      "Image not found: images/train\\151383.jpg\n",
      "Image not found: images/train\\151384.jpg\n",
      "Image not found: images/train\\151385.jpg\n",
      "Image not found: images/train\\151386.jpg\n",
      "Image not found: images/train\\151387.jpg\n",
      "Image not found: images/train\\151388.jpg\n",
      "Image not found: images/train\\151389.jpg\n",
      "Image not found: images/train\\151390.jpg\n",
      "Image not found: images/train\\151391.jpg\n",
      "Image not found: images/train\\151392.jpg\n",
      "Image not found: images/train\\151393.jpg\n",
      "Image not found: images/train\\151394.jpg\n",
      "Image not found: images/train\\151395.jpg\n",
      "Image not found: images/train\\151400.jpg\n",
      "Image not found: images/train\\151401.jpg\n",
      "Image not found: images/train\\151402.jpg\n",
      "Image not found: images/train\\151404.jpg\n",
      "Image not found: images/train\\151405.jpg\n",
      "Image not found: images/train\\151406.jpg\n",
      "Image not found: images/train\\151408.jpg\n",
      "Image not found: images/train\\151409.jpg\n",
      "Image not found: images/train\\151410.jpg\n",
      "Image not found: images/train\\151411.jpg\n",
      "Image not found: images/train\\151412.jpg\n",
      "Image not found: images/train\\151413.jpg\n",
      "Image not found: images/train\\151414.jpg\n",
      "Image not found: images/train\\151415.jpg\n",
      "Image not found: images/train\\151416.jpg\n",
      "Image not found: images/train\\151417.jpg\n",
      "Image not found: images/train\\151418.jpg\n",
      "Image not found: images/train\\151419.jpg\n",
      "Image not found: images/train\\151420.jpg\n",
      "Image not found: images/train\\151421.jpg\n",
      "Image not found: images/train\\151422.jpg\n",
      "Image not found: images/train\\151423.jpg\n",
      "Image not found: images/train\\151424.jpg\n",
      "Image not found: images/train\\151425.jpg\n",
      "Image not found: images/train\\151427.jpg\n",
      "Image not found: images/train\\151428.jpg\n",
      "Image not found: images/train\\151429.jpg\n",
      "Image not found: images/train\\151430.jpg\n",
      "Image not found: images/train\\151431.jpg\n",
      "Image not found: images/train\\151432.jpg\n",
      "Image not found: images/train\\151433.jpg\n",
      "Image not found: images/train\\151434.jpg\n",
      "Image not found: images/train\\151435.jpg\n",
      "Image not found: images/train\\151436.jpg\n",
      "Image not found: images/train\\151437.jpg\n",
      "Image not found: images/train\\151438.jpg\n",
      "Image not found: images/train\\151439.jpg\n",
      "Image not found: images/train\\151440.jpg\n",
      "Image not found: images/train\\151441.jpg\n",
      "Image not found: images/train\\151442.jpg\n",
      "Image not found: images/train\\151443.jpg\n",
      "Image not found: images/train\\151444.jpg\n",
      "Image not found: images/train\\151445.jpg\n",
      "Image not found: images/train\\151446.jpg\n",
      "Image not found: images/train\\151447.jpg\n",
      "Image not found: images/train\\151448.jpg\n",
      "Image not found: images/train\\151449.jpg\n",
      "Image not found: images/train\\151450.jpg\n"
     ]
    },
    {
     "name": "stderr",
     "output_type": "stream",
     "text": [
      " 80%|██████████████████████████████████████████████████████████████▍               | 1602/2000 [02:27<00:26, 15.21it/s]"
     ]
    },
    {
     "name": "stdout",
     "output_type": "stream",
     "text": [
      "Image not found: images/train\\151747.jpg\n"
     ]
    },
    {
     "name": "stderr",
     "output_type": "stream",
     "text": [
      "100%|██████████████████████████████████████████████████████████████████████████████| 2000/2000 [03:08<00:00, 10.61it/s]\n"
     ]
    },
    {
     "name": "stdout",
     "output_type": "stream",
     "text": [
      "Processed batch 76/132\n"
     ]
    },
    {
     "name": "stderr",
     "output_type": "stream",
     "text": [
      " 42%|█████████████████████████████████                                              | 837/2000 [01:41<04:26,  4.36it/s]"
     ]
    },
    {
     "name": "stdout",
     "output_type": "stream",
     "text": [
      "Image not found: images/train\\152985.jpg\n",
      "Image not found: images/train\\152986.jpg\n",
      "Image not found: images/train\\152989.jpg\n",
      "Image not found: images/train\\152991.jpg\n",
      "Image not found: images/train\\153004.jpg\n"
     ]
    },
    {
     "name": "stderr",
     "output_type": "stream",
     "text": [
      "100%|██████████████████████████████████████████████████████████████████████████████| 2000/2000 [03:46<00:00,  8.84it/s]\n"
     ]
    },
    {
     "name": "stdout",
     "output_type": "stream",
     "text": [
      "Processed batch 77/132\n"
     ]
    },
    {
     "name": "stderr",
     "output_type": "stream",
     "text": [
      "100%|██████████████████████████████████████████████████████████████████████████████| 2000/2000 [03:48<00:00,  8.75it/s]\n"
     ]
    },
    {
     "name": "stdout",
     "output_type": "stream",
     "text": [
      "Processed batch 78/132\n"
     ]
    },
    {
     "name": "stderr",
     "output_type": "stream",
     "text": [
      "100%|██████████████████████████████████████████████████████████████████████████████| 2000/2000 [03:45<00:00,  8.89it/s]\n"
     ]
    },
    {
     "name": "stdout",
     "output_type": "stream",
     "text": [
      "Processed batch 79/132\n"
     ]
    },
    {
     "name": "stderr",
     "output_type": "stream",
     "text": [
      "100%|██████████████████████████████████████████████████████████████████████████████| 2000/2000 [03:41<00:00,  9.04it/s]\n"
     ]
    },
    {
     "name": "stdout",
     "output_type": "stream",
     "text": [
      "Processed batch 80/132\n"
     ]
    },
    {
     "name": "stderr",
     "output_type": "stream",
     "text": [
      " 81%|███████████████████████████████████████████████████████████████               | 1618/2000 [03:08<00:44,  8.66it/s]"
     ]
    },
    {
     "name": "stdout",
     "output_type": "stream",
     "text": [
      "Image not found: images/train\\161690.jpg\n",
      "Image not found: images/train\\161691.jpg\n",
      "Image not found: images/train\\161692.jpg\n",
      "Image not found: images/train\\161693.jpg\n",
      "Image not found: images/train\\161694.jpg\n",
      "Image not found: images/train\\161695.jpg\n",
      "Image not found: images/train\\161696.jpg\n",
      "Image not found: images/train\\161697.jpg\n",
      "Image not found: images/train\\161698.jpg\n",
      "Image not found: images/train\\161699.jpg\n",
      "Image not found: images/train\\161701.jpg\n",
      "Image not found: images/train\\161705.jpg\n",
      "Image not found: images/train\\161707.jpg\n",
      "Image not found: images/train\\161708.jpg\n",
      "Image not found: images/train\\161709.jpg\n",
      "Image not found: images/train\\161713.jpg\n",
      "Image not found: images/train\\161714.jpg\n",
      "Image not found: images/train\\161715.jpg\n",
      "Image not found: images/train\\161716.jpg\n",
      "Image not found: images/train\\161717.jpg\n",
      "Image not found: images/train\\161720.jpg\n",
      "Image not found: images/train\\161721.jpg\n",
      "Image not found: images/train\\161723.jpg\n",
      "Image not found: images/train\\161724.jpg\n",
      "Image not found: images/train\\161725.jpg\n",
      "Image not found: images/train\\161726.jpg\n",
      "Image not found: images/train\\161727.jpg\n",
      "Image not found: images/train\\161728.jpg\n",
      "Image not found: images/train\\161729.jpg\n",
      "Image not found: images/train\\161730.jpg\n",
      "Image not found: images/train\\161731.jpg\n",
      "Image not found: images/train\\161732.jpg\n",
      "Image not found: images/train\\161733.jpg\n",
      "Image not found: images/train\\161734.jpg\n",
      "Image not found: images/train\\161735.jpg\n",
      "Image not found: images/train\\161736.jpg\n",
      "Image not found: images/train\\161737.jpg\n",
      "Image not found: images/train\\161738.jpg\n",
      "Image not found: images/train\\161739.jpg\n",
      "Image not found: images/train\\161740.jpg\n",
      "Image not found: images/train\\161741.jpg\n",
      "Image not found: images/train\\161742.jpg\n",
      "Image not found: images/train\\161743.jpg\n",
      "Image not found: images/train\\161748.jpg\n",
      "Image not found: images/train\\161749.jpg\n",
      "Image not found: images/train\\161750.jpg\n",
      "Image not found: images/train\\161751.jpg\n",
      "Image not found: images/train\\161752.jpg\n",
      "Image not found: images/train\\161753.jpg\n",
      "Image not found: images/train\\161754.jpg\n",
      "Image not found: images/train\\161755.jpg\n",
      "Image not found: images/train\\161756.jpg\n",
      "Image not found: images/train\\161757.jpg\n",
      "Image not found: images/train\\161758.jpg\n",
      "Image not found: images/train\\161759.jpg\n",
      "Image not found: images/train\\161760.jpg\n",
      "Image not found: images/train\\161761.jpg\n",
      "Image not found: images/train\\161762.jpg\n",
      "Image not found: images/train\\161763.jpg\n",
      "Image not found: images/train\\161764.jpg\n",
      "Image not found: images/train\\161765.jpg\n",
      "Image not found: images/train\\161766.jpg\n",
      "Image not found: images/train\\161767.jpg\n",
      "Image not found: images/train\\161768.jpg\n",
      "Image not found: images/train\\161769.jpg\n",
      "Image not found: images/train\\161770.jpg\n",
      "Image not found: images/train\\161771.jpg\n",
      "Image not found: images/train\\161772.jpg\n",
      "Image not found: images/train\\161773.jpg\n",
      "Image not found: images/train\\161774.jpg\n",
      "Image not found: images/train\\161775.jpg\n",
      "Image not found: images/train\\161776.jpg\n",
      "Image not found: images/train\\161777.jpg\n",
      "Image not found: images/train\\161779.jpg\n",
      "Image not found: images/train\\161780.jpg\n",
      "Image not found: images/train\\161781.jpg\n",
      "Image not found: images/train\\161782.jpg\n",
      "Image not found: images/train\\161783.jpg\n",
      "Image not found: images/train\\161784.jpg\n",
      "Image not found: images/train\\161785.jpg\n",
      "Image not found: images/train\\161787.jpg\n",
      "Image not found: images/train\\161788.jpg\n",
      "Image not found: images/train\\161789.jpg\n",
      "Image not found: images/train\\161790.jpg\n",
      "Image not found: images/train\\161791.jpg\n",
      "Image not found: images/train\\161792.jpg\n",
      "Image not found: images/train\\161793.jpg\n",
      "Image not found: images/train\\161794.jpg\n",
      "Image not found: images/train\\161795.jpg\n",
      "Image not found: images/train\\161796.jpg\n",
      "Image not found: images/train\\161797.jpg\n",
      "Image not found: images/train\\161798.jpg\n",
      "Image not found: images/train\\161799.jpg\n",
      "Image not found: images/train\\161800.jpg\n",
      "Image not found: images/train\\161801.jpg\n",
      "Image not found: images/train\\161802.jpg\n",
      "Image not found: images/train\\161803.jpg\n",
      "Image not found: images/train\\161804.jpg\n",
      "Image not found: images/train\\161805.jpg\n",
      "Image not found: images/train\\161806.jpg\n",
      "Image not found: images/train\\161807.jpg\n",
      "Image not found: images/train\\161808.jpg\n",
      "Image not found: images/train\\161809.jpg\n",
      "Image not found: images/train\\161810.jpg\n",
      "Image not found: images/train\\161811.jpg\n",
      "Image not found: images/train\\161812.jpg\n",
      "Image not found: images/train\\161813.jpg\n",
      "Image not found: images/train\\161814.jpg\n",
      "Image not found: images/train\\161815.jpg\n",
      "Image not found: images/train\\161816.jpg\n",
      "Image not found: images/train\\161817.jpg\n",
      "Image not found: images/train\\161818.jpg\n",
      "Image not found: images/train\\161819.jpg\n",
      "Image not found: images/train\\161820.jpg\n",
      "Image not found: images/train\\161821.jpg\n",
      "Image not found: images/train\\161822.jpg\n",
      "Image not found: images/train\\161823.jpg\n",
      "Image not found: images/train\\161824.jpg\n",
      "Image not found: images/train\\161826.jpg\n",
      "Image not found: images/train\\161825.jpg\n",
      "Image not found: images/train\\161827.jpg\n",
      "Image not found: images/train\\161828.jpg\n",
      "Image not found: images/train\\161829.jpg\n",
      "Image not found: images/train\\161831.jpg\n",
      "Image not found: images/train\\161830.jpg\n",
      "Image not found: images/train\\161832.jpg\n",
      "Image not found: images/train\\161833.jpg\n",
      "Image not found: images/train\\161834.jpg\n",
      "Image not found: images/train\\161835.jpg\n",
      "Image not found: images/train\\161836.jpg\n",
      "Image not found: images/train\\161837.jpg\n",
      "Image not found: images/train\\161838.jpg\n",
      "Image not found: images/train\\161839.jpg\n",
      "Image not found: images/train\\161840.jpg\n",
      "Image not found: images/train\\161841.jpg\n",
      "Image not found: images/train\\161843.jpg\n",
      "Image not found: images/train\\161844.jpg\n",
      "Image not found: images/train\\161845.jpg\n",
      "Image not found: images/train\\161846.jpg\n",
      "Image not found: images/train\\161847.jpg\n",
      "Image not found: images/train\\161848.jpg\n",
      "Image not found: images/train\\161849.jpg\n",
      "Image not found: images/train\\161850.jpg\n",
      "Image not found: images/train\\161851.jpg\n",
      "Image not found: images/train\\161842.jpg\n",
      "Image not found: images/train\\161852.jpg\n",
      "Image not found: images/train\\161854.jpg\n",
      "Image not found: images/train\\161855.jpg\n",
      "Image not found: images/train\\161856.jpg\n",
      "Image not found: images/train\\161857.jpg\n",
      "Image not found: images/train\\161858.jpg\n",
      "Image not found: images/train\\161853.jpg\n",
      "Image not found: images/train\\161859.jpg\n",
      "Image not found: images/train\\161860.jpg\n",
      "Image not found: images/train\\161861.jpg\n",
      "Image not found: images/train\\161862.jpg\n",
      "Image not found: images/train\\161864.jpg\n",
      "Image not found: images/train\\161865.jpg\n",
      "Image not found: images/train\\161866.jpg\n",
      "Image not found: images/train\\161867.jpg\n",
      "Image not found: images/train\\161863.jpg\n",
      "Image not found: images/train\\161868.jpg\n",
      "Image not found: images/train\\161869.jpg\n",
      "Image not found: images/train\\161870.jpg\n",
      "Image not found: images/train\\161871.jpg\n",
      "Image not found: images/train\\161873.jpg\n",
      "Image not found: images/train\\161874.jpg\n",
      "Image not found: images/train\\161875.jpg\n",
      "Image not found: images/train\\161878.jpg\n",
      "Image not found: images/train\\161879.jpg\n",
      "Image not found: images/train\\161880.jpg\n",
      "Image not found: images/train\\161881.jpg\n",
      "Image not found: images/train\\161882.jpg\n",
      "Image not found: images/train\\161883.jpg\n",
      "Image not found: images/train\\161884.jpg\n",
      "Image not found: images/train\\161885.jpg\n",
      "Image not found: images/train\\161886.jpg\n",
      "Image not found: images/train\\161887.jpg\n",
      "Image not found: images/train\\161888.jpg\n",
      "Image not found: images/train\\161889.jpg\n",
      "Image not found: images/train\\161890.jpg\n",
      "Image not found: images/train\\161891.jpg\n",
      "Image not found: images/train\\161892.jpg\n",
      "Image not found: images/train\\161893.jpg\n",
      "Image not found: images/train\\161894.jpg\n",
      "Image not found: images/train\\161895.jpg\n",
      "Image not found: images/train\\161896.jpg\n",
      "Image not found: images/train\\161897.jpg\n",
      "Image not found: images/train\\161898.jpg\n",
      "Image not found: images/train\\161899.jpg\n",
      "Image not found: images/train\\161902.jpg\n",
      "Image not found: images/train\\161903.jpg\n",
      "Image not found: images/train\\161904.jpg\n",
      "Image not found: images/train\\161905.jpg\n",
      "Image not found: images/train\\161908.jpg\n",
      "Image not found: images/train\\161909.jpg\n",
      "Image not found: images/train\\161910.jpg\n"
     ]
    },
    {
     "name": "stderr",
     "output_type": "stream",
     "text": [
      "100%|██████████████████████████████████████████████████████████████████████████████| 2000/2000 [03:21<00:00,  9.92it/s]\n"
     ]
    },
    {
     "name": "stdout",
     "output_type": "stream",
     "text": [
      "Processed batch 81/132\n"
     ]
    },
    {
     "name": "stderr",
     "output_type": "stream",
     "text": [
      "100%|██████████████████████████████████████████████████████████████████████████████| 2000/2000 [03:49<00:00,  8.73it/s]\n"
     ]
    },
    {
     "name": "stdout",
     "output_type": "stream",
     "text": [
      "Processed batch 82/132\n"
     ]
    },
    {
     "name": "stderr",
     "output_type": "stream",
     "text": [
      " 36%|████████████████████████████▊                                                  | 730/2000 [01:29<02:37,  8.07it/s]"
     ]
    },
    {
     "name": "stdout",
     "output_type": "stream",
     "text": [
      "Image not found: images/train\\164860.jpg\n",
      "Image not found: images/train\\164864.jpg\n"
     ]
    },
    {
     "name": "stderr",
     "output_type": "stream",
     "text": [
      "100%|██████████████████████████████████████████████████████████████████████████████| 2000/2000 [03:44<00:00,  8.90it/s]\n"
     ]
    },
    {
     "name": "stdout",
     "output_type": "stream",
     "text": [
      "Processed batch 83/132\n"
     ]
    },
    {
     "name": "stderr",
     "output_type": "stream",
     "text": [
      "100%|██████████████████████████████████████████████████████████████████████████████| 2000/2000 [03:26<00:00,  9.67it/s]\n"
     ]
    },
    {
     "name": "stdout",
     "output_type": "stream",
     "text": [
      "Processed batch 84/132\n"
     ]
    },
    {
     "name": "stderr",
     "output_type": "stream",
     "text": [
      "100%|██████████████████████████████████████████████████████████████████████████████| 2000/2000 [03:34<00:00,  9.33it/s]\n"
     ]
    },
    {
     "name": "stdout",
     "output_type": "stream",
     "text": [
      "Processed batch 85/132\n"
     ]
    },
    {
     "name": "stderr",
     "output_type": "stream",
     "text": [
      "100%|██████████████████████████████████████████████████████████████████████████████| 2000/2000 [03:38<00:00,  9.17it/s]\n"
     ]
    },
    {
     "name": "stdout",
     "output_type": "stream",
     "text": [
      "Processed batch 86/132\n"
     ]
    },
    {
     "name": "stderr",
     "output_type": "stream",
     "text": [
      " 81%|███████████████████████████████████████████████████████████████▎              | 1623/2000 [03:01<00:46,  8.12it/s]"
     ]
    },
    {
     "name": "stdout",
     "output_type": "stream",
     "text": [
      "Image not found: images/train\\173692.jpg\n",
      "Image not found: images/train\\173693.jpg\n",
      "Image not found: images/train\\173694.jpg\n",
      "Image not found: images/train\\173695.jpg\n",
      "Image not found: images/train\\173696.jpg\n",
      "Image not found: images/train\\173697.jpg\n",
      "Image not found: images/train\\173698.jpg\n",
      "Image not found: images/train\\173699.jpg\n",
      "Image not found: images/train\\173700.jpg\n",
      "Image not found: images/train\\173701.jpg\n",
      "Image not found: images/train\\173702.jpg\n",
      "Image not found: images/train\\173703.jpg\n",
      "Image not found: images/train\\173704.jpg\n",
      "Image not found: images/train\\173705.jpg\n",
      "Image not found: images/train\\173706.jpg\n",
      "Image not found: images/train\\173707.jpg\n",
      "Image not found: images/train\\173708.jpg\n",
      "Image not found: images/train\\173709.jpg\n",
      "Image not found: images/train\\173710.jpg\n",
      "Image not found: images/train\\173711.jpg\n",
      "Image not found: images/train\\173712.jpg\n",
      "Image not found: images/train\\173713.jpg\n",
      "Image not found: images/train\\173714.jpg\n",
      "Image not found: images/train\\173715.jpg\n",
      "Image not found: images/train\\173716.jpg\n",
      "Image not found: images/train\\173717.jpg\n",
      "Image not found: images/train\\173718.jpg\n",
      "Image not found: images/train\\173719.jpg\n",
      "Image not found: images/train\\173720.jpg\n",
      "Image not found: images/train\\173721.jpg\n",
      "Image not found: images/train\\173722.jpg\n",
      "Image not found: images/train\\173723.jpg\n",
      "Image not found: images/train\\173724.jpg\n",
      "Image not found: images/train\\173726.jpg\n",
      "Image not found: images/train\\173727.jpg\n",
      "Image not found: images/train\\173728.jpg\n",
      "Image not found: images/train\\173729.jpg\n",
      "Image not found: images/train\\173730.jpg\n",
      "Image not found: images/train\\173731.jpg\n",
      "Image not found: images/train\\173732.jpg\n",
      "Image not found: images/train\\173733.jpg\n",
      "Image not found: images/train\\173734.jpg\n",
      "Image not found: images/train\\173735.jpg\n",
      "Image not found: images/train\\173737.jpg\n",
      "Image not found: images/train\\173738.jpg\n",
      "Image not found: images/train\\173739.jpg\n",
      "Image not found: images/train\\173740.jpg\n",
      "Image not found: images/train\\173741.jpg\n",
      "Image not found: images/train\\173742.jpg\n",
      "Image not found: images/train\\173743.jpg\n",
      "Image not found: images/train\\173744.jpg\n",
      "Image not found: images/train\\173745.jpg\n",
      "Image not found: images/train\\173746.jpg\n",
      "Image not found: images/train\\173747.jpg\n",
      "Image not found: images/train\\173748.jpg\n",
      "Image not found: images/train\\173749.jpg\n",
      "Image not found: images/train\\173750.jpg\n",
      "Image not found: images/train\\173751.jpg\n",
      "Image not found: images/train\\173752.jpg\n",
      "Image not found: images/train\\173753.jpg\n",
      "Image not found: images/train\\173754.jpg\n",
      "Image not found: images/train\\173755.jpg\n",
      "Image not found: images/train\\173756.jpg\n",
      "Image not found: images/train\\173757.jpg\n",
      "Image not found: images/train\\173758.jpg\n",
      "Image not found: images/train\\173759.jpg\n",
      "Image not found: images/train\\173760.jpg\n",
      "Image not found: images/train\\173761.jpg\n",
      "Image not found: images/train\\173762.jpg\n",
      "Image not found: images/train\\173763.jpg\n",
      "Image not found: images/train\\173764.jpg\n",
      "Image not found: images/train\\173765.jpg\n",
      "Image not found: images/train\\173766.jpg\n",
      "Image not found: images/train\\173767.jpg\n",
      "Image not found: images/train\\173768.jpg\n",
      "Image not found: images/train\\173769.jpg\n",
      "Image not found: images/train\\173770.jpg\n",
      "Image not found: images/train\\173771.jpg\n",
      "Image not found: images/train\\173772.jpg\n",
      "Image not found: images/train\\173773.jpg\n",
      "Image not found: images/train\\173774.jpg\n",
      "Image not found: images/train\\173775.jpg\n",
      "Image not found: images/train\\173776.jpg\n",
      "Image not found: images/train\\173777.jpg\n",
      "Image not found: images/train\\173778.jpg\n",
      "Image not found: images/train\\173779.jpg\n",
      "Image not found: images/train\\173780.jpg\n",
      "Image not found: images/train\\173781.jpg\n",
      "Image not found: images/train\\173782.jpg\n",
      "Image not found: images/train\\173783.jpg\n",
      "Image not found: images/train\\173784.jpg\n",
      "Image not found: images/train\\173785.jpg\n",
      "Image not found: images/train\\173786.jpg\n",
      "Image not found: images/train\\173787.jpg\n",
      "Image not found: images/train\\173788.jpg\n",
      "Image not found: images/train\\173789.jpg\n",
      "Image not found: images/train\\173790.jpg\n",
      "Image not found: images/train\\173791.jpg\n",
      "Image not found: images/train\\173792.jpg\n",
      "Image not found: images/train\\173793.jpg\n",
      "Image not found: images/train\\173794.jpg\n",
      "Image not found: images/train\\173795.jpg\n",
      "Image not found: images/train\\173796.jpg\n",
      "Image not found: images/train\\173797.jpg\n",
      "Image not found: images/train\\173798.jpg\n",
      "Image not found: images/train\\173799.jpg\n",
      "Image not found: images/train\\173800.jpg\n",
      "Image not found: images/train\\173801.jpg\n",
      "Image not found: images/train\\173802.jpg\n",
      "Image not found: images/train\\173803.jpg\n",
      "Image not found: images/train\\173804.jpg\n",
      "Image not found: images/train\\173805.jpg\n",
      "Image not found: images/train\\173806.jpg\n",
      "Image not found: images/train\\173807.jpg\n",
      "Image not found: images/train\\173808.jpg\n",
      "Image not found: images/train\\173809.jpg\n",
      "Image not found: images/train\\173810.jpg\n",
      "Image not found: images/train\\173811.jpg\n",
      "Image not found: images/train\\173812.jpg\n",
      "Image not found: images/train\\173813.jpg\n",
      "Image not found: images/train\\173814.jpg\n",
      "Image not found: images/train\\173815.jpg\n",
      "Image not found: images/train\\173816.jpg\n",
      "Image not found: images/train\\173817.jpg\n",
      "Image not found: images/train\\173818.jpg\n",
      "Image not found: images/train\\173819.jpg\n",
      "Image not found: images/train\\173820.jpg\n",
      "Image not found: images/train\\173821.jpg\n",
      "Image not found: images/train\\173822.jpg\n",
      "Image not found: images/train\\173823.jpg\n",
      "Image not found: images/train\\173824.jpg\n",
      "Image not found: images/train\\173825.jpg\n",
      "Image not found: images/train\\173826.jpg\n",
      "Image not found: images/train\\173827.jpg\n",
      "Image not found: images/train\\173828.jpg\n",
      "Image not found: images/train\\173829.jpg\n",
      "Image not found: images/train\\173830.jpg\n",
      "Image not found: images/train\\173831.jpg\n",
      "Image not found: images/train\\173832.jpg\n",
      "Image not found: images/train\\173833.jpg\n",
      "Image not found: images/train\\173834.jpg\n",
      "Image not found: images/train\\173835.jpg\n",
      "Image not found: images/train\\173836.jpg\n",
      "Image not found: images/train\\173837.jpg\n",
      "Image not found: images/train\\173838.jpg\n",
      "Image not found: images/train\\173839.jpg\n",
      "Image not found: images/train\\173840.jpg\n",
      "Image not found: images/train\\173841.jpg\n",
      "Image not found: images/train\\173842.jpg\n",
      "Image not found: images/train\\173843.jpg\n",
      "Image not found: images/train\\173844.jpg\n",
      "Image not found: images/train\\173845.jpg\n",
      "Image not found: images/train\\173846.jpg\n",
      "Image not found: images/train\\173847.jpg\n",
      "Image not found: images/train\\173848.jpg\n",
      "Image not found: images/train\\173849.jpg\n",
      "Image not found: images/train\\173850.jpg\n",
      "Image not found: images/train\\173851.jpg\n",
      "Image not found: images/train\\173852.jpg\n",
      "Image not found: images/train\\173853.jpg\n",
      "Image not found: images/train\\173854.jpg\n",
      "Image not found: images/train\\173855.jpg\n",
      "Image not found: images/train\\173856.jpg\n",
      "Image not found: images/train\\173857.jpg\n",
      "Image not found: images/train\\173858.jpg\n",
      "Image not found: images/train\\173859.jpg\n",
      "Image not found: images/train\\173860.jpg\n",
      "Image not found: images/train\\173861.jpg\n",
      "Image not found: images/train\\173862.jpg\n",
      "Image not found: images/train\\173863.jpg\n",
      "Image not found: images/train\\173864.jpg\n",
      "Image not found: images/train\\173865.jpg\n",
      "Image not found: images/train\\173866.jpg\n",
      "Image not found: images/train\\173867.jpg\n",
      "Image not found: images/train\\173868.jpg\n",
      "Image not found: images/train\\173869.jpg\n",
      "Image not found: images/train\\173870.jpg\n",
      "Image not found: images/train\\173871.jpg\n",
      "Image not found: images/train\\173872.jpg\n",
      "Image not found: images/train\\173873.jpg\n",
      "Image not found: images/train\\173874.jpg\n",
      "Image not found: images/train\\173875.jpg\n",
      "Image not found: images/train\\173876.jpg\n",
      "Image not found: images/train\\173877.jpg\n",
      "Image not found: images/train\\173878.jpg\n",
      "Image not found: images/train\\173879.jpg\n",
      "Image not found: images/train\\173880.jpg\n",
      "Image not found: images/train\\173881.jpg\n",
      "Image not found: images/train\\173882.jpg\n",
      "Image not found: images/train\\173883.jpg\n",
      "Image not found: images/train\\173884.jpg\n",
      "Image not found: images/train\\173885.jpg\n",
      "Image not found: images/train\\173886.jpg\n",
      "Image not found: images/train\\173887.jpg\n",
      "Image not found: images/train\\173888.jpg\n",
      "Image not found: images/train\\173889.jpg\n",
      "Image not found: images/train\\173890.jpg\n",
      "Image not found: images/train\\173891.jpg\n",
      "Image not found: images/train\\173892.jpg\n",
      "Image not found: images/train\\173893.jpg\n",
      "Image not found: images/train\\173894.jpg\n",
      "Image not found: images/train\\173895.jpg\n",
      "Image not found: images/train\\173896.jpg\n",
      "Image not found: images/train\\173897.jpg\n",
      "Image not found: images/train\\173898.jpg\n",
      "Image not found: images/train\\173899.jpg\n",
      "Image not found: images/train\\173900.jpg\n",
      "Image not found: images/train\\173901.jpg\n",
      "Image not found: images/train\\173902.jpg\n",
      "Image not found: images/train\\173903.jpg\n",
      "Image not found: images/train\\173904.jpg\n",
      "Image not found: images/train\\173905.jpg\n",
      "Image not found: images/train\\173906.jpg\n",
      "Image not found: images/train\\173907.jpg\n",
      "Image not found: images/train\\173908.jpg\n",
      "Image not found: images/train\\173909.jpg\n",
      "Image not found: images/train\\173910.jpg\n",
      "Image not found: images/train\\173911.jpg\n",
      "Image not found: images/train\\173912.jpg\n",
      "Image not found: images/train\\173913.jpg\n",
      "Image not found: images/train\\173914.jpg\n",
      "Image not found: images/train\\173915.jpg\n",
      "Image not found: images/train\\173916.jpg\n",
      "Image not found: images/train\\173917.jpg\n",
      "Image not found: images/train\\173918.jpg\n",
      "Image not found: images/train\\173919.jpg\n",
      "Image not found: images/train\\173920.jpg\n",
      "Image not found: images/train\\173921.jpg\n",
      "Image not found: images/train\\173922.jpg\n",
      "Image not found: images/train\\173923.jpg\n",
      "Image not found: images/train\\173924.jpg\n",
      "Image not found: images/train\\173925.jpg\n",
      "Image not found: images/train\\173926.jpg\n",
      "Image not found: images/train\\173927.jpg\n",
      "Image not found: images/train\\173928.jpg\n",
      "Image not found: images/train\\173929.jpg\n",
      "Image not found: images/train\\173930.jpg\n",
      "Image not found: images/train\\173931.jpg\n",
      "Image not found: images/train\\173932.jpg\n",
      "Image not found: images/train\\173933.jpg\n",
      "Image not found: images/train\\173934.jpg\n",
      "Image not found: images/train\\173935.jpg\n",
      "Image not found: images/train\\173936.jpg\n",
      "Image not found: images/train\\173937.jpg\n",
      "Image not found: images/train\\173938.jpg\n",
      "Image not found: images/train\\173939.jpg\n",
      "Image not found: images/train\\173940.jpg\n",
      "Image not found: images/train\\173941.jpg\n",
      "Image not found: images/train\\173942.jpg\n",
      "Image not found: images/train\\173943.jpg\n",
      "Image not found: images/train\\173944.jpg\n",
      "Image not found: images/train\\173945.jpg\n",
      "Image not found: images/train\\173946.jpg\n",
      "Image not found: images/train\\173947.jpg\n",
      "Image not found: images/train\\173948.jpg\n",
      "Image not found: images/train\\173949.jpg\n",
      "Image not found: images/train\\173950.jpg\n",
      "Image not found: images/train\\173951.jpg\n",
      "Image not found: images/train\\173952.jpg\n",
      "Image not found: images/train\\173953.jpg\n",
      "Image not found: images/train\\173954.jpg\n",
      "Image not found: images/train\\173955.jpg\n",
      "Image not found: images/train\\173956.jpg\n",
      "Image not found: images/train\\173957.jpg\n",
      "Image not found: images/train\\173958.jpg\n",
      "Image not found: images/train\\173959.jpg\n",
      "Image not found: images/train\\173960.jpg\n",
      "Image not found: images/train\\173961.jpg\n",
      "Image not found: images/train\\173962.jpg\n",
      "Image not found: images/train\\173963.jpg\n",
      "Image not found: images/train\\173964.jpg\n",
      "Image not found: images/train\\173965.jpg\n",
      "Image not found: images/train\\173966.jpg\n",
      "Image not found: images/train\\173967.jpg\n",
      "Image not found: images/train\\173968.jpg\n",
      "Image not found: images/train\\173969.jpg\n",
      "Image not found: images/train\\173970.jpg\n",
      "Image not found: images/train\\173971.jpg\n",
      "Image not found: images/train\\173972.jpg\n",
      "Image not found: images/train\\173973.jpg\n",
      "Image not found: images/train\\173974.jpg\n",
      "Image not found: images/train\\173975.jpg\n",
      "Image not found: images/train\\173976.jpg\n",
      "Image not found: images/train\\173977.jpg\n",
      "Image not found: images/train\\173978.jpg\n",
      "Image not found: images/train\\173979.jpg\n",
      "Image not found: images/train\\173980.jpg\n",
      "Image not found: images/train\\173981.jpg\n",
      "Image not found: images/train\\173982.jpg\n",
      "Image not found: images/train\\173983.jpg\n",
      "Image not found: images/train\\173984.jpg\n",
      "Image not found: images/train\\173985.jpg\n",
      "Image not found: images/train\\173986.jpg\n",
      "Image not found: images/train\\173987.jpg\n",
      "Image not found: images/train\\173988.jpg\n",
      "Image not found: images/train\\173989.jpg\n",
      "Image not found: images/train\\173990.jpg\n",
      "Image not found: images/train\\173991.jpg\n",
      "Image not found: images/train\\173992.jpg\n",
      "Image not found: images/train\\173993.jpg\n",
      "Image not found: images/train\\173994.jpg\n",
      "Image not found: images/train\\173995.jpg\n",
      "Image not found: images/train\\173996.jpg\n",
      "Image not found: images/train\\173997.jpg\n",
      "Image not found: images/train\\173998.jpg\n",
      "Image not found: images/train\\173999.jpg\n"
     ]
    },
    {
     "name": "stderr",
     "output_type": "stream",
     "text": [
      "100%|██████████████████████████████████████████████████████████████████████████████| 2000/2000 [03:04<00:00, 10.86it/s]\n"
     ]
    },
    {
     "name": "stdout",
     "output_type": "stream",
     "text": [
      "Processed batch 87/132\n",
      "Image not found: images/train\\174000.jpgImage not found: images/train\\174001.jpg\n",
      "\n",
      "Image not found: images/train\\174002.jpg\n",
      "Image not found: images/train\\174003.jpg\n",
      "Image not found: images/train\\174004.jpg\n",
      "Image not found: images/train\\174005.jpg\n",
      "Image not found: images/train\\174006.jpg\n",
      "Image not found: images/train\\174007.jpg\n",
      "Image not found: images/train\\174008.jpg\n",
      "Image not found: images/train\\174010.jpg\n",
      "Image not found: images/train\\174009.jpg\n",
      "Image not found: images/train\\174011.jpg\n",
      "Image not found: images/train\\174012.jpg\n",
      "Image not found: images/train\\174014.jpg\n",
      "Image not found: images/train\\174013.jpg\n",
      "Image not found: images/train\\174015.jpg\n",
      "Image not found: images/train\\174016.jpg\n",
      "Image not found: images/train\\174017.jpg\n",
      "Image not found: images/train\\174018.jpg\n",
      "Image not found: images/train\\174019.jpg\n",
      "Image not found: images/train\\174020.jpg\n",
      "Image not found: images/train\\174021.jpg\n",
      "Image not found: images/train\\174022.jpg\n",
      "Image not found: images/train\\174024.jpg\n",
      "Image not found: images/train\\174023.jpg\n",
      "Image not found: images/train\\174025.jpg\n",
      "Image not found: images/train\\174026.jpg\n",
      "Image not found: images/train\\174027.jpg\n",
      "Image not found: images/train\\174028.jpg\n",
      "Image not found: images/train\\174029.jpg\n",
      "Image not found: images/train\\174030.jpg\n",
      "Image not found: images/train\\174031.jpg\n",
      "Image not found: images/train\\174032.jpg\n",
      "Image not found: images/train\\174033.jpg\n",
      "Image not found: images/train\\174036.jpg\n",
      "Image not found: images/train\\174038.jpg\n",
      "Image not found: images/train\\174035.jpg\n",
      "Image not found: images/train\\174037.jpg\n",
      "Image not found: images/train\\174034.jpg\n",
      "Image not found: images/train\\174039.jpg\n",
      "Image not found: images/train\\174040.jpg\n",
      "Image not found: images/train\\174041.jpg\n",
      "Image not found: images/train\\174043.jpg\n",
      "Image not found: images/train\\174042.jpg\n",
      "Image not found: images/train\\174045.jpg\n",
      "Image not found: images/train\\174044.jpg\n",
      "Image not found: images/train\\174046.jpg\n",
      "Image not found: images/train\\174047.jpg\n",
      "Image not found: images/train\\174048.jpg\n",
      "Image not found: images/train\\174049.jpg\n",
      "Image not found: images/train\\174052.jpg\n",
      "Image not found: images/train\\174053.jpg\n",
      "Image not found: images/train\\174050.jpg\n",
      "Image not found: images/train\\174051.jpg\n",
      "Image not found: images/train\\174056.jpg\n",
      "Image not found: images/train\\174054.jpg\n",
      "Image not found: images/train\\174055.jpg\n",
      "Image not found: images/train\\174057.jpg\n",
      "Image not found: images/train\\174058.jpg\n",
      "Image not found: images/train\\174059.jpg\n",
      "Image not found: images/train\\174060.jpg\n",
      "Image not found: images/train\\174061.jpg\n",
      "Image not found: images/train\\174066.jpg\n",
      "Image not found: images/train\\174064.jpg\n",
      "Image not found: images/train\\174063.jpg\n",
      "Image not found: images/train\\174062.jpg\n",
      "Image not found: images/train\\174065.jpg\n",
      "Image not found: images/train\\174067.jpg\n",
      "Image not found: images/train\\174069.jpg\n",
      "Image not found: images/train\\174068.jpg\n",
      "Image not found: images/train\\174072.jpg\n",
      "Image not found: images/train\\174071.jpg\n",
      "Image not found: images/train\\174070.jpg\n",
      "Image not found: images/train\\174073.jpg\n",
      "Image not found: images/train\\174074.jpg\n",
      "Image not found: images/train\\174075.jpg\n",
      "Image not found: images/train\\174076.jpg\n",
      "Image not found: images/train\\174077.jpg\n",
      "Image not found: images/train\\174078.jpg\n",
      "Image not found: images/train\\174079.jpg\n",
      "Image not found: images/train\\174080.jpg\n",
      "Image not found: images/train\\174083.jpg\n",
      "Image not found: images/train\\174085.jpg\n",
      "Image not found: images/train\\174082.jpg\n",
      "Image not found: images/train\\174084.jpg\n",
      "Image not found: images/train\\174081.jpg\n",
      "Image not found: images/train\\174086.jpg\n",
      "Image not found: images/train\\174087.jpg\n",
      "Image not found: images/train\\174089.jpg\n",
      "Image not found: images/train\\174090.jpg\n",
      "Image not found: images/train\\174088.jpg\n",
      "Image not found: images/train\\174093.jpg\n",
      "Image not found: images/train\\174094.jpg\n",
      "Image not found: images/train\\174092.jpg\n",
      "Image not found: images/train\\174091.jpg\n",
      "Image not found: images/train\\174095.jpg\n",
      "Image not found: images/train\\174097.jpg\n",
      "Image not found: images/train\\174098.jpg\n",
      "Image not found: images/train\\174099.jpg\n",
      "Image not found: images/train\\174096.jpg\n",
      "Image not found: images/train\\174100.jpg\n",
      "Image not found: images/train\\174101.jpg\n",
      "Image not found: images/train\\174102.jpg\n",
      "Image not found: images/train\\174104.jpg\n",
      "Image not found: images/train\\174107.jpg\n",
      "Image not found: images/train\\174109.jpg\n",
      "Image not found: images/train\\174110.jpg\n",
      "Image not found: images/train\\174111.jpg\n",
      "Image not found: images/train\\174108.jpg\n",
      "Image not found: images/train\\174103.jpg\n",
      "Image not found: images/train\\174106.jpg\n",
      "Image not found: images/train\\174116.jpg\n",
      "Image not found: images/train\\174117.jpg\n",
      "Image not found: images/train\\174118.jpg\n",
      "Image not found: images/train\\174119.jpg\n",
      "Image not found: images/train\\174120.jpg\n",
      "Image not found: images/train\\174121.jpg\n",
      "Image not found: images/train\\174115.jpg\n",
      "Image not found: images/train\\174123.jpg\n",
      "Image not found: images/train\\174124.jpg\n",
      "Image not found: images/train\\174125.jpg\n",
      "Image not found: images/train\\174126.jpg\n",
      "Image not found: images/train\\174127.jpg\n",
      "Image not found: images/train\\174128.jpg\n",
      "Image not found: images/train\\174129.jpg\n",
      "Image not found: images/train\\174122.jpg\n",
      "Image not found: images/train\\174105.jpg\n",
      "Image not found: images/train\\174131.jpg\n",
      "Image not found: images/train\\174112.jpg\n",
      "Image not found: images/train\\174130.jpg\n",
      "Image not found: images/train\\174135.jpg\n",
      "Image not found: images/train\\174113.jpg\n",
      "Image not found: images/train\\174134.jpg\n",
      "Image not found: images/train\\174140.jpg\n",
      "Image not found: images/train\\174141.jpg\n",
      "Image not found: images/train\\174138.jpg\n",
      "Image not found: images/train\\174139.jpg\n",
      "Image not found: images/train\\174145.jpg\n",
      "Image not found: images/train\\174146.jpg\n",
      "Image not found: images/train\\174142.jpg\n",
      "Image not found: images/train\\174133.jpg\n",
      "Image not found: images/train\\174151.jpg\n",
      "Image not found: images/train\\174152.jpg\n",
      "Image not found: images/train\\174153.jpg\n",
      "Image not found: images/train\\174154.jpg\n",
      "Image not found: images/train\\174155.jpg\n",
      "Image not found: images/train\\174156.jpg\n",
      "Image not found: images/train\\174157.jpg\n",
      "Image not found: images/train\\174158.jpg\n",
      "Image not found: images/train\\174159.jpg\n",
      "Image not found: images/train\\174150.jpg\n",
      "Image not found: images/train\\174136.jpg\n",
      "Image not found: images/train\\174144.jpg\n",
      "Image not found: images/train\\174137.jpg\n",
      "Image not found: images/train\\174114.jpg\n",
      "Image not found: images/train\\174132.jpg\n",
      "Image not found: images/train\\174147.jpg\n",
      "Image not found: images/train\\174148.jpg\n",
      "Image not found: images/train\\174149.jpg\n",
      "Image not found: images/train\\174170.jpg\n",
      "Image not found: images/train\\174143.jpg\n",
      "Image not found: images/train\\174163.jpg\n"
     ]
    },
    {
     "name": "stderr",
     "output_type": "stream",
     "text": [
      "  0%|                                                                                         | 0/2000 [00:00<?, ?it/s]"
     ]
    },
    {
     "name": "stdout",
     "output_type": "stream",
     "text": [
      "Image not found: images/train\\174160.jpg\n",
      "Image not found: images/train\\174171.jpg\n",
      "Image not found: images/train\\174173.jpg\n",
      "Image not found: images/train\\174177.jpg\n",
      "Image not found: images/train\\174178.jpg\n",
      "Image not found: images/train\\174174.jpg\n",
      "Image not found: images/train\\174180.jpg\n",
      "Image not found: images/train\\174164.jpg\n",
      "Image not found: images/train\\174183.jpg\n",
      "Image not found: images/train\\174184.jpg\n",
      "Image not found: images/train\\174185.jpg\n",
      "Image not found: images/train\\174186.jpg\n",
      "Image not found: images/train\\174172.jpg\n",
      "Image not found: images/train\\174176.jpg\n",
      "Image not found: images/train\\174168.jpg\n",
      "Image not found: images/train\\174179.jpg\n",
      "Image not found: images/train\\174191.jpg\n",
      "Image not found: images/train\\174192.jpg\n",
      "Image not found: images/train\\174182.jpg\n",
      "Image not found: images/train\\174194.jpg\n",
      "Image not found: images/train\\174195.jpg\n",
      "Image not found: images/train\\174166.jpg\n",
      "Image not found: images/train\\174197.jpg\n",
      "Image not found: images/train\\174198.jpg\n",
      "Image not found: images/train\\174187.jpg\n",
      "Image not found: images/train\\174162.jpg\n",
      "Image not found: images/train\\174202.jpg\n",
      "Image not found: images/train\\174161.jpg\n",
      "Image not found: images/train\\174188.jpg\n",
      "Image not found: images/train\\174204.jpg\n",
      "Image not found: images/train\\174189.jpg\n",
      "Image not found: images/train\\174181.jpg\n",
      "Image not found: images/train\\174193.jpg\n",
      "Image not found: images/train\\174208.jpg\n",
      "Image not found: images/train\\174209.jpg\n",
      "Image not found: images/train\\174210.jpg\n",
      "Image not found: images/train\\174211.jpg\n",
      "Image not found: images/train\\174212.jpg\n",
      "Image not found: images/train\\174213.jpg\n",
      "Image not found: images/train\\174200.jpg\n",
      "Image not found: images/train\\174201.jpg\n",
      "Image not found: images/train\\174207.jpg\n",
      "Image not found: images/train\\174175.jpg\n",
      "Image not found: images/train\\174196.jpg\n",
      "Image not found: images/train\\174167.jpg\n",
      "Image not found: images/train\\174169.jpg\n",
      "Image not found: images/train\\174199.jpg\n",
      "Image not found: images/train\\174223.jpg\n",
      "Image not found: images/train\\174224.jpg\n",
      "Image not found: images/train\\174225.jpg\n",
      "Image not found: images/train\\174226.jpg\n",
      "Image not found: images/train\\174227.jpg\n",
      "Image not found: images/train\\174228.jpg\n",
      "Image not found: images/train\\174229.jpg\n",
      "Image not found: images/train\\174230.jpg\n",
      "Image not found: images/train\\174231.jpg\n",
      "Image not found: images/train\\174232.jpg\n",
      "Image not found: images/train\\174233.jpg\n",
      "Image not found: images/train\\174165.jpg\n",
      "Image not found: images/train\\174215.jpg\n",
      "Image not found: images/train\\174237.jpg\n",
      "Image not found: images/train\\174238.jpg\n",
      "Image not found: images/train\\174239.jpg\n",
      "Image not found: images/train\\174218.jpg\n",
      "Image not found: images/train\\174205.jpg\n",
      "Image not found: images/train\\174241.jpg\n",
      "Image not found: images/train\\174242.jpg\n",
      "Image not found: images/train\\174243.jpg\n",
      "Image not found: images/train\\174244.jpg\n",
      "Image not found: images/train\\174245.jpg\n",
      "Image not found: images/train\\174246.jpg\n",
      "Image not found: images/train\\174247.jpg\n",
      "Image not found: images/train\\174248.jpg\n",
      "Image not found: images/train\\174249.jpg\n",
      "Image not found: images/train\\174250.jpg\n",
      "Image not found: images/train\\174251.jpg\n",
      "Image not found: images/train\\174252.jpg\n",
      "Image not found: images/train\\174253.jpg\n",
      "Image not found: images/train\\174254.jpg\n",
      "Image not found: images/train\\174217.jpg\n",
      "Image not found: images/train\\174203.jpg\n",
      "Image not found: images/train\\174257.jpg\n",
      "Image not found: images/train\\174258.jpg\n",
      "Image not found: images/train\\174206.jpg\n",
      "Image not found: images/train\\174219.jpg\n",
      "Image not found: images/train\\174261.jpg\n",
      "Image not found: images/train\\174262.jpg\n",
      "Image not found: images/train\\174236.jpg\n",
      "Image not found: images/train\\174265.jpg\n",
      "Image not found: images/train\\174266.jpg\n",
      "Image not found: images/train\\174220.jpg\n",
      "Image not found: images/train\\174222.jpg\n",
      "Image not found: images/train\\174268.jpg\n",
      "Image not found: images/train\\174216.jpg\n",
      "Image not found: images/train\\174272.jpg\n",
      "Image not found: images/train\\174275.jpg\n",
      "Image not found: images/train\\174259.jpg\n",
      "Image not found: images/train\\174278.jpg\n",
      "Image not found: images/train\\174279.jpg\n",
      "Image not found: images/train\\174263.jpg\n",
      "Image not found: images/train\\174281.jpg\n",
      "Image not found: images/train\\174282.jpg\n",
      "Image not found: images/train\\174283.jpg\n",
      "Image not found: images/train\\174284.jpg\n",
      "Image not found: images/train\\174214.jpg\n",
      "Image not found: images/train\\174270.jpg\n",
      "Image not found: images/train\\174287.jpg\n",
      "Image not found: images/train\\174288.jpg\n",
      "Image not found: images/train\\174255.jpg\n",
      "Image not found: images/train\\174290.jpg\n",
      "Image not found: images/train\\174291.jpg\n",
      "Image not found: images/train\\174240.jpg\n",
      "Image not found: images/train\\174273.jpg\n",
      "Image not found: images/train\\174274.jpg\n",
      "Image not found: images/train\\174276.jpg\n",
      "Image not found: images/train\\174260.jpg\n",
      "Image not found: images/train\\174296.jpg\n",
      "Image not found: images/train\\174297.jpg\n",
      "Image not found: images/train\\174298.jpg\n",
      "Image not found: images/train\\174299.jpg\n",
      "Image not found: images/train\\174264.jpg\n",
      "Image not found: images/train\\174221.jpg\n",
      "Image not found: images/train\\174267.jpg\n",
      "Image not found: images/train\\174303.jpg\n",
      "Image not found: images/train\\174269.jpg\n",
      "Image not found: images/train\\174285.jpg\n",
      "Image not found: images/train\\174306.jpg\n",
      "Image not found: images/train\\174307.jpg\n",
      "Image not found: images/train\\174308.jpg\n",
      "Image not found: images/train\\174309.jpg\n",
      "Image not found: images/train\\174310.jpg\n",
      "Image not found: images/train\\174311.jpg\n",
      "Image not found: images/train\\174292.jpg\n",
      "Image not found: images/train\\174293.jpg\n",
      "Image not found: images/train\\174294.jpg\n",
      "Image not found: images/train\\174295.jpg\n",
      "Image not found: images/train\\174277.jpg\n",
      "Image not found: images/train\\174234.jpg\n",
      "Image not found: images/train\\174235.jpg\n",
      "Image not found: images/train\\174319.jpg\n",
      "Image not found: images/train\\174300.jpg\n",
      "Image not found: images/train\\174321.jpg\n",
      "Image not found: images/train\\174302.jpg\n",
      "Image not found: images/train\\174323.jpg\n",
      "Image not found: images/train\\174305.jpg\n",
      "Image not found: images/train\\174286.jpg\n",
      "Image not found: images/train\\174326.jpg\n",
      "Image not found: images/train\\174328.jpg\n",
      "Image not found: images/train\\174256.jpg\n",
      "Image not found: images/train\\174330.jpg\n",
      "Image not found: images/train\\174331.jpg\n",
      "Image not found: images/train\\174190.jpg\n",
      "Image not found: images/train\\174314.jpg\n",
      "Image not found: images/train\\174333.jpg\n",
      "Image not found: images/train\\174334.jpg\n",
      "Image not found: images/train\\174317.jpg\n",
      "Image not found: images/train\\174318.jpg\n",
      "Image not found: images/train\\174320.jpg\n",
      "Image not found: images/train\\174339.jpg\n",
      "Image not found: images/train\\174301.jpg\n",
      "Image not found: images/train\\174341.jpg\n",
      "Image not found: images/train\\174322.jpg\n",
      "Image not found: images/train\\174342.jpg\n",
      "Image not found: images/train\\174343.jpg\n",
      "Image not found: images/train\\174344.jpg\n",
      "Image not found: images/train\\174345.jpg\n",
      "Image not found: images/train\\174289.jpg\n",
      "Image not found: images/train\\174312.jpg\n",
      "Image not found: images/train\\174336.jpg\n",
      "Image not found: images/train\\174337.jpg\n",
      "Image not found: images/train\\174350.jpg\n",
      "Image not found: images/train\\174351.jpg\n",
      "Image not found: images/train\\174352.jpg\n",
      "Image not found: images/train\\174353.jpg\n",
      "Image not found: images/train\\174354.jpg\n",
      "Image not found: images/train\\174355.jpg\n",
      "Image not found: images/train\\174356.jpg\n",
      "Image not found: images/train\\174357.jpg\n",
      "Image not found: images/train\\174346.jpg\n",
      "Image not found: images/train\\174347.jpg\n",
      "Image not found: images/train\\174360.jpg\n",
      "Image not found: images/train\\174361.jpg\n",
      "Image not found: images/train\\174313.jpg\n",
      "Image not found: images/train\\174349.jpg\n",
      "Image not found: images/train\\174332.jpg\n",
      "Image not found: images/train\\174365.jpg\n",
      "Image not found: images/train\\174315.jpg\n",
      "Image not found: images/train\\174335.jpg\n",
      "Image not found: images/train\\174338.jpg\n",
      "Image not found: images/train\\174368.jpg\n",
      "Image not found: images/train\\174370.jpg\n",
      "Image not found: images/train\\174371.jpg\n",
      "Image not found: images/train\\174373.jpg\n",
      "Image not found: images/train\\174374.jpg\n",
      "Image not found: images/train\\174325.jpg\n",
      "Image not found: images/train\\174271.jpg\n",
      "Image not found: images/train\\174358.jpg\n",
      "Image not found: images/train\\174377.jpg\n",
      "Image not found: images/train\\174329.jpg\n",
      "Image not found: images/train\\174348.jpg\n",
      "Image not found: images/train\\174362.jpg\n",
      "Image not found: images/train\\174363.jpg\n",
      "Image not found: images/train\\174364.jpg\n",
      "Image not found: images/train\\174383.jpg\n",
      "Image not found: images/train\\174384.jpg\n",
      "Image not found: images/train\\174385.jpg\n",
      "Image not found: images/train\\174386.jpg\n",
      "Image not found: images/train\\174280.jpg\n",
      "Image not found: images/train\\174389.jpg\n",
      "Image not found: images/train\\174340.jpg\n",
      "Image not found: images/train\\174372.jpg\n",
      "Image not found: images/train\\174391.jpg\n",
      "Image not found: images/train\\174392.jpg\n",
      "Image not found: images/train\\174393.jpg\n",
      "Image not found: images/train\\174394.jpg\n",
      "Image not found: images/train\\174395.jpg\n",
      "Image not found: images/train\\174396.jpg\n",
      "Image not found: images/train\\174378.jpg\n",
      "Image not found: images/train\\174399.jpg\n",
      "Image not found: images/train\\174380.jpg\n",
      "Image not found: images/train\\174381.jpg\n",
      "Image not found: images/train\\174402.jpg\n",
      "Image not found: images/train\\174316.jpg\n",
      "Image not found: images/train\\174366.jpg\n",
      "Image not found: images/train\\174404.jpg\n",
      "Image not found: images/train\\174405.jpg\n",
      "Image not found: images/train\\174387.jpg\n",
      "Image not found: images/train\\174408.jpg\n",
      "Image not found: images/train\\174324.jpg\n",
      "Image not found: images/train\\174390.jpg\n",
      "Image not found: images/train\\174410.jpg\n",
      "Image not found: images/train\\174411.jpg\n",
      "Image not found: images/train\\174376.jpg\n",
      "Image not found: images/train\\174375.jpg\n",
      "Image not found: images/train\\174359.jpg\n",
      "Image not found: images/train\\174397.jpg\n",
      "Image not found: images/train\\174416.jpg\n",
      "Image not found: images/train\\174417.jpg\n",
      "Image not found: images/train\\174418.jpg\n",
      "Image not found: images/train\\174419.jpg\n",
      "Image not found: images/train\\174382.jpg\n",
      "Image not found: images/train\\174403.jpg\n",
      "Image not found: images/train\\174367.jpg\n",
      "Image not found: images/train\\174423.jpg\n",
      "Image not found: images/train\\174424.jpg\n",
      "Image not found: images/train\\174425.jpg\n",
      "Image not found: images/train\\174427.jpg\n",
      "Image not found: images/train\\174428.jpg\n",
      "Image not found: images/train\\174429.jpg\n",
      "Image not found: images/train\\174327.jpg\n",
      "Image not found: images/train\\174431.jpg\n",
      "Image not found: images/train\\174413.jpg\n",
      "Image not found: images/train\\174433.jpg\n",
      "Image not found: images/train\\174415.jpg\n",
      "Image not found: images/train\\174434.jpg\n",
      "Image not found: images/train\\174435.jpg\n",
      "Image not found: images/train\\174436.jpg\n",
      "Image not found: images/train\\174437.jpg\n",
      "Image not found: images/train\\174438.jpg\n",
      "Image not found: images/train\\174439.jpg\n",
      "Image not found: images/train\\174440.jpg\n",
      "Image not found: images/train\\174421.jpg\n",
      "Image not found: images/train\\174369.jpg\n",
      "Image not found: images/train\\174443.jpg\n",
      "Image not found: images/train\\174426.jpg\n",
      "Image not found: images/train\\174445.jpg\n",
      "Image not found: images/train\\174446.jpg\n",
      "Image not found: images/train\\174447.jpg\n",
      "Image not found: images/train\\174448.jpg\n",
      "Image not found: images/train\\174449.jpg\n",
      "Image not found: images/train\\174450.jpg\n",
      "Image not found: images/train\\174451.jpg\n",
      "Image not found: images/train\\174452.jpg\n",
      "Image not found: images/train\\174453.jpg\n",
      "Image not found: images/train\\174454.jpg\n",
      "Image not found: images/train\\174455.jpg\n",
      "Image not found: images/train\\174456.jpg\n",
      "Image not found: images/train\\174457.jpg\n",
      "Image not found: images/train\\174458.jpg\n",
      "Image not found: images/train\\174459.jpg\n",
      "Image not found: images/train\\174460.jpg\n",
      "Image not found: images/train\\174461.jpg\n",
      "Image not found: images/train\\174462.jpg\n",
      "Image not found: images/train\\174463.jpg\n",
      "Image not found: images/train\\174464.jpg\n",
      "Image not found: images/train\\174465.jpg\n",
      "Image not found: images/train\\174430.jpg\n",
      "Image not found: images/train\\174412.jpg\n",
      "Image not found: images/train\\174468.jpg\n",
      "Image not found: images/train\\174469.jpg\n",
      "Image not found: images/train\\174470.jpg\n",
      "Image not found: images/train\\174398.jpg\n",
      "Image not found: images/train\\174472.jpg\n",
      "Image not found: images/train\\174473.jpg\n",
      "Image not found: images/train\\174474.jpg\n",
      "Image not found: images/train\\174475.jpg\n",
      "Image not found: images/train\\174476.jpg\n",
      "Image not found: images/train\\174477.jpg\n",
      "Image not found: images/train\\174478.jpg\n",
      "Image not found: images/train\\174479.jpg\n",
      "Image not found: images/train\\174442.jpg\n",
      "Image not found: images/train\\174388.jpg\n",
      "Image not found: images/train\\174482.jpg\n",
      "Image not found: images/train\\174483.jpg\n",
      "Image not found: images/train\\174484.jpg\n",
      "Image not found: images/train\\174485.jpg\n",
      "Image not found: images/train\\174486.jpg\n",
      "Image not found: images/train\\174487.jpg\n",
      "Image not found: images/train\\174488.jpg\n",
      "Image not found: images/train\\174489.jpg\n",
      "Image not found: images/train\\174420.jpg\n",
      "Image not found: images/train\\174400.jpg\n",
      "Image not found: images/train\\174422.jpg\n",
      "Image not found: images/train\\174441.jpg\n",
      "Image not found: images/train\\174494.jpg\n",
      "Image not found: images/train\\174406.jpg\n",
      "Image not found: images/train\\174407.jpg\n",
      "Image not found: images/train\\174480.jpg\n",
      "Image not found: images/train\\174499.jpg\n",
      "Image not found: images/train\\174409.jpg\n",
      "Image not found: images/train\\174304.jpg\n",
      "Image not found: images/train\\174466.jpg\n",
      "Image not found: images/train\\174432.jpg\n",
      "Image not found: images/train\\174414.jpg\n",
      "Image not found: images/train\\174379.jpg\n",
      "Image not found: images/train\\174401.jpg\n",
      "Image not found: images/train\\174490.jpg\n",
      "Image not found: images/train\\174491.jpg\n",
      "Image not found: images/train\\174496.jpg\n",
      "Image not found: images/train\\174481.jpg\n",
      "Image not found: images/train\\174467.jpg\n",
      "Image not found: images/train\\174493.jpg\n",
      "Image not found: images/train\\174495.jpg\n",
      "Image not found: images/train\\174444.jpg\n",
      "Image not found: images/train\\174497.jpg\n",
      "Image not found: images/train\\174498.jpg\n",
      "Image not found: images/train\\174492.jpg\n",
      "Image not found: images/train\\174502.jpg\n"
     ]
    },
    {
     "name": "stderr",
     "output_type": "stream",
     "text": [
      "100%|██████████████████████████████████████████████████████████████████████████████| 2000/2000 [03:04<00:00, 10.84it/s]\n"
     ]
    },
    {
     "name": "stdout",
     "output_type": "stream",
     "text": [
      "Processed batch 88/132\n"
     ]
    },
    {
     "name": "stderr",
     "output_type": "stream",
     "text": [
      " 54%|██████████████████████████████████████████▏                                   | 1083/2000 [02:35<02:59,  5.12it/s]"
     ]
    },
    {
     "name": "stdout",
     "output_type": "stream",
     "text": [
      "Image not found: images/train\\177335.jpg\n"
     ]
    },
    {
     "name": "stderr",
     "output_type": "stream",
     "text": [
      " 64%|█████████████████████████████████████████████████▊                            | 1276/2000 [02:43<01:13,  9.88it/s]"
     ]
    },
    {
     "name": "stdout",
     "output_type": "stream",
     "text": [
      "Image not found: images/train\\177409.jpg\n"
     ]
    },
    {
     "name": "stderr",
     "output_type": "stream",
     "text": [
      "100%|██████████████████████████████████████████████████████████████████████████████| 2000/2000 [03:59<00:00,  8.34it/s]\n"
     ]
    },
    {
     "name": "stdout",
     "output_type": "stream",
     "text": [
      "Processed batch 89/132\n"
     ]
    },
    {
     "name": "stderr",
     "output_type": "stream",
     "text": [
      "  6%|████▋                                                                          | 118/2000 [00:25<06:45,  4.64it/s]"
     ]
    },
    {
     "name": "stdout",
     "output_type": "stream",
     "text": [
      "Image not found: images/train\\178277.jpg\n"
     ]
    },
    {
     "name": "stderr",
     "output_type": "stream",
     "text": [
      " 77%|████████████████████████████████████████████████████████████                  | 1540/2000 [02:57<00:50,  9.05it/s]"
     ]
    },
    {
     "name": "stdout",
     "output_type": "stream",
     "text": [
      "Image not found: images/train\\179645.jpg\n"
     ]
    },
    {
     "name": "stderr",
     "output_type": "stream",
     "text": [
      "100%|██████████████████████████████████████████████████████████████████████████████| 2000/2000 [03:38<00:00,  9.14it/s]\n"
     ]
    },
    {
     "name": "stdout",
     "output_type": "stream",
     "text": [
      "Processed batch 90/132\n"
     ]
    },
    {
     "name": "stderr",
     "output_type": "stream",
     "text": [
      "100%|██████████████████████████████████████████████████████████████████████████████| 2000/2000 [03:42<00:00,  8.97it/s]\n"
     ]
    },
    {
     "name": "stdout",
     "output_type": "stream",
     "text": [
      "Processed batch 91/132\n"
     ]
    },
    {
     "name": "stderr",
     "output_type": "stream",
     "text": [
      "100%|██████████████████████████████████████████████████████████████████████████████| 2000/2000 [04:48<00:00,  6.94it/s]\n"
     ]
    },
    {
     "name": "stdout",
     "output_type": "stream",
     "text": [
      "Processed batch 92/132\n"
     ]
    },
    {
     "name": "stderr",
     "output_type": "stream",
     "text": [
      "100%|██████████████████████████████████████████████████████████████████████████████| 2000/2000 [03:46<00:00,  8.82it/s]\n"
     ]
    },
    {
     "name": "stdout",
     "output_type": "stream",
     "text": [
      "Processed batch 93/132\n"
     ]
    },
    {
     "name": "stderr",
     "output_type": "stream",
     "text": [
      "100%|██████████████████████████████████████████████████████████████████████████████| 2000/2000 [03:46<00:00,  8.84it/s]\n"
     ]
    },
    {
     "name": "stdout",
     "output_type": "stream",
     "text": [
      "Processed batch 94/132\n"
     ]
    },
    {
     "name": "stderr",
     "output_type": "stream",
     "text": [
      " 24%|██████████████████▉                                                            | 480/2000 [01:01<03:15,  7.79it/s]"
     ]
    },
    {
     "name": "stdout",
     "output_type": "stream",
     "text": [
      "Image not found: images/train\\188607.jpg\n",
      "Image not found: images/train\\188609.jpg\n",
      "Image not found: images/train\\188610.jpg\n",
      "Image not found: images/train\\188611.jpg\n",
      "Image not found: images/train\\188612.jpg\n",
      "Image not found: images/train\\188613.jpg\n",
      "Image not found: images/train\\188614.jpg\n",
      "Image not found: images/train\\188615.jpg\n",
      "Image not found: images/train\\188616.jpg\n",
      "Image not found: images/train\\188617.jpg\n",
      "Image not found: images/train\\188618.jpg\n",
      "Image not found: images/train\\188619.jpg\n",
      "Image not found: images/train\\188620.jpg\n",
      "Image not found: images/train\\188621.jpg\n",
      "Image not found: images/train\\188622.jpg\n",
      "Image not found: images/train\\188623.jpg\n",
      "Image not found: images/train\\188624.jpg\n",
      "Image not found: images/train\\188625.jpg\n",
      "Image not found: images/train\\188626.jpg\n",
      "Image not found: images/train\\188627.jpg\n",
      "Image not found: images/train\\188628.jpg\n",
      "Image not found: images/train\\188630.jpg\n",
      "Image not found: images/train\\188631.jpg\n",
      "Image not found: images/train\\188632.jpg\n",
      "Image not found: images/train\\188633.jpg\n",
      "Image not found: images/train\\188634.jpg\n",
      "Image not found: images/train\\188635.jpg\n",
      "Image not found: images/train\\188636.jpg\n",
      "Image not found: images/train\\188637.jpg\n",
      "Image not found: images/train\\188638.jpg\n",
      "Image not found: images/train\\188639.jpg\n",
      "Image not found: images/train\\188640.jpg\n",
      "Image not found: images/train\\188641.jpg\n",
      "Image not found: images/train\\188642.jpg\n",
      "Image not found: images/train\\188643.jpg\n",
      "Image not found: images/train\\188644.jpg\n",
      "Image not found: images/train\\188645.jpg\n",
      "Image not found: images/train\\188646.jpg\n",
      "Image not found: images/train\\188648.jpg\n",
      "Image not found: images/train\\188651.jpg\n",
      "Image not found: images/train\\188652.jpg\n",
      "Image not found: images/train\\188653.jpg\n",
      "Image not found: images/train\\188654.jpg\n",
      "Image not found: images/train\\188655.jpg\n",
      "Image not found: images/train\\188656.jpg\n",
      "Image not found: images/train\\188657.jpg\n",
      "Image not found: images/train\\188658.jpg\n",
      "Image not found: images/train\\188659.jpg\n",
      "Image not found: images/train\\188660.jpg\n",
      "Image not found: images/train\\188662.jpg\n",
      "Image not found: images/train\\188663.jpg\n",
      "Image not found: images/train\\188664.jpg\n",
      "Image not found: images/train\\188665.jpg\n",
      "Image not found: images/train\\188666.jpg\n",
      "Image not found: images/train\\188667.jpg\n",
      "Image not found: images/train\\188668.jpg\n",
      "Image not found: images/train\\188669.jpg\n",
      "Image not found: images/train\\188670.jpg\n",
      "Image not found: images/train\\188671.jpg\n",
      "Image not found: images/train\\188672.jpg\n",
      "Image not found: images/train\\188673.jpg\n",
      "Image not found: images/train\\188674.jpg\n",
      "Image not found: images/train\\188675.jpg\n",
      "Image not found: images/train\\188676.jpg\n",
      "Image not found: images/train\\188677.jpg\n",
      "Image not found: images/train\\188678.jpg\n",
      "Image not found: images/train\\188679.jpg\n",
      "Image not found: images/train\\188680.jpg\n",
      "Image not found: images/train\\188681.jpg\n",
      "Image not found: images/train\\188682.jpg\n",
      "Image not found: images/train\\188683.jpg\n",
      "Image not found: images/train\\188684.jpg\n",
      "Image not found: images/train\\188685.jpg\n",
      "Image not found: images/train\\188686.jpg\n",
      "Image not found: images/train\\188687.jpg\n",
      "Image not found: images/train\\188688.jpg\n",
      "Image not found: images/train\\188689.jpg\n",
      "Image not found: images/train\\188690.jpg\n",
      "Image not found: images/train\\188691.jpg\n",
      "Image not found: images/train\\188692.jpg\n",
      "Image not found: images/train\\188693.jpg\n",
      "Image not found: images/train\\188694.jpg\n",
      "Image not found: images/train\\188695.jpg\n",
      "Image not found: images/train\\188696.jpg\n",
      "Image not found: images/train\\188697.jpg\n",
      "Image not found: images/train\\188698.jpg\n",
      "Image not found: images/train\\188699.jpg\n",
      "Image not found: images/train\\188700.jpg\n",
      "Image not found: images/train\\188701.jpg\n",
      "Image not found: images/train\\188702.jpg\n",
      "Image not found: images/train\\188703.jpg\n",
      "Image not found: images/train\\188704.jpg\n",
      "Image not found: images/train\\188705.jpg\n",
      "Image not found: images/train\\188706.jpg\n",
      "Image not found: images/train\\188707.jpg\n",
      "Image not found: images/train\\188708.jpg\n",
      "Image not found: images/train\\188709.jpg\n",
      "Image not found: images/train\\188710.jpg\n",
      "Image not found: images/train\\188711.jpg\n",
      "Image not found: images/train\\188712.jpg\n",
      "Image not found: images/train\\188713.jpg\n",
      "Image not found: images/train\\188714.jpg\n",
      "Image not found: images/train\\188715.jpg\n",
      "Image not found: images/train\\188716.jpg\n",
      "Image not found: images/train\\188717.jpg\n",
      "Image not found: images/train\\188718.jpg\n",
      "Image not found: images/train\\188719.jpg\n",
      "Image not found: images/train\\188720.jpg\n",
      "Image not found: images/train\\188721.jpg\n",
      "Image not found: images/train\\188722.jpg\n",
      "Image not found: images/train\\188723.jpg\n",
      "Image not found: images/train\\188724.jpg\n",
      "Image not found: images/train\\188725.jpg\n",
      "Image not found: images/train\\188726.jpg\n",
      "Image not found: images/train\\188727.jpg\n",
      "Image not found: images/train\\188728.jpg\n",
      "Image not found: images/train\\188729.jpg\n",
      "Image not found: images/train\\188730.jpg\n",
      "Image not found: images/train\\188731.jpg\n",
      "Image not found: images/train\\188732.jpg\n",
      "Image not found: images/train\\188733.jpg\n",
      "Image not found: images/train\\188734.jpg\n",
      "Image not found: images/train\\188735.jpg\n",
      "Image not found: images/train\\188736.jpg\n",
      "Image not found: images/train\\188737.jpg\n",
      "Image not found: images/train\\188738.jpg\n",
      "Image not found: images/train\\188739.jpg\n",
      "Image not found: images/train\\188740.jpg\n",
      "Image not found: images/train\\188741.jpg\n",
      "Image not found: images/train\\188742.jpg\n",
      "Image not found: images/train\\188743.jpg\n",
      "Image not found: images/train\\188744.jpg\n",
      "Image not found: images/train\\188745.jpg\n",
      "Image not found: images/train\\188746.jpg\n",
      "Image not found: images/train\\188747.jpg\n",
      "Image not found: images/train\\188748.jpg\n",
      "Image not found: images/train\\188749.jpg\n",
      "Image not found: images/train\\188750.jpg\n",
      "Image not found: images/train\\188751.jpg\n",
      "Image not found: images/train\\188752.jpg\n",
      "Image not found: images/train\\188753.jpg\n",
      "Image not found: images/train\\188754.jpg\n",
      "Image not found: images/train\\188755.jpg\n",
      "Image not found: images/train\\188756.jpg\n",
      "Image not found: images/train\\188757.jpg\n",
      "Image not found: images/train\\188758.jpg\n",
      "Image not found: images/train\\188759.jpg\n",
      "Image not found: images/train\\188760.jpg\n",
      "Image not found: images/train\\188761.jpg\n",
      "Image not found: images/train\\188762.jpg\n",
      "Image not found: images/train\\188763.jpg\n",
      "Image not found: images/train\\188764.jpg\n",
      "Image not found: images/train\\188765.jpg\n",
      "Image not found: images/train\\188766.jpg\n",
      "Image not found: images/train\\188767.jpg\n",
      "Image not found: images/train\\188768.jpg\n",
      "Image not found: images/train\\188769.jpg\n",
      "Image not found: images/train\\188770.jpg\n",
      "Image not found: images/train\\188771.jpg\n",
      "Image not found: images/train\\188772.jpg\n",
      "Image not found: images/train\\188773.jpg\n",
      "Image not found: images/train\\188774.jpg\n",
      "Image not found: images/train\\188775.jpg\n",
      "Image not found: images/train\\188776.jpg\n",
      "Image not found: images/train\\188777.jpg\n",
      "Image not found: images/train\\188778.jpg\n",
      "Image not found: images/train\\188779.jpg\n",
      "Image not found: images/train\\188780.jpg\n",
      "Image not found: images/train\\188781.jpg\n",
      "Image not found: images/train\\188782.jpg\n",
      "Image not found: images/train\\188783.jpg\n",
      "Image not found: images/train\\188784.jpg\n",
      "Image not found: images/train\\188785.jpg\n",
      "Image not found: images/train\\188786.jpg\n",
      "Image not found: images/train\\188787.jpg\n",
      "Image not found: images/train\\188788.jpg\n",
      "Image not found: images/train\\188789.jpg\n",
      "Image not found: images/train\\188790.jpg\n",
      "Image not found: images/train\\188791.jpg\n",
      "Image not found: images/train\\188792.jpg\n",
      "Image not found: images/train\\188793.jpg\n",
      "Image not found: images/train\\188794.jpg\n",
      "Image not found: images/train\\188795.jpg\n",
      "Image not found: images/train\\188796.jpg\n",
      "Image not found: images/train\\188797.jpg\n",
      "Image not found: images/train\\188798.jpg\n",
      "Image not found: images/train\\188799.jpg\n",
      "Image not found: images/train\\188800.jpg\n",
      "Image not found: images/train\\188801.jpg\n",
      "Image not found: images/train\\188802.jpg\n",
      "Image not found: images/train\\188803.jpg\n",
      "Image not found: images/train\\188804.jpg\n",
      "Image not found: images/train\\188805.jpg\n",
      "Image not found: images/train\\188806.jpg\n",
      "Image not found: images/train\\188807.jpg\n",
      "Image not found: images/train\\188808.jpg\n",
      "Image not found: images/train\\188809.jpg\n",
      "Image not found: images/train\\188810.jpg\n",
      "Image not found: images/train\\188811.jpg\n",
      "Image not found: images/train\\188812.jpg\n",
      "Image not found: images/train\\188813.jpg\n",
      "Image not found: images/train\\188814.jpg\n",
      "Image not found: images/train\\188815.jpg\n",
      "Image not found: images/train\\188816.jpg\n",
      "Image not found: images/train\\188817.jpg\n",
      "Image not found: images/train\\188818.jpg\n",
      "Image not found: images/train\\188819.jpg\n",
      "Image not found: images/train\\188820.jpg\n",
      "Image not found: images/train\\188821.jpg\n",
      "Image not found: images/train\\188822.jpg\n",
      "Image not found: images/train\\188823.jpg\n",
      "Image not found: images/train\\188824.jpg\n",
      "Image not found: images/train\\188825.jpg\n",
      "Image not found: images/train\\188826.jpg\n",
      "Image not found: images/train\\188827.jpg\n",
      "Image not found: images/train\\188828.jpg\n",
      "Image not found: images/train\\188829.jpg\n",
      "Image not found: images/train\\188830.jpg\n",
      "Image not found: images/train\\188831.jpg\n",
      "Image not found: images/train\\188832.jpg\n",
      "Image not found: images/train\\188833.jpg\n",
      "Image not found: images/train\\188834.jpg\n",
      "Image not found: images/train\\188835.jpg\n",
      "Image not found: images/train\\188836.jpg\n",
      "Image not found: images/train\\188837.jpg\n",
      "Image not found: images/train\\188838.jpg\n",
      "Image not found: images/train\\188839.jpg\n",
      "Image not found: images/train\\188840.jpg\n",
      "Image not found: images/train\\188841.jpg\n",
      "Image not found: images/train\\188842.jpg\n",
      "Image not found: images/train\\188843.jpg\n",
      "Image not found: images/train\\188844.jpg\n",
      "Image not found: images/train\\188845.jpg\n",
      "Image not found: images/train\\188846.jpg\n",
      "Image not found: images/train\\188849.jpg\n",
      "Image not found: images/train\\188850.jpg\n",
      "Image not found: images/train\\188851.jpg\n",
      "Image not found: images/train\\188852.jpg\n",
      "Image not found: images/train\\188853.jpg\n",
      "Image not found: images/train\\188854.jpg\n",
      "Image not found: images/train\\188855.jpg\n",
      "Image not found: images/train\\188856.jpg\n",
      "Image not found: images/train\\188857.jpg\n",
      "Image not found: images/train\\188858.jpg\n",
      "Image not found: images/train\\188860.jpg\n",
      "Image not found: images/train\\188861.jpg\n",
      "Image not found: images/train\\188862.jpg\n",
      "Image not found: images/train\\188863.jpg\n",
      "Image not found: images/train\\188864.jpg\n",
      "Image not found: images/train\\188865.jpg\n",
      "Image not found: images/train\\188866.jpg\n",
      "Image not found: images/train\\188867.jpg\n",
      "Image not found: images/train\\188868.jpg\n",
      "Image not found: images/train\\188869.jpg\n",
      "Image not found: images/train\\188870.jpg\n",
      "Image not found: images/train\\188871.jpg\n",
      "Image not found: images/train\\188872.jpg\n",
      "Image not found: images/train\\188873.jpg\n",
      "Image not found: images/train\\188874.jpg\n",
      "Image not found: images/train\\188875.jpg\n",
      "Image not found: images/train\\188877.jpg\n",
      "Image not found: images/train\\188878.jpg\n",
      "Image not found: images/train\\188879.jpg\n",
      "Image not found: images/train\\188880.jpg\n",
      "Image not found: images/train\\188881.jpg\n",
      "Image not found: images/train\\188882.jpg\n",
      "Image not found: images/train\\188883.jpg\n",
      "Image not found: images/train\\188884.jpg\n",
      "Image not found: images/train\\188885.jpg\n",
      "Image not found: images/train\\188886.jpg\n",
      "Image not found: images/train\\188887.jpg\n",
      "Image not found: images/train\\188888.jpg\n",
      "Image not found: images/train\\188889.jpg\n",
      "Image not found: images/train\\188890.jpg\n",
      "Image not found: images/train\\188891.jpg\n",
      "Image not found: images/train\\188892.jpg\n",
      "Image not found: images/train\\188893.jpg\n",
      "Image not found: images/train\\188894.jpg\n",
      "Image not found: images/train\\188895.jpg\n",
      "Image not found: images/train\\188896.jpg\n",
      "Image not found: images/train\\188897.jpg\n",
      "Image not found: images/train\\188898.jpg\n",
      "Image not found: images/train\\188899.jpg\n",
      "Image not found: images/train\\188900.jpg\n",
      "Image not found: images/train\\188901.jpg\n",
      "Image not found: images/train\\188902.jpg\n",
      "Image not found: images/train\\188903.jpg\n",
      "Image not found: images/train\\188904.jpg\n",
      "Image not found: images/train\\188905.jpg\n",
      "Image not found: images/train\\188906.jpg\n",
      "Image not found: images/train\\188907.jpg\n",
      "Image not found: images/train\\188908.jpg\n",
      "Image not found: images/train\\188909.jpg\n",
      "Image not found: images/train\\188910.jpg\n",
      "Image not found: images/train\\188915.jpg\n",
      "Image not found: images/train\\188916.jpg\n",
      "Image not found: images/train\\188919.jpg\n",
      "Image not found: images/train\\188920.jpg\n",
      "Image not found: images/train\\188922.jpg\n",
      "Image not found: images/train\\188923.jpg\n",
      "Image not found: images/train\\188924.jpg\n",
      "Image not found: images/train\\188925.jpg\n",
      "Image not found: images/train\\188926.jpg\n",
      "Image not found: images/train\\188927.jpg\n",
      "Image not found: images/train\\188928.jpg\n",
      "Image not found: images/train\\188929.jpg\n",
      "Image not found: images/train\\188930.jpg\n",
      "Image not found: images/train\\188931.jpg\n",
      "Image not found: images/train\\188932.jpg\n",
      "Image not found: images/train\\188933.jpg\n",
      "Image not found: images/train\\188934.jpg\n",
      "Image not found: images/train\\188935.jpg\n",
      "Image not found: images/train\\188936.jpg\n",
      "Image not found: images/train\\188937.jpg\n",
      "Image not found: images/train\\188938.jpg\n",
      "Image not found: images/train\\188939.jpg\n",
      "Image not found: images/train\\188940.jpg\n",
      "Image not found: images/train\\188941.jpg\n",
      "Image not found: images/train\\188942.jpg\n",
      "Image not found: images/train\\188943.jpg\n",
      "Image not found: images/train\\188944.jpg\n",
      "Image not found: images/train\\188945.jpg\n",
      "Image not found: images/train\\188946.jpg\n",
      "Image not found: images/train\\188947.jpg\n",
      "Image not found: images/train\\188948.jpg\n",
      "Image not found: images/train\\188949.jpg\n",
      "Image not found: images/train\\188950.jpg\n",
      "Image not found: images/train\\188951.jpg\n",
      "Image not found: images/train\\188952.jpg\n",
      "Image not found: images/train\\188953.jpg\n",
      "Image not found: images/train\\188954.jpg\n",
      "Image not found: images/train\\188955.jpg\n",
      "Image not found: images/train\\188956.jpg\n",
      "Image not found: images/train\\188957.jpg\n",
      "Image not found: images/train\\188958.jpg\n",
      "Image not found: images/train\\188959.jpg\n",
      "Image not found: images/train\\188960.jpg\n",
      "Image not found: images/train\\188961.jpg\n",
      "Image not found: images/train\\188962.jpg\n",
      "Image not found: images/train\\188963.jpg\n",
      "Image not found: images/train\\188964.jpg\n",
      "Image not found: images/train\\188965.jpg\n",
      "Image not found: images/train\\188966.jpg\n",
      "Image not found: images/train\\188967.jpg\n"
     ]
    },
    {
     "name": "stderr",
     "output_type": "stream",
     "text": [
      "100%|██████████████████████████████████████████████████████████████████████████████| 2000/2000 [03:06<00:00, 10.74it/s]\n"
     ]
    },
    {
     "name": "stdout",
     "output_type": "stream",
     "text": [
      "Processed batch 95/132\n"
     ]
    },
    {
     "name": "stderr",
     "output_type": "stream",
     "text": [
      " 10%|███████▊                                                                       | 198/2000 [00:30<04:58,  6.04it/s]"
     ]
    },
    {
     "name": "stdout",
     "output_type": "stream",
     "text": [
      "Image not found: images/train\\190297.jpg\n"
     ]
    },
    {
     "name": "stderr",
     "output_type": "stream",
     "text": [
      " 73%|█████████████████████████████████████████████████████████                     | 1464/2000 [02:59<01:29,  6.00it/s]"
     ]
    },
    {
     "name": "stdout",
     "output_type": "stream",
     "text": [
      "Image not found: images/train\\191552.jpg\n"
     ]
    },
    {
     "name": "stderr",
     "output_type": "stream",
     "text": [
      "100%|██████████████████████████████████████████████████████████████████████████████| 2000/2000 [03:55<00:00,  8.48it/s]\n"
     ]
    },
    {
     "name": "stdout",
     "output_type": "stream",
     "text": [
      "Processed batch 96/132\n"
     ]
    },
    {
     "name": "stderr",
     "output_type": "stream",
     "text": [
      " 18%|██████████████▏                                                                | 358/2000 [00:53<04:03,  6.73it/s]"
     ]
    },
    {
     "name": "stdout",
     "output_type": "stream",
     "text": [
      "Image not found: images/train\\192535.jpg\n"
     ]
    },
    {
     "name": "stderr",
     "output_type": "stream",
     "text": [
      " 83%|████████████████████████████████████████████████████████████████▍             | 1653/2000 [03:26<01:24,  4.09it/s]"
     ]
    },
    {
     "name": "stdout",
     "output_type": "stream",
     "text": [
      "Image not found: images/train\\193837.jpg\n"
     ]
    },
    {
     "name": "stderr",
     "output_type": "stream",
     "text": [
      "100%|██████████████████████████████████████████████████████████████████████████████| 2000/2000 [03:55<00:00,  8.50it/s]\n"
     ]
    },
    {
     "name": "stdout",
     "output_type": "stream",
     "text": [
      "Processed batch 97/132\n"
     ]
    },
    {
     "name": "stderr",
     "output_type": "stream",
     "text": [
      " 95%|█████████████████████████████████████████████████████████████████████████▊    | 1894/2000 [03:42<00:10, 10.41it/s]"
     ]
    },
    {
     "name": "stdout",
     "output_type": "stream",
     "text": [
      "Image not found: images/train\\195963.jpg\n"
     ]
    },
    {
     "name": "stderr",
     "output_type": "stream",
     "text": [
      "100%|██████████████████████████████████████████████████████████████████████████████| 2000/2000 [03:46<00:00,  8.84it/s]\n"
     ]
    },
    {
     "name": "stdout",
     "output_type": "stream",
     "text": [
      "Processed batch 98/132\n"
     ]
    },
    {
     "name": "stderr",
     "output_type": "stream",
     "text": [
      " 46%|████████████████████████████████████▏                                          | 917/2000 [02:16<02:39,  6.79it/s]"
     ]
    },
    {
     "name": "stdout",
     "output_type": "stream",
     "text": [
      "Image not found: images/train\\197009.jpg\n"
     ]
    },
    {
     "name": "stderr",
     "output_type": "stream",
     "text": [
      "100%|██████████████████████████████████████████████████████████████████████████████| 2000/2000 [04:32<00:00,  7.34it/s]\n"
     ]
    },
    {
     "name": "stdout",
     "output_type": "stream",
     "text": [
      "Processed batch 99/132\n"
     ]
    },
    {
     "name": "stderr",
     "output_type": "stream",
     "text": [
      " 24%|███████████████████                                                            | 484/2000 [01:22<08:05,  3.12it/s]"
     ]
    },
    {
     "name": "stdout",
     "output_type": "stream",
     "text": [
      "Image not found: images/train\\198609.jpg\n"
     ]
    },
    {
     "name": "stderr",
     "output_type": "stream",
     "text": [
      "100%|██████████████████████████████████████████████████████████████████████████████| 2000/2000 [04:11<00:00,  7.95it/s]\n"
     ]
    },
    {
     "name": "stdout",
     "output_type": "stream",
     "text": [
      "Processed batch 100/132\n"
     ]
    },
    {
     "name": "stderr",
     "output_type": "stream",
     "text": [
      "100%|██████████████████████████████████████████████████████████████████████████████| 2000/2000 [03:57<00:00,  8.43it/s]\n"
     ]
    },
    {
     "name": "stdout",
     "output_type": "stream",
     "text": [
      "Processed batch 101/132\n"
     ]
    },
    {
     "name": "stderr",
     "output_type": "stream",
     "text": [
      "100%|██████████████████████████████████████████████████████████████████████████████| 2000/2000 [03:42<00:00,  8.99it/s]\n"
     ]
    },
    {
     "name": "stdout",
     "output_type": "stream",
     "text": [
      "Processed batch 102/132\n"
     ]
    },
    {
     "name": "stderr",
     "output_type": "stream",
     "text": [
      "100%|██████████████████████████████████████████████████████████████████████████████| 2000/2000 [03:23<00:00,  9.85it/s]\n"
     ]
    },
    {
     "name": "stdout",
     "output_type": "stream",
     "text": [
      "Processed batch 103/132\n"
     ]
    },
    {
     "name": "stderr",
     "output_type": "stream",
     "text": [
      " 43%|██████████████████████████████████▏                                            | 866/2000 [01:35<02:19,  8.12it/s]"
     ]
    },
    {
     "name": "stdout",
     "output_type": "stream",
     "text": [
      "Image not found: images/train\\206957.jpg\n",
      "Image not found: images/train\\206961.jpg\n",
      "Image not found: images/train\\206963.jpg\n",
      "Image not found: images/train\\206964.jpg\n",
      "Image not found: images/train\\206965.jpg\n",
      "Image not found: images/train\\206966.jpg\n",
      "Image not found: images/train\\206967.jpg\n",
      "Image not found: images/train\\206968.jpg\n",
      "Image not found: images/train\\206969.jpg\n",
      "Image not found: images/train\\206970.jpg\n",
      "Image not found: images/train\\206971.jpg\n",
      "Image not found: images/train\\206972.jpg\n",
      "Image not found: images/train\\206973.jpg\n",
      "Image not found: images/train\\206974.jpg\n",
      "Image not found: images/train\\206975.jpg\n",
      "Image not found: images/train\\206976.jpg\n",
      "Image not found: images/train\\206977.jpg\n",
      "Image not found: images/train\\206978.jpg\n",
      "Image not found: images/train\\206979.jpg\n",
      "Image not found: images/train\\206980.jpg\n",
      "Image not found: images/train\\206981.jpg\n",
      "Image not found: images/train\\206982.jpg\n",
      "Image not found: images/train\\206983.jpg\n",
      "Image not found: images/train\\206984.jpg\n",
      "Image not found: images/train\\206985.jpg\n",
      "Image not found: images/train\\206986.jpg\n",
      "Image not found: images/train\\206987.jpg\n",
      "Image not found: images/train\\206988.jpg\n",
      "Image not found: images/train\\206989.jpg\n",
      "Image not found: images/train\\206990.jpg\n",
      "Image not found: images/train\\206991.jpg\n",
      "Image not found: images/train\\206992.jpg\n",
      "Image not found: images/train\\206993.jpg\n",
      "Image not found: images/train\\206994.jpg\n",
      "Image not found: images/train\\206995.jpg\n",
      "Image not found: images/train\\206996.jpg\n",
      "Image not found: images/train\\206997.jpg\n",
      "Image not found: images/train\\206998.jpg\n",
      "Image not found: images/train\\206999.jpg\n",
      "Image not found: images/train\\207000.jpg\n",
      "Image not found: images/train\\207001.jpg\n",
      "Image not found: images/train\\207002.jpg\n",
      "Image not found: images/train\\207003.jpg\n",
      "Image not found: images/train\\207004.jpg\n",
      "Image not found: images/train\\207005.jpg\n",
      "Image not found: images/train\\207006.jpg\n",
      "Image not found: images/train\\207007.jpg\n",
      "Image not found: images/train\\207008.jpg\n",
      "Image not found: images/train\\207009.jpg\n",
      "Image not found: images/train\\207010.jpg\n",
      "Image not found: images/train\\207012.jpg\n",
      "Image not found: images/train\\207013.jpg\n",
      "Image not found: images/train\\207014.jpg\n",
      "Image not found: images/train\\207015.jpg\n",
      "Image not found: images/train\\207016.jpg\n",
      "Image not found: images/train\\207017.jpg\n",
      "Image not found: images/train\\207018.jpg\n",
      "Image not found: images/train\\207019.jpg\n",
      "Image not found: images/train\\207020.jpg\n",
      "Image not found: images/train\\207021.jpg\n",
      "Image not found: images/train\\207022.jpg\n",
      "Image not found: images/train\\207023.jpg\n",
      "Image not found: images/train\\207024.jpg\n",
      "Image not found: images/train\\207025.jpg\n",
      "Image not found: images/train\\207026.jpg\n",
      "Image not found: images/train\\207027.jpg\n",
      "Image not found: images/train\\207028.jpg\n",
      "Image not found: images/train\\207029.jpg\n",
      "Image not found: images/train\\207030.jpg\n",
      "Image not found: images/train\\207031.jpg\n",
      "Image not found: images/train\\207034.jpg\n",
      "Image not found: images/train\\207035.jpg\n",
      "Image not found: images/train\\207036.jpg\n",
      "Image not found: images/train\\207037.jpg\n",
      "Image not found: images/train\\207038.jpg\n",
      "Image not found: images/train\\207039.jpg\n",
      "Image not found: images/train\\207040.jpg\n",
      "Image not found: images/train\\207041.jpg\n",
      "Image not found: images/train\\207042.jpg\n",
      "Image not found: images/train\\207043.jpg\n",
      "Image not found: images/train\\207044.jpg\n",
      "Image not found: images/train\\207045.jpg\n",
      "Image not found: images/train\\207046.jpg\n",
      "Image not found: images/train\\207047.jpg\n",
      "Image not found: images/train\\207048.jpg\n",
      "Image not found: images/train\\207049.jpg\n",
      "Image not found: images/train\\207050.jpg\n",
      "Image not found: images/train\\207051.jpg\n",
      "Image not found: images/train\\207052.jpg\n",
      "Image not found: images/train\\207053.jpg\n",
      "Image not found: images/train\\207054.jpg\n",
      "Image not found: images/train\\207055.jpg\n",
      "Image not found: images/train\\207056.jpg\n",
      "Image not found: images/train\\207057.jpg\n",
      "Image not found: images/train\\207058.jpg\n",
      "Image not found: images/train\\207059.jpg\n",
      "Image not found: images/train\\207060.jpg\n",
      "Image not found: images/train\\207061.jpg\n",
      "Image not found: images/train\\207062.jpg\n",
      "Image not found: images/train\\207063.jpg\n",
      "Image not found: images/train\\207064.jpg\n",
      "Image not found: images/train\\207065.jpg\n",
      "Image not found: images/train\\207066.jpg\n",
      "Image not found: images/train\\207067.jpg\n",
      "Image not found: images/train\\207068.jpg\n",
      "Image not found: images/train\\207069.jpg\n",
      "Image not found: images/train\\207070.jpg\n",
      "Image not found: images/train\\207071.jpg\n",
      "Image not found: images/train\\207072.jpg\n",
      "Image not found: images/train\\207073.jpg\n",
      "Image not found: images/train\\207074.jpg\n",
      "Image not found: images/train\\207075.jpg\n",
      "Image not found: images/train\\207076.jpg\n",
      "Image not found: images/train\\207077.jpg\n",
      "Image not found: images/train\\207078.jpg\n",
      "Image not found: images/train\\207079.jpg\n",
      "Image not found: images/train\\207080.jpg\n",
      "Image not found: images/train\\207081.jpg\n",
      "Image not found: images/train\\207082.jpg\n",
      "Image not found: images/train\\207083.jpg\n",
      "Image not found: images/train\\207084.jpg\n",
      "Image not found: images/train\\207085.jpg\n",
      "Image not found: images/train\\207086.jpg\n",
      "Image not found: images/train\\207087.jpg\n",
      "Image not found: images/train\\207088.jpg\n",
      "Image not found: images/train\\207089.jpg\n",
      "Image not found: images/train\\207090.jpg\n",
      "Image not found: images/train\\207091.jpg\n",
      "Image not found: images/train\\207092.jpg\n",
      "Image not found: images/train\\207093.jpg\n",
      "Image not found: images/train\\207094.jpg\n",
      "Image not found: images/train\\207095.jpg\n",
      "Image not found: images/train\\207096.jpg\n",
      "Image not found: images/train\\207097.jpg\n",
      "Image not found: images/train\\207098.jpg\n",
      "Image not found: images/train\\207099.jpg\n",
      "Image not found: images/train\\207100.jpg\n",
      "Image not found: images/train\\207102.jpg\n",
      "Image not found: images/train\\207103.jpg\n",
      "Image not found: images/train\\207104.jpg\n",
      "Image not found: images/train\\207105.jpg\n",
      "Image not found: images/train\\207106.jpg\n",
      "Image not found: images/train\\207107.jpg\n",
      "Image not found: images/train\\207108.jpg\n",
      "Image not found: images/train\\207109.jpg\n",
      "Image not found: images/train\\207110.jpg\n",
      "Image not found: images/train\\207111.jpg\n",
      "Image not found: images/train\\207112.jpg\n",
      "Image not found: images/train\\207113.jpg\n",
      "Image not found: images/train\\207115.jpg\n",
      "Image not found: images/train\\207120.jpg\n",
      "Image not found: images/train\\207121.jpg\n",
      "Image not found: images/train\\207122.jpg\n",
      "Image not found: images/train\\207123.jpg\n",
      "Image not found: images/train\\207124.jpg\n",
      "Image not found: images/train\\207125.jpg\n",
      "Image not found: images/train\\207126.jpg\n",
      "Image not found: images/train\\207127.jpg\n",
      "Image not found: images/train\\207128.jpg\n",
      "Image not found: images/train\\207129.jpg\n",
      "Image not found: images/train\\207130.jpg\n",
      "Image not found: images/train\\207131.jpg\n",
      "Image not found: images/train\\207133.jpg\n",
      "Image not found: images/train\\207134.jpg\n",
      "Image not found: images/train\\207135.jpg\n",
      "Image not found: images/train\\207136.jpg\n",
      "Image not found: images/train\\207137.jpg\n",
      "Image not found: images/train\\207138.jpg\n",
      "Image not found: images/train\\207140.jpg\n",
      "Image not found: images/train\\207141.jpg\n",
      "Image not found: images/train\\207142.jpg\n",
      "Image not found: images/train\\207143.jpg\n",
      "Image not found: images/train\\207144.jpg\n",
      "Image not found: images/train\\207145.jpg\n",
      "Image not found: images/train\\207146.jpg\n",
      "Image not found: images/train\\207147.jpg\n",
      "Image not found: images/train\\207148.jpg\n",
      "Image not found: images/train\\207149.jpg\n",
      "Image not found: images/train\\207150.jpg\n",
      "Image not found: images/train\\207151.jpg\n",
      "Image not found: images/train\\207152.jpg\n",
      "Image not found: images/train\\207153.jpg\n",
      "Image not found: images/train\\207154.jpg\n",
      "Image not found: images/train\\207155.jpg\n",
      "Image not found: images/train\\207157.jpg\n",
      "Image not found: images/train\\207158.jpg\n",
      "Image not found: images/train\\207159.jpg\n",
      "Image not found: images/train\\207160.jpg\n",
      "Image not found: images/train\\207161.jpg\n",
      "Image not found: images/train\\207162.jpg\n",
      "Image not found: images/train\\207163.jpg\n",
      "Image not found: images/train\\207164.jpg\n",
      "Image not found: images/train\\207165.jpg\n",
      "Image not found: images/train\\207166.jpg\n",
      "Image not found: images/train\\207167.jpg\n",
      "Image not found: images/train\\207169.jpg\n",
      "Image not found: images/train\\207170.jpg\n",
      "Image not found: images/train\\207171.jpg\n"
     ]
    },
    {
     "name": "stderr",
     "output_type": "stream",
     "text": [
      "100%|██████████████████████████████████████████████████████████████████████████████| 2000/2000 [03:09<00:00, 10.58it/s]\n"
     ]
    },
    {
     "name": "stdout",
     "output_type": "stream",
     "text": [
      "Processed batch 104/132\n"
     ]
    },
    {
     "name": "stderr",
     "output_type": "stream",
     "text": [
      "100%|██████████████████████████████████████████████████████████████████████████████| 2000/2000 [03:13<00:00, 10.35it/s]\n"
     ]
    },
    {
     "name": "stdout",
     "output_type": "stream",
     "text": [
      "Processed batch 105/132\n"
     ]
    },
    {
     "name": "stderr",
     "output_type": "stream",
     "text": [
      " 40%|███████████████████████████████▌                                               | 800/2000 [01:24<01:37, 12.27it/s]"
     ]
    },
    {
     "name": "stdout",
     "output_type": "stream",
     "text": [
      "Image not found: images/train\\210884.jpg\n",
      "Image not found: images/train\\210889.jpg\n"
     ]
    },
    {
     "name": "stderr",
     "output_type": "stream",
     "text": [
      "100%|██████████████████████████████████████████████████████████████████████████████| 2000/2000 [03:14<00:00, 10.29it/s]\n"
     ]
    },
    {
     "name": "stdout",
     "output_type": "stream",
     "text": [
      "Processed batch 106/132\n"
     ]
    },
    {
     "name": "stderr",
     "output_type": "stream",
     "text": [
      " 16%|████████████▌                                                                  | 317/2000 [00:38<02:31, 11.08it/s]"
     ]
    },
    {
     "name": "stdout",
     "output_type": "stream",
     "text": [
      "Image not found: images/train\\212390.jpg\n"
     ]
    },
    {
     "name": "stderr",
     "output_type": "stream",
     "text": [
      "100%|██████████████████████████████████████████████████████████████████████████████| 2000/2000 [03:27<00:00,  9.63it/s]\n"
     ]
    },
    {
     "name": "stdout",
     "output_type": "stream",
     "text": [
      "Processed batch 107/132\n"
     ]
    },
    {
     "name": "stderr",
     "output_type": "stream",
     "text": [
      "100%|██████████████████████████████████████████████████████████████████████████████| 2000/2000 [03:19<00:00, 10.00it/s]\n"
     ]
    },
    {
     "name": "stdout",
     "output_type": "stream",
     "text": [
      "Processed batch 108/132\n"
     ]
    },
    {
     "name": "stderr",
     "output_type": "stream",
     "text": [
      "100%|██████████████████████████████████████████████████████████████████████████████| 2000/2000 [03:15<00:00, 10.22it/s]\n"
     ]
    },
    {
     "name": "stdout",
     "output_type": "stream",
     "text": [
      "Processed batch 109/132\n"
     ]
    },
    {
     "name": "stderr",
     "output_type": "stream",
     "text": [
      "100%|██████████████████████████████████████████████████████████████████████████████| 2000/2000 [03:21<00:00,  9.90it/s]\n"
     ]
    },
    {
     "name": "stdout",
     "output_type": "stream",
     "text": [
      "Processed batch 110/132\n"
     ]
    },
    {
     "name": "stderr",
     "output_type": "stream",
     "text": [
      "100%|██████████████████████████████████████████████████████████████████████████████| 2000/2000 [03:16<00:00, 10.19it/s]\n"
     ]
    },
    {
     "name": "stdout",
     "output_type": "stream",
     "text": [
      "Processed batch 111/132\n"
     ]
    },
    {
     "name": "stderr",
     "output_type": "stream",
     "text": [
      "100%|██████████████████████████████████████████████████████████████████████████████| 2000/2000 [03:27<00:00,  9.62it/s]\n"
     ]
    },
    {
     "name": "stdout",
     "output_type": "stream",
     "text": [
      "Processed batch 112/132\n"
     ]
    },
    {
     "name": "stderr",
     "output_type": "stream",
     "text": [
      "100%|██████████████████████████████████████████████████████████████████████████████| 2000/2000 [03:14<00:00, 10.30it/s]\n"
     ]
    },
    {
     "name": "stdout",
     "output_type": "stream",
     "text": [
      "Processed batch 113/132\n"
     ]
    },
    {
     "name": "stderr",
     "output_type": "stream",
     "text": [
      "  2%|██                                                                              | 50/2000 [00:08<03:41,  8.79it/s]"
     ]
    },
    {
     "name": "stdout",
     "output_type": "stream",
     "text": [
      "Image not found: images/train\\226122.jpg\n",
      "Image not found: images/train\\226124.jpg\n",
      "Image not found: images/train\\226125.jpg\n",
      "Image not found: images/train\\226126.jpg\n",
      "Image not found: images/train\\226127.jpg\n",
      "Image not found: images/train\\226128.jpg\n",
      "Image not found: images/train\\226129.jpg\n",
      "Image not found: images/train\\226130.jpg\n",
      "Image not found: images/train\\226131.jpg\n",
      "Image not found: images/train\\226132.jpg\n",
      "Image not found: images/train\\226133.jpg\n",
      "Image not found: images/train\\226134.jpg\n",
      "Image not found: images/train\\226135.jpg\n",
      "Image not found: images/train\\226136.jpg\n",
      "Image not found: images/train\\226137.jpg\n",
      "Image not found: images/train\\226138.jpg\n",
      "Image not found: images/train\\226139.jpg\n",
      "Image not found: images/train\\226140.jpg\n",
      "Image not found: images/train\\226141.jpg\n",
      "Image not found: images/train\\226142.jpg\n",
      "Image not found: images/train\\226143.jpg\n",
      "Image not found: images/train\\226144.jpg\n",
      "Image not found: images/train\\226145.jpg\n",
      "Image not found: images/train\\226146.jpg\n",
      "Image not found: images/train\\226147.jpg\n",
      "Image not found: images/train\\226148.jpg\n",
      "Image not found: images/train\\226149.jpg\n",
      "Image not found: images/train\\226150.jpg\n",
      "Image not found: images/train\\226151.jpg\n",
      "Image not found: images/train\\226152.jpg\n",
      "Image not found: images/train\\226153.jpg\n",
      "Image not found: images/train\\226154.jpg\n",
      "Image not found: images/train\\226155.jpg\n",
      "Image not found: images/train\\226156.jpg\n",
      "Image not found: images/train\\226157.jpg\n",
      "Image not found: images/train\\226158.jpg\n",
      "Image not found: images/train\\226159.jpg\n",
      "Image not found: images/train\\226160.jpg\n",
      "Image not found: images/train\\226161.jpg\n",
      "Image not found: images/train\\226162.jpg\n",
      "Image not found: images/train\\226163.jpg\n",
      "Image not found: images/train\\226164.jpg\n",
      "Image not found: images/train\\226165.jpg\n",
      "Image not found: images/train\\226166.jpg\n",
      "Image not found: images/train\\226167.jpg\n",
      "Image not found: images/train\\226168.jpg\n",
      "Image not found: images/train\\226169.jpg\n",
      "Image not found: images/train\\226170.jpg\n",
      "Image not found: images/train\\226171.jpg\n",
      "Image not found: images/train\\226172.jpg\n",
      "Image not found: images/train\\226173.jpg\n",
      "Image not found: images/train\\226174.jpg\n",
      "Image not found: images/train\\226175.jpg\n",
      "Image not found: images/train\\226176.jpg\n",
      "Image not found: images/train\\226177.jpg\n",
      "Image not found: images/train\\226178.jpg\n",
      "Image not found: images/train\\226179.jpg\n",
      "Image not found: images/train\\226181.jpg\n",
      "Image not found: images/train\\226182.jpg\n",
      "Image not found: images/train\\226180.jpg\n",
      "Image not found: images/train\\226183.jpg\n",
      "Image not found: images/train\\226185.jpg\n",
      "Image not found: images/train\\226186.jpg\n",
      "Image not found: images/train\\226187.jpg\n",
      "Image not found: images/train\\226188.jpg\n",
      "Image not found: images/train\\226189.jpg\n",
      "Image not found: images/train\\226190.jpg\n",
      "Image not found: images/train\\226191.jpg\n",
      "Image not found: images/train\\226192.jpg\n",
      "Image not found: images/train\\226193.jpg\n",
      "Image not found: images/train\\226194.jpg\n",
      "Image not found: images/train\\226195.jpg\n",
      "Image not found: images/train\\226196.jpg\n",
      "Image not found: images/train\\226197.jpg\n",
      "Image not found: images/train\\226198.jpg\n",
      "Image not found: images/train\\226199.jpg\n",
      "Image not found: images/train\\226200.jpg\n",
      "Image not found: images/train\\226201.jpg\n",
      "Image not found: images/train\\226202.jpg\n",
      "Image not found: images/train\\226203.jpg\n",
      "Image not found: images/train\\226204.jpg\n",
      "Image not found: images/train\\226205.jpg\n",
      "Image not found: images/train\\226206.jpg\n",
      "Image not found: images/train\\226207.jpg\n",
      "Image not found: images/train\\226184.jpg\n",
      "Image not found: images/train\\226208.jpg\n",
      "Image not found: images/train\\226209.jpg\n",
      "Image not found: images/train\\226210.jpg\n",
      "Image not found: images/train\\226211.jpg\n",
      "Image not found: images/train\\226212.jpg\n",
      "Image not found: images/train\\226214.jpg\n",
      "Image not found: images/train\\226215.jpg\n",
      "Image not found: images/train\\226216.jpg\n",
      "Image not found: images/train\\226213.jpg\n",
      "Image not found: images/train\\226217.jpg\n",
      "Image not found: images/train\\226219.jpg\n",
      "Image not found: images/train\\226220.jpg\n",
      "Image not found: images/train\\226221.jpg\n",
      "Image not found: images/train\\226222.jpg\n",
      "Image not found: images/train\\226223.jpg\n",
      "Image not found: images/train\\226224.jpg\n",
      "Image not found: images/train\\226225.jpg\n",
      "Image not found: images/train\\226226.jpg\n",
      "Image not found: images/train\\226227.jpg\n",
      "Image not found: images/train\\226228.jpg\n",
      "Image not found: images/train\\226218.jpg\n",
      "Image not found: images/train\\226229.jpg\n",
      "Image not found: images/train\\226231.jpg\n",
      "Image not found: images/train\\226232.jpg\n",
      "Image not found: images/train\\226230.jpg\n",
      "Image not found: images/train\\226233.jpg\n",
      "Image not found: images/train\\226235.jpg\n",
      "Image not found: images/train\\226236.jpg\n",
      "Image not found: images/train\\226237.jpg\n",
      "Image not found: images/train\\226234.jpg\n",
      "Image not found: images/train\\226238.jpg\n",
      "Image not found: images/train\\226240.jpg\n",
      "Image not found: images/train\\226241.jpg\n",
      "Image not found: images/train\\226242.jpg\n",
      "Image not found: images/train\\226243.jpg\n",
      "Image not found: images/train\\226239.jpg\n",
      "Image not found: images/train\\226244.jpg\n",
      "Image not found: images/train\\226246.jpg\n",
      "Image not found: images/train\\226245.jpg\n",
      "Image not found: images/train\\226247.jpg\n",
      "Image not found: images/train\\226248.jpg\n",
      "Image not found: images/train\\226249.jpg\n",
      "Image not found: images/train\\226250.jpg\n",
      "Image not found: images/train\\226251.jpg\n",
      "Image not found: images/train\\226252.jpg\n",
      "Image not found: images/train\\226253.jpg\n",
      "Image not found: images/train\\226254.jpg\n",
      "Image not found: images/train\\226255.jpg\n",
      "Image not found: images/train\\226256.jpg\n",
      "Image not found: images/train\\226257.jpg\n",
      "Image not found: images/train\\226258.jpg\n",
      "Image not found: images/train\\226259.jpg\n",
      "Image not found: images/train\\226260.jpg\n",
      "Image not found: images/train\\226261.jpg\n",
      "Image not found: images/train\\226262.jpg\n",
      "Image not found: images/train\\226263.jpg\n",
      "Image not found: images/train\\226264.jpg\n",
      "Image not found: images/train\\226265.jpg\n",
      "Image not found: images/train\\226266.jpg\n",
      "Image not found: images/train\\226267.jpg\n",
      "Image not found: images/train\\226269.jpg\n",
      "Image not found: images/train\\226268.jpg\n",
      "Image not found: images/train\\226270.jpg\n",
      "Image not found: images/train\\226272.jpg\n",
      "Image not found: images/train\\226273.jpg\n",
      "Image not found: images/train\\226274.jpg\n",
      "Image not found: images/train\\226275.jpg\n",
      "Image not found: images/train\\226276.jpg\n",
      "Image not found: images/train\\226277.jpg\n",
      "Image not found: images/train\\226278.jpg\n",
      "Image not found: images/train\\226279.jpg\n",
      "Image not found: images/train\\226280.jpg\n",
      "Image not found: images/train\\226281.jpg\n",
      "Image not found: images/train\\226282.jpg\n",
      "Image not found: images/train\\226283.jpg\n",
      "Image not found: images/train\\226284.jpg\n",
      "Image not found: images/train\\226285.jpg\n",
      "Image not found: images/train\\226271.jpg\n",
      "Image not found: images/train\\226286.jpg\n",
      "Image not found: images/train\\226287.jpg\n",
      "Image not found: images/train\\226288.jpg\n",
      "Image not found: images/train\\226289.jpg\n",
      "Image not found: images/train\\226290.jpg\n",
      "Image not found: images/train\\226292.jpg\n",
      "Image not found: images/train\\226293.jpg\n",
      "Image not found: images/train\\226294.jpg\n",
      "Image not found: images/train\\226295.jpg\n",
      "Image not found: images/train\\226296.jpg\n",
      "Image not found: images/train\\226298.jpg\n",
      "Image not found: images/train\\226297.jpg\n",
      "Image not found: images/train\\226299.jpg\n",
      "Image not found: images/train\\226300.jpg\n",
      "Image not found: images/train\\226301.jpg\n",
      "Image not found: images/train\\226302.jpg\n",
      "Image not found: images/train\\226303.jpg\n",
      "Image not found: images/train\\226304.jpg\n",
      "Image not found: images/train\\226305.jpg\n",
      "Image not found: images/train\\226306.jpg\n",
      "Image not found: images/train\\226291.jpg\n",
      "Image not found: images/train\\226307.jpg\n",
      "Image not found: images/train\\226308.jpg\n",
      "Image not found: images/train\\226310.jpg\n",
      "Image not found: images/train\\226311.jpg\n",
      "Image not found: images/train\\226312.jpg\n",
      "Image not found: images/train\\226313.jpg\n",
      "Image not found: images/train\\226314.jpg\n",
      "Image not found: images/train\\226315.jpg\n",
      "Image not found: images/train\\226316.jpg\n",
      "Image not found: images/train\\226317.jpg\n",
      "Image not found: images/train\\226318.jpg\n",
      "Image not found: images/train\\226319.jpg\n",
      "Image not found: images/train\\226320.jpg\n",
      "Image not found: images/train\\226321.jpg\n",
      "Image not found: images/train\\226322.jpg\n",
      "Image not found: images/train\\226323.jpg\n",
      "Image not found: images/train\\226324.jpg\n",
      "Image not found: images/train\\226325.jpg\n",
      "Image not found: images/train\\226309.jpg\n",
      "Image not found: images/train\\226328.jpg\n",
      "Image not found: images/train\\226326.jpg\n",
      "Image not found: images/train\\226329.jpg\n",
      "Image not found: images/train\\226330.jpg\n",
      "Image not found: images/train\\226327.jpg\n",
      "Image not found: images/train\\226331.jpg\n",
      "Image not found: images/train\\226332.jpg\n",
      "Image not found: images/train\\226333.jpg\n",
      "Image not found: images/train\\226335.jpg\n",
      "Image not found: images/train\\226336.jpg\n",
      "Image not found: images/train\\226337.jpg\n",
      "Image not found: images/train\\226338.jpg\n",
      "Image not found: images/train\\226339.jpg\n",
      "Image not found: images/train\\226340.jpg\n",
      "Image not found: images/train\\226334.jpg\n",
      "Image not found: images/train\\226341.jpg\n",
      "Image not found: images/train\\226342.jpg\n",
      "Image not found: images/train\\226343.jpg\n",
      "Image not found: images/train\\226345.jpg\n",
      "Image not found: images/train\\226344.jpg\n",
      "Image not found: images/train\\226346.jpg\n",
      "Image not found: images/train\\226347.jpg\n",
      "Image not found: images/train\\226348.jpg\n",
      "Image not found: images/train\\226350.jpg\n",
      "Image not found: images/train\\226349.jpg\n",
      "Image not found: images/train\\226351.jpg\n",
      "Image not found: images/train\\226352.jpg\n",
      "Image not found: images/train\\226354.jpg\n",
      "Image not found: images/train\\226353.jpg\n",
      "Image not found: images/train\\226357.jpg\n",
      "Image not found: images/train\\226355.jpg\n",
      "Image not found: images/train\\226356.jpg\n",
      "Image not found: images/train\\226359.jpg\n",
      "Image not found: images/train\\226358.jpg\n",
      "Image not found: images/train\\226360.jpg\n",
      "Image not found: images/train\\226362.jpg\n",
      "Image not found: images/train\\226361.jpg\n",
      "Image not found: images/train\\226363.jpg\n",
      "Image not found: images/train\\226365.jpg\n",
      "Image not found: images/train\\226366.jpg\n",
      "Image not found: images/train\\226367.jpg\n",
      "Image not found: images/train\\226368.jpg\n",
      "Image not found: images/train\\226369.jpg\n",
      "Image not found: images/train\\226370.jpg\n",
      "Image not found: images/train\\226371.jpg\n",
      "Image not found: images/train\\226364.jpg\n",
      "Image not found: images/train\\226373.jpg\n",
      "Image not found: images/train\\226374.jpg\n",
      "Image not found: images/train\\226376.jpg\n",
      "Image not found: images/train\\226375.jpg\n",
      "Image not found: images/train\\226377.jpg\n",
      "Image not found: images/train\\226378.jpg\n",
      "Image not found: images/train\\226380.jpg\n",
      "Image not found: images/train\\226379.jpg\n",
      "Image not found: images/train\\226381.jpg\n",
      "Image not found: images/train\\226382.jpg\n",
      "Image not found: images/train\\226383.jpg\n",
      "Image not found: images/train\\226384.jpg\n",
      "Image not found: images/train\\226385.jpg\n",
      "Image not found: images/train\\226386.jpg\n",
      "Image not found: images/train\\226387.jpg\n",
      "Image not found: images/train\\226388.jpg\n",
      "Image not found: images/train\\226389.jpg\n",
      "Image not found: images/train\\226391.jpg\n",
      "Image not found: images/train\\226392.jpg\n",
      "Image not found: images/train\\226393.jpg\n",
      "Image not found: images/train\\226394.jpg\n",
      "Image not found: images/train\\226390.jpg\n",
      "Image not found: images/train\\226395.jpg\n",
      "Image not found: images/train\\226396.jpg\n",
      "Image not found: images/train\\226397.jpg\n",
      "Image not found: images/train\\226398.jpg\n",
      "Image not found: images/train\\226399.jpg\n",
      "Image not found: images/train\\226400.jpg\n",
      "Image not found: images/train\\226401.jpg\n",
      "Image not found: images/train\\226403.jpg\n",
      "Image not found: images/train\\226402.jpg\n",
      "Image not found: images/train\\226405.jpg\n",
      "Image not found: images/train\\226404.jpg\n",
      "Image not found: images/train\\226406.jpg\n",
      "Image not found: images/train\\226407.jpg\n",
      "Image not found: images/train\\226409.jpg\n",
      "Image not found: images/train\\226410.jpg\n",
      "Image not found: images/train\\226408.jpg\n",
      "Image not found: images/train\\226411.jpg\n",
      "Image not found: images/train\\226412.jpg\n",
      "Image not found: images/train\\226414.jpg\n",
      "Image not found: images/train\\226415.jpg\n",
      "Image not found: images/train\\226416.jpg\n",
      "Image not found: images/train\\226413.jpg\n",
      "Image not found: images/train\\226418.jpg\n",
      "Image not found: images/train\\226417.jpg\n",
      "Image not found: images/train\\226419.jpg\n",
      "Image not found: images/train\\226421.jpg\n",
      "Image not found: images/train\\226422.jpg\n",
      "Image not found: images/train\\226423.jpg\n",
      "Image not found: images/train\\226420.jpg\n",
      "Image not found: images/train\\226424.jpg\n",
      "Image not found: images/train\\226425.jpg\n",
      "Image not found: images/train\\226426.jpg\n",
      "Image not found: images/train\\226427.jpg\n",
      "Image not found: images/train\\226428.jpg\n",
      "Image not found: images/train\\226429.jpg\n",
      "Image not found: images/train\\226430.jpg\n",
      "Image not found: images/train\\226431.jpg\n",
      "Image not found: images/train\\226432.jpg\n",
      "Image not found: images/train\\226433.jpg\n",
      "Image not found: images/train\\226434.jpg\n",
      "Image not found: images/train\\226435.jpg\n",
      "Image not found: images/train\\226436.jpg\n",
      "Image not found: images/train\\226437.jpg\n",
      "Image not found: images/train\\226438.jpg\n",
      "Image not found: images/train\\226439.jpg\n",
      "Image not found: images/train\\226440.jpg\n",
      "Image not found: images/train\\226441.jpg\n",
      "Image not found: images/train\\226442.jpg\n",
      "Image not found: images/train\\226443.jpg\n",
      "Image not found: images/train\\226444.jpg\n",
      "Image not found: images/train\\226445.jpg\n",
      "Image not found: images/train\\226446.jpg\n",
      "Image not found: images/train\\226447.jpg\n",
      "Image not found: images/train\\226449.jpg\n",
      "Image not found: images/train\\226448.jpg\n",
      "Image not found: images/train\\226450.jpg\n",
      "Image not found: images/train\\226451.jpg\n",
      "Image not found: images/train\\226452.jpg\n",
      "Image not found: images/train\\226453.jpg\n",
      "Image not found: images/train\\226454.jpg\n",
      "Image not found: images/train\\226455.jpg\n",
      "Image not found: images/train\\226457.jpg\n",
      "Image not found: images/train\\226456.jpg\n",
      "Image not found: images/train\\226458.jpg\n",
      "Image not found: images/train\\226460.jpg\n",
      "Image not found: images/train\\226461.jpg\n",
      "Image not found: images/train\\226462.jpg\n",
      "Image not found: images/train\\226463.jpg\n",
      "Image not found: images/train\\226464.jpg\n",
      "Image not found: images/train\\226465.jpg\n",
      "Image not found: images/train\\226466.jpg\n",
      "Image not found: images/train\\226467.jpg\n",
      "Image not found: images/train\\226468.jpg\n",
      "Image not found: images/train\\226469.jpg\n",
      "Image not found: images/train\\226470.jpg\n",
      "Image not found: images/train\\226471.jpg\n",
      "Image not found: images/train\\226472.jpg\n",
      "Image not found: images/train\\226473.jpg\n",
      "Image not found: images/train\\226474.jpg\n",
      "Image not found: images/train\\226476.jpg\n",
      "Image not found: images/train\\226477.jpg\n",
      "Image not found: images/train\\226478.jpg\n",
      "Image not found: images/train\\226479.jpg\n"
     ]
    },
    {
     "name": "stderr",
     "output_type": "stream",
     "text": [
      " 34%|██████████████████████████▊                                                    | 680/2000 [00:32<01:14, 17.69it/s]"
     ]
    },
    {
     "name": "stdout",
     "output_type": "stream",
     "text": [
      "Image not found: images/train\\226728.jpg\n"
     ]
    },
    {
     "name": "stderr",
     "output_type": "stream",
     "text": [
      " 79%|█████████████████████████████████████████████████████████████▍                | 1575/2000 [02:06<00:32, 13.02it/s]"
     ]
    },
    {
     "name": "stdout",
     "output_type": "stream",
     "text": [
      "Image not found: images/train\\227692.jpg\n"
     ]
    },
    {
     "name": "stderr",
     "output_type": "stream",
     "text": [
      "100%|██████████████████████████████████████████████████████████████████████████████| 2000/2000 [02:37<00:00, 12.71it/s]\n"
     ]
    },
    {
     "name": "stdout",
     "output_type": "stream",
     "text": [
      "Processed batch 114/132\n"
     ]
    },
    {
     "name": "stderr",
     "output_type": "stream",
     "text": [
      "  4%|███                                                                             | 78/2000 [00:08<02:14, 14.27it/s]"
     ]
    },
    {
     "name": "stdout",
     "output_type": "stream",
     "text": [
      "Image not found: images/train\\228180.jpg\n",
      "Image not found: images/train\\228181.jpg\n",
      "Image not found: images/train\\228182.jpg\n"
     ]
    },
    {
     "name": "stderr",
     "output_type": "stream",
     "text": [
      " 36%|████████████████████████████▏                                                  | 715/2000 [01:09<02:14,  9.58it/s]"
     ]
    },
    {
     "name": "stdout",
     "output_type": "stream",
     "text": [
      "Image not found: images/train\\228826.jpg\n"
     ]
    },
    {
     "name": "stderr",
     "output_type": "stream",
     "text": [
      " 44%|██████████████████████████████████▌                                            | 875/2000 [01:31<02:22,  7.92it/s]"
     ]
    },
    {
     "name": "stdout",
     "output_type": "stream",
     "text": [
      "Image not found: images/train\\229090.jpg\n"
     ]
    },
    {
     "name": "stderr",
     "output_type": "stream",
     "text": [
      "100%|██████████████████████████████████████████████████████████████████████████████| 2000/2000 [03:03<00:00, 10.90it/s]\n"
     ]
    },
    {
     "name": "stdout",
     "output_type": "stream",
     "text": [
      "Processed batch 115/132\n"
     ]
    },
    {
     "name": "stderr",
     "output_type": "stream",
     "text": [
      " 88%|████████████████████████████████████████████████████████████████████▋         | 1760/2000 [02:50<00:25,  9.58it/s]"
     ]
    },
    {
     "name": "stdout",
     "output_type": "stream",
     "text": [
      "Image not found: images/train\\231852.jpg\n",
      "Image not found: images/train\\231854.jpg\n"
     ]
    },
    {
     "name": "stderr",
     "output_type": "stream",
     "text": [
      "100%|██████████████████████████████████████████████████████████████████████████████| 2000/2000 [03:07<00:00, 10.66it/s]\n"
     ]
    },
    {
     "name": "stdout",
     "output_type": "stream",
     "text": [
      "Processed batch 116/132\n"
     ]
    },
    {
     "name": "stderr",
     "output_type": "stream",
     "text": [
      "100%|██████████████████████████████████████████████████████████████████████████████| 2000/2000 [03:08<00:00, 10.60it/s]\n"
     ]
    },
    {
     "name": "stdout",
     "output_type": "stream",
     "text": [
      "Processed batch 117/132\n"
     ]
    },
    {
     "name": "stderr",
     "output_type": "stream",
     "text": [
      "  8%|██████▏                                                                        | 156/2000 [00:22<03:36,  8.52it/s]"
     ]
    },
    {
     "name": "stdout",
     "output_type": "stream",
     "text": [
      "Image not found: images/train\\234261.jpg\n",
      "Image not found: images/train\\234263.jpg\n"
     ]
    },
    {
     "name": "stderr",
     "output_type": "stream",
     "text": [
      " 11%|████████▊                                                                      | 222/2000 [00:30<03:51,  7.67it/s]"
     ]
    },
    {
     "name": "stdout",
     "output_type": "stream",
     "text": [
      "Image not found: images/train\\234337.jpg\n"
     ]
    },
    {
     "name": "stderr",
     "output_type": "stream",
     "text": [
      "100%|██████████████████████████████████████████████████████████████████████████████| 2000/2000 [03:16<00:00, 10.18it/s]\n"
     ]
    },
    {
     "name": "stdout",
     "output_type": "stream",
     "text": [
      "Processed batch 118/132\n"
     ]
    },
    {
     "name": "stderr",
     "output_type": "stream",
     "text": [
      " 59%|██████████████████████████████████████████████▏                               | 1184/2000 [01:55<01:17, 10.57it/s]"
     ]
    },
    {
     "name": "stdout",
     "output_type": "stream",
     "text": [
      "Image not found: images/train\\237252.jpg\n"
     ]
    },
    {
     "name": "stderr",
     "output_type": "stream",
     "text": [
      "100%|██████████████████████████████████████████████████████████████████████████████| 2000/2000 [03:06<00:00, 10.72it/s]\n"
     ]
    },
    {
     "name": "stdout",
     "output_type": "stream",
     "text": [
      "Processed batch 119/132\n"
     ]
    },
    {
     "name": "stderr",
     "output_type": "stream",
     "text": [
      " 27%|█████████████████████▍                                                         | 542/2000 [00:56<02:33,  9.49it/s]"
     ]
    },
    {
     "name": "stdout",
     "output_type": "stream",
     "text": [
      "Image not found: images/train\\238647.jpg\n"
     ]
    },
    {
     "name": "stderr",
     "output_type": "stream",
     "text": [
      "100%|██████████████████████████████████████████████████████████████████████████████| 2000/2000 [03:15<00:00, 10.21it/s]\n"
     ]
    },
    {
     "name": "stdout",
     "output_type": "stream",
     "text": [
      "Processed batch 120/132\n"
     ]
    },
    {
     "name": "stderr",
     "output_type": "stream",
     "text": [
      "100%|██████████████████████████████████████████████████████████████████████████████| 2000/2000 [03:02<00:00, 10.96it/s]\n"
     ]
    },
    {
     "name": "stdout",
     "output_type": "stream",
     "text": [
      "Processed batch 121/132\n"
     ]
    },
    {
     "name": "stderr",
     "output_type": "stream",
     "text": [
      "100%|██████████████████████████████████████████████████████████████████████████████| 2000/2000 [03:04<00:00, 10.86it/s]\n"
     ]
    },
    {
     "name": "stdout",
     "output_type": "stream",
     "text": [
      "Processed batch 122/132\n"
     ]
    },
    {
     "name": "stderr",
     "output_type": "stream",
     "text": [
      "100%|██████████████████████████████████████████████████████████████████████████████| 2000/2000 [03:10<00:00, 10.47it/s]\n"
     ]
    },
    {
     "name": "stdout",
     "output_type": "stream",
     "text": [
      "Processed batch 123/132\n"
     ]
    },
    {
     "name": "stderr",
     "output_type": "stream",
     "text": [
      "100%|██████████████████████████████████████████████████████████████████████████████| 2000/2000 [03:08<00:00, 10.59it/s]\n"
     ]
    },
    {
     "name": "stdout",
     "output_type": "stream",
     "text": [
      "Processed batch 124/132\n"
     ]
    },
    {
     "name": "stderr",
     "output_type": "stream",
     "text": [
      "100%|██████████████████████████████████████████████████████████████████████████████| 2000/2000 [03:08<00:00, 10.62it/s]\n"
     ]
    },
    {
     "name": "stdout",
     "output_type": "stream",
     "text": [
      "Processed batch 125/132\n"
     ]
    },
    {
     "name": "stderr",
     "output_type": "stream",
     "text": [
      " 40%|███████████████████████████████▎                                               | 792/2000 [01:25<01:58, 10.19it/s]"
     ]
    },
    {
     "name": "stdout",
     "output_type": "stream",
     "text": [
      "Image not found: images/train\\250913.jpg\n"
     ]
    },
    {
     "name": "stderr",
     "output_type": "stream",
     "text": [
      "100%|██████████████████████████████████████████████████████████████████████████████| 2000/2000 [03:12<00:00, 10.39it/s]\n"
     ]
    },
    {
     "name": "stdout",
     "output_type": "stream",
     "text": [
      "Processed batch 126/132\n"
     ]
    },
    {
     "name": "stderr",
     "output_type": "stream",
     "text": [
      "100%|██████████████████████████████████████████████████████████████████████████████| 2000/2000 [02:58<00:00, 11.19it/s]\n"
     ]
    },
    {
     "name": "stdout",
     "output_type": "stream",
     "text": [
      "Processed batch 127/132\n"
     ]
    },
    {
     "name": "stderr",
     "output_type": "stream",
     "text": [
      "100%|██████████████████████████████████████████████████████████████████████████████| 2000/2000 [03:06<00:00, 10.71it/s]\n"
     ]
    },
    {
     "name": "stdout",
     "output_type": "stream",
     "text": [
      "Processed batch 128/132\n"
     ]
    },
    {
     "name": "stderr",
     "output_type": "stream",
     "text": [
      " 13%|██████████▍                                                                    | 264/2000 [00:27<02:26, 11.82it/s]"
     ]
    },
    {
     "name": "stdout",
     "output_type": "stream",
     "text": [
      "Image not found: images/train\\256378.jpg\n"
     ]
    },
    {
     "name": "stderr",
     "output_type": "stream",
     "text": [
      " 36%|████████████████████████████▎                                                  | 717/2000 [01:09<01:23, 15.41it/s]"
     ]
    },
    {
     "name": "stdout",
     "output_type": "stream",
     "text": [
      "Image not found: images/train\\256761.jpg\n"
     ]
    },
    {
     "name": "stderr",
     "output_type": "stream",
     "text": [
      " 37%|█████████████████████████████▎                                                 | 743/2000 [01:13<01:35, 13.21it/s]"
     ]
    },
    {
     "name": "stdout",
     "output_type": "stream",
     "text": [
      "Image not found: images/train\\256821.jpg\n"
     ]
    },
    {
     "name": "stderr",
     "output_type": "stream",
     "text": [
      " 67%|████████████████████████████████████████████████████▎                         | 1341/2000 [02:11<01:46,  6.18it/s]"
     ]
    },
    {
     "name": "stdout",
     "output_type": "stream",
     "text": [
      "Image not found: images/train\\257452.jpg\n"
     ]
    },
    {
     "name": "stderr",
     "output_type": "stream",
     "text": [
      "100%|██████████████████████████████████████████████████████████████████████████████| 2000/2000 [03:00<00:00, 11.05it/s]\n"
     ]
    },
    {
     "name": "stdout",
     "output_type": "stream",
     "text": [
      "Processed batch 129/132\n"
     ]
    },
    {
     "name": "stderr",
     "output_type": "stream",
     "text": [
      " 14%|███████████▏                                                                   | 282/2000 [00:40<03:36,  7.93it/s]"
     ]
    },
    {
     "name": "stdout",
     "output_type": "stream",
     "text": [
      "Image not found: images/train\\258477.jpg\n"
     ]
    },
    {
     "name": "stderr",
     "output_type": "stream",
     "text": [
      "100%|██████████████████████████████████████████████████████████████████████████████| 2000/2000 [03:16<00:00, 10.18it/s]\n"
     ]
    },
    {
     "name": "stdout",
     "output_type": "stream",
     "text": [
      "Processed batch 130/132\n"
     ]
    },
    {
     "name": "stderr",
     "output_type": "stream",
     "text": [
      "100%|██████████████████████████████████████████████████████████████████████████████| 2000/2000 [03:08<00:00, 10.59it/s]\n"
     ]
    },
    {
     "name": "stdout",
     "output_type": "stream",
     "text": [
      "Processed batch 131/132\n"
     ]
    },
    {
     "name": "stderr",
     "output_type": "stream",
     "text": [
      " 68%|█████████████████████████████████████████████████████▏                        | 1269/1859 [02:04<00:35, 16.64it/s]"
     ]
    },
    {
     "name": "stdout",
     "output_type": "stream",
     "text": [
      "Image not found: images/train\\263352.jpg\n"
     ]
    },
    {
     "name": "stderr",
     "output_type": "stream",
     "text": [
      "100%|██████████████████████████████████████████████████████████████████████████████| 1859/1859 [02:52<00:00, 10.78it/s]\n"
     ]
    },
    {
     "name": "stdout",
     "output_type": "stream",
     "text": [
      "Processed batch 132/132\n",
      "Text extraction completed and saved to train_with_extracted_text_final.csv.\n"
     ]
    }
   ],
   "source": [
    "import easyocr\n",
    "import os\n",
    "from tqdm import tqdm\n",
    "from concurrent.futures import ThreadPoolExecutor\n",
    "import pandas as pd\n",
    "import torch\n",
    "from PIL import Image\n",
    "import numpy as np\n",
    "\n",
    "# Initialize EasyOCR reader with GPU support (use GPU if available)\n",
    "reader = easyocr.Reader(['en'], gpu=True)  # Set GPU=True to use the GPU\n",
    "\n",
    "# Function to extract text from an image with resizing\n",
    "def extract_text_from_image(image_path, resize_factor=0.2):  # Reduced resize factor to reduce memory load\n",
    "    try:\n",
    "        # Open image using PIL\n",
    "        img = Image.open(image_path)\n",
    "        \n",
    "        # Optionally resize image to reduce memory usage\n",
    "        if resize_factor < 1.0:\n",
    "            new_size = (int(img.width * resize_factor), int(img.height * resize_factor))\n",
    "            img = img.resize(new_size)\n",
    "\n",
    "        # Convert the PIL image to a numpy array for EasyOCR\n",
    "        img_np = np.array(img)\n",
    "\n",
    "        # Use EasyOCR to extract text directly\n",
    "        result = reader.readtext(img_np, detail=0)  # detail=0 returns only text\n",
    "        torch.cuda.empty_cache()  # Clear GPU memory after each operation\n",
    "        \n",
    "        return ' '.join(result)  # Combine all extracted text\n",
    "    except Exception as e:\n",
    "        print(f\"Error processing image {image_path}: {e}\")\n",
    "        return \"\"\n",
    "\n",
    "# Function to process OCR for a single image\n",
    "def process_image_for_ocr(idx_image):\n",
    "    idx, image_path = idx_image\n",
    "    if os.path.exists(image_path):\n",
    "        return idx, extract_text_from_image(image_path)\n",
    "    else:\n",
    "        print(f\"Image not found: {image_path}\")\n",
    "        return idx, \"\"\n",
    "\n",
    "# Function to process images in batches\n",
    "def extract_text_from_images_batch(train, save_folder, batch_size=2000, num_threads=20):  # Use batches and lower threads\n",
    "    total_images = len(train)\n",
    "    for i in range(0, total_images, batch_size):\n",
    "        batch_train = train.iloc[i:i + batch_size]\n",
    "        idx_image_list = [(idx, os.path.join(save_folder, f\"{idx}.jpg\")) for idx in batch_train.index]\n",
    "\n",
    "        with ThreadPoolExecutor(max_workers=num_threads) as executor:\n",
    "            results = list(tqdm(executor.map(process_image_for_ocr, idx_image_list), total=len(idx_image_list)))\n",
    "\n",
    "        # Save the extracted text into the main train DataFrame\n",
    "        for idx, text in results:\n",
    "            train.at[idx, 'extracted_text'] = text\n",
    "\n",
    "        # Save progress after every batch\n",
    "        print(f\"Processed batch {i//batch_size + 1}/{total_images//batch_size + 1}\")\n",
    "        train.to_csv(f'train_with_extracted_text_partial_{i//batch_size + 1}.csv', index=False)\n",
    "\n",
    "# Set the number of threads and batch size for parallel processing\n",
    "num_threads = 20  # Start with 5 threads to reduce memory usage\n",
    "batch_size = 2000  # Process 500 images in each batch to avoid memory overflow\n",
    "\n",
    "# Extract text from training images in batches\n",
    "print(\"Extracting text from training images in batches with parallel threads and GPU support...\")\n",
    "extract_text_from_images_batch(train, 'images/train', batch_size=batch_size, num_threads=num_threads)\n",
    "\n",
    "# Save the final result after all batches are processed\n",
    "train.to_csv('train_with_extracted_text_final.csv', index=False)\n",
    "\n",
    "print(\"Text extraction completed and saved to train_with_extracted_text_final.csv.\")"
   ]
  },
  {
   "cell_type": "markdown",
   "id": "eeaa21bd",
   "metadata": {},
   "source": [
    "# Step 7: Text Preprocessing and Cleaning"
   ]
  },
  {
   "cell_type": "code",
   "execution_count": 5,
   "id": "dc8ab1cd-eb7c-4788-a7f0-c9cd3e67a6d4",
   "metadata": {},
   "outputs": [
    {
     "name": "stdout",
     "output_type": "stream",
     "text": [
      "Column 'extracted_text' found. Proceeding with preprocessing.\n",
      "Text preprocessing completed and saved to train_with_preprocessed_text.csv.\n"
     ]
    }
   ],
   "source": [
    "import pandas as pd\n",
    "import re\n",
    "\n",
    "# Load your DataFrame (Ensure this is the correct file where 'extracted_text' was created)\n",
    "train = pd.read_csv('train_with_extracted_text_final.csv')\n",
    "\n",
    "# Check if the 'extracted_text' column exists\n",
    "if 'extracted_text' in train.columns:\n",
    "    print(\"Column 'extracted_text' found. Proceeding with preprocessing.\")\n",
    "    \n",
    "    # Function to preprocess the extracted text\n",
    "    def preprocess_text(text):\n",
    "        # Check if the text is not NaN or None\n",
    "        if isinstance(text, str):\n",
    "            # Convert text to lowercase\n",
    "            text = text.lower()\n",
    "\n",
    "            # Remove unwanted characters (keep alphanumeric, periods, percentages, and spaces)\n",
    "            text = re.sub(r'[^a-z0-9.% ]', ' ', text)\n",
    "\n",
    "            # Remove extra spaces\n",
    "            text = re.sub(r'\\s+', ' ', text).strip()\n",
    "\n",
    "            return text\n",
    "        else:\n",
    "            # Return an empty string if the text is invalid\n",
    "            return ''\n",
    "\n",
    "    # Apply the preprocessing function to the 'extracted_text' column\n",
    "    train['processed_text'] = train['extracted_text'].apply(preprocess_text)\n",
    "\n",
    "    # Save the DataFrame after preprocessing for future use\n",
    "    train.to_csv('train_with_preprocessed_text.csv', index=False)\n",
    "\n",
    "    print(\"Text preprocessing completed and saved to train_with_preprocessed_text.csv.\")\n",
    "else:\n",
    "    print(\"Error: Column 'extracted_text' not found in the DataFrame.\")\n",
    "    print(\"Please check the previous steps where text extraction is done.\")"
   ]
  },
  {
   "cell_type": "markdown",
   "id": "39a6a917",
   "metadata": {},
   "source": [
    "# Step 8: Entity Value Splitting into Numeric Value and Unit"
   ]
  },
  {
   "cell_type": "code",
   "execution_count": 7,
   "id": "ec237ba2-9d56-444d-bd7e-f493c1913d71",
   "metadata": {},
   "outputs": [
    {
     "name": "stdout",
     "output_type": "stream",
     "text": [
      "Target variables (value and unit) prepared and saved to train_with_value_unit.csv.\n"
     ]
    }
   ],
   "source": [
    "import re\n",
    "import numpy as np\n",
    "import pandas as pd\n",
    "\n",
    "# Load the DataFrame (make sure this is the correct file)\n",
    "train = pd.read_csv('train_with_preprocessed_text.csv')\n",
    "\n",
    "# Function to split entity_value into value and unit\n",
    "def split_value_unit(entity_value):\n",
    "    # Convert entity_value to string and apply regex\n",
    "    pattern = r'([0-9.]+)\\s*([a-zA-Z ]+)'  # Pattern to capture numeric value and unit\n",
    "    match = re.match(pattern, str(entity_value))  # Convert to string to handle NaN or non-string values\n",
    "\n",
    "    if match:\n",
    "        try:\n",
    "            value = float(match.group(1))  # Extract the numeric value\n",
    "            unit = match.group(2).strip()  # Extract the unit and remove extra spaces\n",
    "            return value, unit\n",
    "        except ValueError:\n",
    "            return np.nan, np.nan  # In case of any value conversion error\n",
    "    else:\n",
    "        return np.nan, np.nan  # If no match is found\n",
    "\n",
    "# Apply the function to the 'entity_value' column\n",
    "train[['value', 'unit']] = train['entity_value'].apply(lambda x: pd.Series(split_value_unit(x)))\n",
    "\n",
    "# Save the updated DataFrame to a CSV file for future use\n",
    "train.to_csv('train_with_value_unit.csv', index=False)\n",
    "\n",
    "print(\"Target variables (value and unit) prepared and saved to train_with_value_unit.csv.\")"
   ]
  },
  {
   "cell_type": "markdown",
   "id": "b6865e1e",
   "metadata": {},
   "source": [
    "# Step 9: Load Allowed Units and Build a Unit Dictionary"
   ]
  },
  {
   "cell_type": "code",
   "execution_count": 8,
   "id": "a0b83b1a-9fd0-4563-ab53-2cfb4cd09e0d",
   "metadata": {},
   "outputs": [
    {
     "name": "stdout",
     "output_type": "stream",
     "text": [
      "Allowed units loaded and sorted: ['imperial gallon', 'fluid ounce', 'cubic inch', 'microlitre', 'millilitre', 'cubic foot', 'millimetre', 'centimetre', 'centilitre', 'millivolt', 'decilitre', 'microgram', 'milligram', 'kilogram', 'kilovolt', 'kilowatt', 'gallon', 'quart', 'ounce', 'metre', 'pound', 'litre', 'pint', 'volt', 'watt', 'inch', 'gram', 'foot', 'yard', 'ton', 'cup']\n",
      "Allowed units saved to 'allowed_units_list.txt'.\n"
     ]
    }
   ],
   "source": [
    "import pandas as pd\n",
    "import numpy as np\n",
    "\n",
    "# Assuming the 'constants.py' contains the entity_unit_map, which is a dictionary mapping entity types to allowed units\n",
    "# Here's how you can load and process it:\n",
    "\n",
    "# Load allowed units from constants.py (you must have this file in your working directory)\n",
    "from constants import entity_unit_map\n",
    "\n",
    "# Create a flat set of all units\n",
    "all_units = set()\n",
    "for units in entity_unit_map.values():\n",
    "    all_units.update(units)\n",
    "\n",
    "# Sort units by length in descending order to ensure longer units (e.g., \"centimetre\") are matched first\n",
    "all_units = sorted(all_units, key=lambda x: -len(x))\n",
    "\n",
    "# Print the allowed units to ensure they're loaded and sorted properly\n",
    "print(f\"Allowed units loaded and sorted: {all_units}\")\n",
    "\n",
    "# Save the units list into a file for further use if needed\n",
    "with open('allowed_units_list.txt', 'w') as f:\n",
    "    for unit in all_units:\n",
    "        f.write(f\"{unit}\\n\")\n",
    "\n",
    "print(\"Allowed units saved to 'allowed_units_list.txt'.\")"
   ]
  },
  {
   "cell_type": "markdown",
   "id": "328430cc",
   "metadata": {},
   "source": [
    "# Step 10: Value and Unit Extraction from Text Based on Entity Name"
   ]
  },
  {
   "cell_type": "code",
   "execution_count": 11,
   "id": "0dc4408b-973e-483d-af02-3f3ed727c853",
   "metadata": {},
   "outputs": [
    {
     "name": "stdout",
     "output_type": "stream",
     "text": [
      "Value and unit extraction completed and saved to train_with_predicted_value_unit.csv.\n"
     ]
    }
   ],
   "source": [
    "import re\n",
    "import numpy as np\n",
    "from constants import entity_unit_map  # Ensure you have 'constants.py' with the 'entity_unit_map' dictionary\n",
    "\n",
    "# Function to extract value and unit from the preprocessed text\n",
    "def extract_value_unit_from_text(text, entity_name):\n",
    "    # Convert the text to string to handle cases where text might be NaN or a non-string type\n",
    "    text = str(text)\n",
    "    \n",
    "    # Get allowed units for the given entity_name (e.g., weight, height, etc.)\n",
    "    if entity_name not in entity_unit_map:\n",
    "        print(f\"Warning: '{entity_name}' not found in entity_unit_map.\")\n",
    "        return np.nan, ''\n",
    "    \n",
    "    units = entity_unit_map[entity_name]\n",
    "\n",
    "    # Escape units for regex to safely match them in the text\n",
    "    units_regex = '|'.join([re.escape(unit) for unit in units])\n",
    "\n",
    "    # Pattern to match numeric value followed by unit (exclude isolated dots)\n",
    "    pattern = r'([0-9]+(?:\\.[0-9]+)?)\\s*(' + units_regex + r')\\b'\n",
    "\n",
    "    # Find all matches of value and unit in the text\n",
    "    matches = re.findall(pattern, text)\n",
    "\n",
    "    if matches:\n",
    "        # Return the first match (value, unit)\n",
    "        value, unit = matches[0]\n",
    "        \n",
    "        try:\n",
    "            return float(value), unit.strip()  # Ensure the value can be converted to float\n",
    "        except ValueError:\n",
    "            return np.nan, ''  # Handle conversion errors gracefully\n",
    "    else:\n",
    "        return np.nan, ''  # Return NaN and empty unit if no match is found\n",
    "\n",
    "# Apply the function to each row in the DataFrame\n",
    "# Use zip to unpack the returned value and unit into two separate columns\n",
    "train['predicted_value'], train['predicted_unit'] = zip(*train.apply(lambda row: extract_value_unit_from_text(row['processed_text'], row['entity_name']), axis=1))\n",
    "\n",
    "# Save the result to a new CSV file for future use\n",
    "train.to_csv('train_with_predicted_value_unit.csv', index=False)\n",
    "\n",
    "print(\"Value and unit extraction completed and saved to train_with_predicted_value_unit.csv.\")"
   ]
  },
  {
   "cell_type": "markdown",
   "id": "7abadceb",
   "metadata": {},
   "source": [
    "# Step 11: Iterative Extraction of Predicted Values and Units"
   ]
  },
  {
   "cell_type": "code",
   "execution_count": 12,
   "id": "8a2338f4-11a6-4c5b-989b-6728d42bb290",
   "metadata": {},
   "outputs": [
    {
     "name": "stdout",
     "output_type": "stream",
     "text": [
      "Extracting predicted values and units from training text...\n"
     ]
    },
    {
     "name": "stderr",
     "output_type": "stream",
     "text": [
      "100%|███████████████████████████████████████████████████████████████████████| 263859/263859 [00:23<00:00, 11365.30it/s]\n"
     ]
    },
    {
     "name": "stdout",
     "output_type": "stream",
     "text": [
      "Predicted values and units extraction completed and saved to train_with_predictions.csv.\n"
     ]
    }
   ],
   "source": [
    "import numpy as np\n",
    "from tqdm import tqdm\n",
    "\n",
    "# Initialize columns for predicted values and units\n",
    "train['predicted_value'] = np.nan\n",
    "train['predicted_unit'] = ''\n",
    "\n",
    "print(\"Extracting predicted values and units from training text...\")\n",
    "\n",
    "# Loop through the DataFrame and apply the extraction function to each row\n",
    "for idx, row in tqdm(train.iterrows(), total=train.shape[0]):\n",
    "    text = row['processed_text']\n",
    "    entity_name = row['entity_name']\n",
    "    \n",
    "    # Extract value and unit using the predefined function\n",
    "    value, unit = extract_value_unit_from_text(text, entity_name)\n",
    "    \n",
    "    # Update the DataFrame with the predicted value and unit\n",
    "    train.at[idx, 'predicted_value'] = value\n",
    "    train.at[idx, 'predicted_unit'] = unit\n",
    "\n",
    "# Save the updated DataFrame with the predictions\n",
    "train.to_csv('train_with_predictions.csv', index=False)\n",
    "\n",
    "print(\"Predicted values and units extraction completed and saved to train_with_predictions.csv.\")"
   ]
  },
  {
   "cell_type": "markdown",
   "id": "46f8e351",
   "metadata": {},
   "source": [
    "# Step 12: Evaluate the Model on Training Data"
   ]
  },
  {
   "cell_type": "code",
   "execution_count": 15,
   "id": "c5644c4a-8444-49ef-820f-83ba835857d3",
   "metadata": {},
   "outputs": [
    {
     "name": "stdout",
     "output_type": "stream",
     "text": [
      "Training Accuracy: 0.60%\n",
      "Correct predictions saved to 'correct_predictions.csv'.\n"
     ]
    }
   ],
   "source": [
    "\n",
    "\n",
    "# Check how many predictions are correct\n",
    "correct_predictions = train[\n",
    "    (train['value'].round(2) == train['predicted_value'].round(2)) &  # Ensure both are rounded to handle floating-point precision issues\n",
    "    (train['unit'].str.lower() == train['predicted_unit'].str.lower())  # Case-insensitive comparison for units\n",
    "]\n",
    "\n",
    "# Calculate the accuracy as the percentage of correct predictions\n",
    "accuracy = len(correct_predictions) / len(train)\n",
    "\n",
    "print(f\"Training Accuracy: {accuracy * 100:.2f}%\")\n",
    "\n",
    "# Save the correct predictions to a separate file for future reference (optional)\n",
    "correct_predictions.to_csv('correct_predictions.csv', index=False)\n",
    "\n",
    "print(f\"Correct predictions saved to 'correct_predictions.csv'.\")"
   ]
  },
  {
   "cell_type": "markdown",
   "id": "067e6651",
   "metadata": {},
   "source": [
    "# Step 13: Batch Text Extraction from Images using EasyOCR with Parallel Processing and GPU Support"
   ]
  },
  {
   "cell_type": "code",
   "execution_count": 20,
   "id": "3ce81f56-a65c-42ea-9824-13476e8fea2c",
   "metadata": {},
   "outputs": [
    {
     "name": "stdout",
     "output_type": "stream",
     "text": [
      "Extracting text from test images in batches with parallel threads and GPU support...\n"
     ]
    },
    {
     "name": "stderr",
     "output_type": "stream",
     "text": [
      " 80%|██████████████████████████████████████████████████████████████▌               | 1605/2000 [00:44<00:13, 29.05it/s]"
     ]
    },
    {
     "name": "stdout",
     "output_type": "stream",
     "text": [
      "Image not found: images/test\\1673.jpg\n"
     ]
    },
    {
     "name": "stderr",
     "output_type": "stream",
     "text": [
      " 92%|███████████████████████████████████████████████████████████████████████▌      | 1836/2000 [00:51<00:04, 34.39it/s]"
     ]
    },
    {
     "name": "stdout",
     "output_type": "stream",
     "text": [
      "Image not found: images/test\\1924.jpg\n"
     ]
    },
    {
     "name": "stderr",
     "output_type": "stream",
     "text": [
      "100%|██████████████████████████████████████████████████████████████████████████████| 2000/2000 [00:56<00:00, 35.62it/s]\n"
     ]
    },
    {
     "name": "stdout",
     "output_type": "stream",
     "text": [
      "Processed batch 1/66\n"
     ]
    },
    {
     "name": "stderr",
     "output_type": "stream",
     "text": [
      "  0%|▏                                                                                | 5/2000 [00:02<22:38,  1.47it/s]"
     ]
    },
    {
     "name": "stdout",
     "output_type": "stream",
     "text": [
      "Image not found: images/test\\2089.jpg\n"
     ]
    },
    {
     "name": "stderr",
     "output_type": "stream",
     "text": [
      " 46%|████████████████████████████████████                                           | 912/2000 [00:34<00:37, 28.83it/s]"
     ]
    },
    {
     "name": "stdout",
     "output_type": "stream",
     "text": [
      "Image not found: images/test\\3050.jpg\n"
     ]
    },
    {
     "name": "stderr",
     "output_type": "stream",
     "text": [
      " 50%|███████████████████████████████████████                                       | 1001/2000 [00:36<00:31, 31.23it/s]"
     ]
    },
    {
     "name": "stdout",
     "output_type": "stream",
     "text": [
      "Image not found: images/test\\3106.jpg\n"
     ]
    },
    {
     "name": "stderr",
     "output_type": "stream",
     "text": [
      "100%|██████████████████████████████████████████████████████████████████████████████| 2000/2000 [01:10<00:00, 28.50it/s]\n"
     ]
    },
    {
     "name": "stdout",
     "output_type": "stream",
     "text": [
      "Processed batch 2/66\n"
     ]
    },
    {
     "name": "stderr",
     "output_type": "stream",
     "text": [
      " 14%|███████████▎                                                                   | 286/2000 [00:11<00:48, 35.21it/s]"
     ]
    },
    {
     "name": "stdout",
     "output_type": "stream",
     "text": [
      "Image not found: images/test\\4377.jpg\n"
     ]
    },
    {
     "name": "stderr",
     "output_type": "stream",
     "text": [
      " 27%|█████████████████████                                                          | 534/2000 [00:22<01:03, 23.18it/s]"
     ]
    },
    {
     "name": "stdout",
     "output_type": "stream",
     "text": [
      "Image not found: images/test\\4637.jpg\n"
     ]
    },
    {
     "name": "stderr",
     "output_type": "stream",
     "text": [
      " 85%|██████████████████████████████████████████████████████████████████▍           | 1705/2000 [01:01<00:07, 37.72it/s]"
     ]
    },
    {
     "name": "stdout",
     "output_type": "stream",
     "text": [
      "Image not found: images/test\\5784.jpg\n"
     ]
    },
    {
     "name": "stderr",
     "output_type": "stream",
     "text": [
      "100%|██████████████████████████████████████████████████████████████████████████████| 2000/2000 [01:08<00:00, 29.33it/s]\n"
     ]
    },
    {
     "name": "stdout",
     "output_type": "stream",
     "text": [
      "Processed batch 3/66\n"
     ]
    },
    {
     "name": "stderr",
     "output_type": "stream",
     "text": [
      " 27%|█████████████████████▏                                                         | 536/2000 [00:17<00:27, 53.15it/s]"
     ]
    },
    {
     "name": "stdout",
     "output_type": "stream",
     "text": [
      "Image not found: images/test\\6576.jpg\n"
     ]
    },
    {
     "name": "stderr",
     "output_type": "stream",
     "text": [
      "100%|██████████████████████████████████████████████████████████████████████████████| 2000/2000 [00:57<00:00, 34.91it/s]\n"
     ]
    },
    {
     "name": "stdout",
     "output_type": "stream",
     "text": [
      "Processed batch 4/66\n"
     ]
    },
    {
     "name": "stderr",
     "output_type": "stream",
     "text": [
      "100%|██████████████████████████████████████████████████████████████████████████████| 2000/2000 [01:03<00:00, 31.65it/s]\n"
     ]
    },
    {
     "name": "stdout",
     "output_type": "stream",
     "text": [
      "Processed batch 5/66\n"
     ]
    },
    {
     "name": "stderr",
     "output_type": "stream",
     "text": [
      "100%|██████████████████████████████████████████████████████████████████████████████| 2000/2000 [01:04<00:00, 31.04it/s]\n"
     ]
    },
    {
     "name": "stdout",
     "output_type": "stream",
     "text": [
      "Processed batch 6/66\n"
     ]
    },
    {
     "name": "stderr",
     "output_type": "stream",
     "text": [
      "100%|██████████████████████████████████████████████████████████████████████████████| 2000/2000 [01:05<00:00, 30.66it/s]\n"
     ]
    },
    {
     "name": "stdout",
     "output_type": "stream",
     "text": [
      "Processed batch 7/66\n"
     ]
    },
    {
     "name": "stderr",
     "output_type": "stream",
     "text": [
      " 22%|█████████████████▌                                                             | 444/2000 [00:14<01:14, 21.01it/s]"
     ]
    },
    {
     "name": "stdout",
     "output_type": "stream",
     "text": [
      "Image not found: images/test\\14527.jpg\n",
      "Image not found: images/test\\14528.jpg\n",
      "Image not found: images/test\\14529.jpg\n",
      "Image not found: images/test\\14530.jpg\n",
      "Image not found: images/test\\14531.jpg\n",
      "Image not found: images/test\\14532.jpg\n",
      "Image not found: images/test\\14533.jpg\n",
      "Image not found: images/test\\14534.jpg\n",
      "Image not found: images/test\\14535.jpg\n",
      "Image not found: images/test\\14536.jpg\n",
      "Image not found: images/test\\14537.jpg\n",
      "Image not found: images/test\\14538.jpg\n",
      "Image not found: images/test\\14539.jpg\n",
      "Image not found: images/test\\14541.jpg\n",
      "Image not found: images/test\\14542.jpg\n",
      "Image not found: images/test\\14543.jpg\n",
      "Image not found: images/test\\14544.jpg\n",
      "Image not found: images/test\\14545.jpg\n",
      "Image not found: images/test\\14546.jpg\n",
      "Image not found: images/test\\14547.jpg\n",
      "Image not found: images/test\\14548.jpg\n",
      "Image not found: images/test\\14550.jpg\n",
      "Image not found: images/test\\14551.jpg\n",
      "Image not found: images/test\\14552.jpg\n",
      "Image not found: images/test\\14553.jpg\n",
      "Image not found: images/test\\14554.jpg\n",
      "Image not found: images/test\\14555.jpg\n",
      "Image not found: images/test\\14556.jpg\n",
      "Image not found: images/test\\14557.jpg\n",
      "Image not found: images/test\\14558.jpg\n",
      "Image not found: images/test\\14559.jpg\n",
      "Image not found: images/test\\14560.jpg\n",
      "Image not found: images/test\\14561.jpg\n",
      "Image not found: images/test\\14562.jpg\n",
      "Image not found: images/test\\14563.jpg\n",
      "Image not found: images/test\\14564.jpg\n",
      "Image not found: images/test\\14565.jpg\n",
      "Image not found: images/test\\14566.jpg\n",
      "Image not found: images/test\\14567.jpg\n",
      "Image not found: images/test\\14568.jpg\n",
      "Image not found: images/test\\14569.jpg\n",
      "Image not found: images/test\\14570.jpg\n",
      "Image not found: images/test\\14573.jpg\n",
      "Image not found: images/test\\14574.jpg\n",
      "Image not found: images/test\\14575.jpg\n",
      "Image not found: images/test\\14576.jpg\n",
      "Image not found: images/test\\14577.jpg\n",
      "Image not found: images/test\\14578.jpg\n",
      "Image not found: images/test\\14579.jpg\n",
      "Image not found: images/test\\14580.jpg\n",
      "Image not found: images/test\\14581.jpg\n",
      "Image not found: images/test\\14582.jpg\n",
      "Image not found: images/test\\14583.jpg\n",
      "Image not found: images/test\\14584.jpg\n",
      "Image not found: images/test\\14585.jpg\n",
      "Image not found: images/test\\14586.jpg\n",
      "Image not found: images/test\\14587.jpg\n",
      "Image not found: images/test\\14588.jpg\n",
      "Image not found: images/test\\14589.jpg\n",
      "Image not found: images/test\\14590.jpg\n",
      "Image not found: images/test\\14591.jpg\n",
      "Image not found: images/test\\14592.jpg\n",
      "Image not found: images/test\\14593.jpg\n",
      "Image not found: images/test\\14594.jpg\n",
      "Image not found: images/test\\14595.jpg\n",
      "Image not found: images/test\\14596.jpg\n",
      "Image not found: images/test\\14597.jpg\n",
      "Image not found: images/test\\14598.jpg\n",
      "Image not found: images/test\\14599.jpg\n",
      "Image not found: images/test\\14600.jpg\n",
      "Image not found: images/test\\14601.jpg\n",
      "Image not found: images/test\\14602.jpg\n",
      "Image not found: images/test\\14603.jpg\n",
      "Image not found: images/test\\14604.jpg\n",
      "Image not found: images/test\\14605.jpg\n",
      "Image not found: images/test\\14606.jpg\n",
      "Image not found: images/test\\14607.jpg\n",
      "Image not found: images/test\\14608.jpg\n",
      "Image not found: images/test\\14609.jpg\n",
      "Image not found: images/test\\14610.jpg\n",
      "Image not found: images/test\\14611.jpg\n",
      "Image not found: images/test\\14612.jpg\n",
      "Image not found: images/test\\14613.jpg\n",
      "Image not found: images/test\\14614.jpg\n",
      "Image not found: images/test\\14615.jpg\n",
      "Image not found: images/test\\14616.jpg\n",
      "Image not found: images/test\\14617.jpg\n",
      "Image not found: images/test\\14619.jpg\n"
     ]
    },
    {
     "name": "stderr",
     "output_type": "stream",
     "text": [
      " 24%|███████████████████                                                            | 482/2000 [00:15<00:43, 35.02it/s]"
     ]
    },
    {
     "name": "stdout",
     "output_type": "stream",
     "text": [
      "Image not found: images/test\\14622.jpg\n",
      "Image not found: images/test\\14623.jpg\n",
      "Image not found: images/test\\14624.jpg\n",
      "Image not found: images/test\\14625.jpg\n",
      "Image not found: images/test\\14626.jpg\n",
      "Image not found: images/test\\14627.jpg\n",
      "Image not found: images/test\\14628.jpg\n",
      "Image not found: images/test\\14629.jpg\n",
      "Image not found: images/test\\14630.jpg\n",
      "Image not found: images/test\\14631.jpg\n",
      "Image not found: images/test\\14633.jpg\n",
      "Image not found: images/test\\14634.jpg\n",
      "Image not found: images/test\\14635.jpg\n",
      "Image not found: images/test\\14636.jpg\n",
      "Image not found: images/test\\14637.jpg\n",
      "Image not found: images/test\\14638.jpg\n",
      "Image not found: images/test\\14639.jpg\n",
      "Image not found: images/test\\14640.jpg\n",
      "Image not found: images/test\\14641.jpg\n",
      "Image not found: images/test\\14642.jpg\n",
      "Image not found: images/test\\14643.jpg\n",
      "Image not found: images/test\\14644.jpg\n",
      "Image not found: images/test\\14645.jpg\n",
      "Image not found: images/test\\14646.jpg\n",
      "Image not found: images/test\\14647.jpg\n",
      "Image not found: images/test\\14648.jpg\n",
      "Image not found: images/test\\14649.jpg\n",
      "Image not found: images/test\\14650.jpg\n",
      "Image not found: images/test\\14651.jpg\n",
      "Image not found: images/test\\14652.jpg\n",
      "Image not found: images/test\\14653.jpg\n",
      "Image not found: images/test\\14654.jpg\n",
      "Image not found: images/test\\14655.jpg\n",
      "Image not found: images/test\\14656.jpg\n",
      "Image not found: images/test\\14657.jpg\n",
      "Image not found: images/test\\14658.jpg\n",
      "Image not found: images/test\\14659.jpg\n",
      "Image not found: images/test\\14660.jpg\n",
      "Image not found: images/test\\14661.jpg\n",
      "Image not found: images/test\\14662.jpg\n",
      "Image not found: images/test\\14663.jpg\n",
      "Image not found: images/test\\14664.jpg\n",
      "Image not found: images/test\\14665.jpg\n",
      "Image not found: images/test\\14666.jpg\n",
      "Image not found: images/test\\14667.jpg\n",
      "Image not found: images/test\\14668.jpg\n",
      "Image not found: images/test\\14669.jpg\n",
      "Image not found: images/test\\14670.jpg\n",
      "Image not found: images/test\\14671.jpg\n",
      "Image not found: images/test\\14672.jpg\n",
      "Image not found: images/test\\14674.jpg\n",
      "Image not found: images/test\\14675.jpg\n",
      "Image not found: images/test\\14676.jpg\n",
      "Image not found: images/test\\14677.jpg\n",
      "Image not found: images/test\\14678.jpg\n",
      "Image not found: images/test\\14679.jpg\n",
      "Image not found: images/test\\14680.jpg\n",
      "Image not found: images/test\\14681.jpg\n",
      "Image not found: images/test\\14682.jpg\n",
      "Image not found: images/test\\14683.jpg\n",
      "Image not found: images/test\\14684.jpg\n",
      "Image not found: images/test\\14685.jpg\n",
      "Image not found: images/test\\14686.jpg\n",
      "Image not found: images/test\\14687.jpg\n",
      "Image not found: images/test\\14688.jpg\n",
      "Image not found: images/test\\14689.jpg\n",
      "Image not found: images/test\\14690.jpg\n",
      "Image not found: images/test\\14691.jpg\n",
      "Image not found: images/test\\14692.jpg\n",
      "Image not found: images/test\\14693.jpg\n",
      "Image not found: images/test\\14694.jpg\n",
      "Image not found: images/test\\14695.jpg\n",
      "Image not found: images/test\\14696.jpg\n",
      "Image not found: images/test\\14697.jpg\n",
      "Image not found: images/test\\14698.jpg\n",
      "Image not found: images/test\\14699.jpg\n",
      "Image not found: images/test\\14701.jpg\n",
      "Image not found: images/test\\14702.jpg\n",
      "Image not found: images/test\\14703.jpg\n",
      "Image not found: images/test\\14704.jpg\n",
      "Image not found: images/test\\14705.jpg\n",
      "Image not found: images/test\\14706.jpg\n",
      "Image not found: images/test\\14707.jpg\n",
      "Image not found: images/test\\14708.jpg\n",
      "Image not found: images/test\\14709.jpg\n",
      "Image not found: images/test\\14710.jpg\n",
      "Image not found: images/test\\14711.jpg\n",
      "Image not found: images/test\\14712.jpg\n",
      "Image not found: images/test\\14714.jpg\n",
      "Image not found: images/test\\14715.jpg\n",
      "Image not found: images/test\\14716.jpg\n",
      "Image not found: images/test\\14717.jpg\n",
      "Image not found: images/test\\14718.jpg\n",
      "Image not found: images/test\\14719.jpg\n",
      "Image not found: images/test\\14720.jpg\n",
      "Image not found: images/test\\14721.jpg\n",
      "Image not found: images/test\\14722.jpg\n",
      "Image not found: images/test\\14723.jpg\n",
      "Image not found: images/test\\14724.jpg\n",
      "Image not found: images/test\\14725.jpg\n",
      "Image not found: images/test\\14726.jpg\n",
      "Image not found: images/test\\14727.jpg\n",
      "Image not found: images/test\\14728.jpg\n",
      "Image not found: images/test\\14731.jpg\n",
      "Image not found: images/test\\14732.jpg\n",
      "Image not found: images/test\\14733.jpg\n",
      "Image not found: images/test\\14734.jpg\n",
      "Image not found: images/test\\14735.jpg\n",
      "Image not found: images/test\\14736.jpg\n",
      "Image not found: images/test\\14737.jpg\n",
      "Image not found: images/test\\14738.jpg\n",
      "Image not found: images/test\\14739.jpg\n",
      "Image not found: images/test\\14740.jpg\n",
      "Image not found: images/test\\14741.jpg\n",
      "Image not found: images/test\\14742.jpg\n",
      "Image not found: images/test\\14743.jpg\n",
      "Image not found: images/test\\14745.jpg\n",
      "Image not found: images/test\\14746.jpg\n",
      "Image not found: images/test\\14747.jpg\n",
      "Image not found: images/test\\14748.jpg\n",
      "Image not found: images/test\\14749.jpg\n",
      "Image not found: images/test\\14744.jpg\n",
      "Image not found: images/test\\14750.jpg\n",
      "Image not found: images/test\\14751.jpg\n",
      "Image not found: images/test\\14752.jpg\n",
      "Image not found: images/test\\14753.jpg\n",
      "Image not found: images/test\\14754.jpg\n",
      "Image not found: images/test\\14755.jpg\n",
      "Image not found: images/test\\14756.jpg\n",
      "Image not found: images/test\\14757.jpg\n",
      "Image not found: images/test\\14758.jpg\n",
      "Image not found: images/test\\14759.jpg\n",
      "Image not found: images/test\\14760.jpg\n",
      "Image not found: images/test\\14761.jpg\n",
      "Image not found: images/test\\14762.jpg\n",
      "Image not found: images/test\\14763.jpg\n",
      "Image not found: images/test\\14764.jpg\n",
      "Image not found: images/test\\14765.jpg\n",
      "Image not found: images/test\\14766.jpg\n",
      "Image not found: images/test\\14767.jpg\n",
      "Image not found: images/test\\14768.jpg\n",
      "Image not found: images/test\\14769.jpg\n",
      "Image not found: images/test\\14770.jpg\n",
      "Image not found: images/test\\14771.jpg\n",
      "Image not found: images/test\\14772.jpg\n",
      "Image not found: images/test\\14773.jpg\n",
      "Image not found: images/test\\14774.jpg\n",
      "Image not found: images/test\\14775.jpg\n",
      "Image not found: images/test\\14778.jpg\n",
      "Image not found: images/test\\14779.jpg\n",
      "Image not found: images/test\\14780.jpg\n",
      "Image not found: images/test\\14781.jpg\n",
      "Image not found: images/test\\14782.jpg\n",
      "Image not found: images/test\\14784.jpg\n",
      "Image not found: images/test\\14785.jpg\n",
      "Image not found: images/test\\14786.jpg\n",
      "Image not found: images/test\\14787.jpg\n",
      "Image not found: images/test\\14788.jpg\n",
      "Image not found: images/test\\14789.jpg\n",
      "Image not found: images/test\\14790.jpg\n",
      "Image not found: images/test\\14791.jpg\n",
      "Image not found: images/test\\14792.jpg\n",
      "Image not found: images/test\\14793.jpg\n",
      "Image not found: images/test\\14794.jpg\n",
      "Image not found: images/test\\14795.jpg\n",
      "Image not found: images/test\\14796.jpg\n",
      "Image not found: images/test\\14797.jpg\n",
      "Image not found: images/test\\14798.jpg\n",
      "Image not found: images/test\\14799.jpg\n",
      "Image not found: images/test\\14800.jpg\n",
      "Image not found: images/test\\14801.jpg\n",
      "Image not found: images/test\\14802.jpg\n",
      "Image not found: images/test\\14803.jpg\n",
      "Image not found: images/test\\14804.jpg\n",
      "Image not found: images/test\\14805.jpg\n",
      "Image not found: images/test\\14806.jpg\n",
      "Image not found: images/test\\14807.jpg\n",
      "Image not found: images/test\\14808.jpg\n",
      "Image not found: images/test\\14809.jpg\n",
      "Image not found: images/test\\14810.jpg\n",
      "Image not found: images/test\\14811.jpg\n",
      "Image not found: images/test\\14812.jpg\n",
      "Image not found: images/test\\14813.jpg\n",
      "Image not found: images/test\\14814.jpg\n",
      "Image not found: images/test\\14815.jpg\n",
      "Image not found: images/test\\14816.jpg\n",
      "Image not found: images/test\\14817.jpg\n",
      "Image not found: images/test\\14818.jpg\n",
      "Image not found: images/test\\14819.jpg\n",
      "Image not found: images/test\\14820.jpg\n",
      "Image not found: images/test\\14821.jpg\n",
      "Image not found: images/test\\14822.jpg\n",
      "Image not found: images/test\\14823.jpg\n",
      "Image not found: images/test\\14824.jpg\n",
      "Image not found: images/test\\14825.jpg\n",
      "Image not found: images/test\\14826.jpg\n",
      "Image not found: images/test\\14827.jpg\n",
      "Image not found: images/test\\14828.jpg\n",
      "Image not found: images/test\\14829.jpg\n",
      "Image not found: images/test\\14830.jpg\n",
      "Image not found: images/test\\14831.jpg\n",
      "Image not found: images/test\\14832.jpg\n",
      "Image not found: images/test\\14833.jpg\n",
      "Image not found: images/test\\14834.jpg\n",
      "Image not found: images/test\\14835.jpg\n",
      "Image not found: images/test\\14836.jpg\n",
      "Image not found: images/test\\14837.jpg\n",
      "Image not found: images/test\\14838.jpg\n",
      "Image not found: images/test\\14839.jpg\n",
      "Image not found: images/test\\14840.jpg\n",
      "Image not found: images/test\\14841.jpg\n",
      "Image not found: images/test\\14842.jpg\n",
      "Image not found: images/test\\14843.jpg\n",
      "Image not found: images/test\\14844.jpg\n",
      "Image not found: images/test\\14845.jpg\n",
      "Image not found: images/test\\14846.jpg\n",
      "Image not found: images/test\\14847.jpg\n",
      "Image not found: images/test\\14848.jpg\n",
      "Image not found: images/test\\14849.jpg\n",
      "Image not found: images/test\\14850.jpg\n",
      "Image not found: images/test\\14851.jpg\n",
      "Image not found: images/test\\14852.jpg\n",
      "Image not found: images/test\\14853.jpg\n",
      "Image not found: images/test\\14854.jpg\n",
      "Image not found: images/test\\14855.jpg\n",
      "Image not found: images/test\\14856.jpg\n",
      "Image not found: images/test\\14857.jpg\n",
      "Image not found: images/test\\14858.jpg\n",
      "Image not found: images/test\\14859.jpg\n",
      "Image not found: images/test\\14860.jpg\n",
      "Image not found: images/test\\14861.jpg\n",
      "Image not found: images/test\\14862.jpg\n",
      "Image not found: images/test\\14863.jpg\n",
      "Image not found: images/test\\14864.jpg\n",
      "Image not found: images/test\\14865.jpg\n",
      "Image not found: images/test\\14866.jpg\n",
      "Image not found: images/test\\14867.jpg\n",
      "Image not found: images/test\\14868.jpg\n",
      "Image not found: images/test\\14869.jpg\n",
      "Image not found: images/test\\14870.jpg\n",
      "Image not found: images/test\\14871.jpg\n",
      "Image not found: images/test\\14872.jpg\n",
      "Image not found: images/test\\14873.jpg\n",
      "Image not found: images/test\\14874.jpg\n",
      "Image not found: images/test\\14875.jpg\n",
      "Image not found: images/test\\14876.jpg\n",
      "Image not found: images/test\\14877.jpg\n",
      "Image not found: images/test\\14880.jpg\n",
      "Image not found: images/test\\14881.jpg\n",
      "Image not found: images/test\\14882.jpg\n",
      "Image not found: images/test\\14883.jpg\n",
      "Image not found: images/test\\14884.jpg\n",
      "Image not found: images/test\\14885.jpg\n",
      "Image not found: images/test\\14886.jpg\n",
      "Image not found: images/test\\14887.jpg\n",
      "Image not found: images/test\\14888.jpg\n",
      "Image not found: images/test\\14889.jpg\n",
      "Image not found: images/test\\14890.jpg\n",
      "Image not found: images/test\\14891.jpg\n",
      "Image not found: images/test\\14892.jpg\n",
      "Image not found: images/test\\14893.jpg\n",
      "Image not found: images/test\\14894.jpg\n",
      "Image not found: images/test\\14895.jpg\n",
      "Image not found: images/test\\14896.jpg\n",
      "Image not found: images/test\\14897.jpg\n",
      "Image not found: images/test\\14898.jpg\n",
      "Image not found: images/test\\14899.jpg\n",
      "Image not found: images/test\\14900.jpg\n",
      "Image not found: images/test\\14901.jpg\n",
      "Image not found: images/test\\14902.jpg\n",
      "Image not found: images/test\\14903.jpg\n",
      "Image not found: images/test\\14904.jpg\n",
      "Image not found: images/test\\14905.jpg\n",
      "Image not found: images/test\\14906.jpg\n",
      "Image not found: images/test\\14907.jpg\n",
      "Image not found: images/test\\14908.jpg\n",
      "Image not found: images/test\\14909.jpg\n",
      "Image not found: images/test\\14910.jpg\n",
      "Image not found: images/test\\14911.jpg\n",
      "Image not found: images/test\\14912.jpg\n",
      "Image not found: images/test\\14913.jpg\n",
      "Image not found: images/test\\14914.jpg\n",
      "Image not found: images/test\\14915.jpg\n",
      "Image not found: images/test\\14917.jpg\n",
      "Image not found: images/test\\14916.jpg\n",
      "Image not found: images/test\\14918.jpg\n",
      "Image not found: images/test\\14920.jpg\n",
      "Image not found: images/test\\14921.jpg\n",
      "Image not found: images/test\\14919.jpg\n",
      "Image not found: images/test\\14922.jpg\n",
      "Image not found: images/test\\14923.jpg\n",
      "Image not found: images/test\\14924.jpg\n",
      "Image not found: images/test\\14926.jpg\n",
      "Image not found: images/test\\14925.jpg\n",
      "Image not found: images/test\\14927.jpg\n",
      "Image not found: images/test\\14928.jpg\n",
      "Image not found: images/test\\14929.jpg\n",
      "Image not found: images/test\\14930.jpg\n",
      "Image not found: images/test\\14932.jpg\n",
      "Image not found: images/test\\14933.jpg\n",
      "Image not found: images/test\\14934.jpg\n",
      "Image not found: images/test\\14935.jpg\n",
      "Image not found: images/test\\14936.jpg\n",
      "Image not found: images/test\\14937.jpg\n",
      "Image not found: images/test\\14938.jpg\n",
      "Image not found: images/test\\14939.jpg\n",
      "Image not found: images/test\\14940.jpg\n",
      "Image not found: images/test\\14941.jpg\n",
      "Image not found: images/test\\14942.jpg\n",
      "Image not found: images/test\\14943.jpg\n",
      "Image not found: images/test\\14944.jpg\n",
      "Image not found: images/test\\14945.jpg\n",
      "Image not found: images/test\\14946.jpg\n",
      "Image not found: images/test\\14947.jpg\n",
      "Image not found: images/test\\14948.jpg\n",
      "Image not found: images/test\\14949.jpg\n",
      "Image not found: images/test\\14950.jpg\n",
      "Image not found: images/test\\14951.jpg\n",
      "Image not found: images/test\\14952.jpg\n",
      "Image not found: images/test\\14953.jpg\n",
      "Image not found: images/test\\14954.jpg\n",
      "Image not found: images/test\\14955.jpg\n",
      "Image not found: images/test\\14956.jpg\n",
      "Image not found: images/test\\14957.jpg\n",
      "Image not found: images/test\\14958.jpg\n",
      "Image not found: images/test\\14959.jpg\n",
      "Image not found: images/test\\14960.jpg\n",
      "Image not found: images/test\\14961.jpg\n",
      "Image not found: images/test\\14962.jpg\n",
      "Image not found: images/test\\14963.jpg\n",
      "Image not found: images/test\\14964.jpg\n",
      "Image not found: images/test\\14965.jpg\n",
      "Image not found: images/test\\14966.jpg\n",
      "Image not found: images/test\\14967.jpg\n",
      "Image not found: images/test\\14968.jpg\n",
      "Image not found: images/test\\14969.jpg\n",
      "Image not found: images/test\\14970.jpg\n",
      "Image not found: images/test\\14971.jpg\n",
      "Image not found: images/test\\14972.jpg\n",
      "Image not found: images/test\\14973.jpg\n",
      "Image not found: images/test\\14974.jpg\n",
      "Image not found: images/test\\14975.jpg\n",
      "Image not found: images/test\\14976.jpg\n",
      "Image not found: images/test\\14977.jpg\n",
      "Image not found: images/test\\14978.jpg\n",
      "Image not found: images/test\\14980.jpg\n",
      "Image not found: images/test\\14981.jpg\n",
      "Image not found: images/test\\14982.jpg\n",
      "Image not found: images/test\\14983.jpg\n",
      "Image not found: images/test\\14984.jpg\n",
      "Image not found: images/test\\14985.jpg\n",
      "Image not found: images/test\\14986.jpg\n",
      "Image not found: images/test\\14987.jpg\n",
      "Image not found: images/test\\14988.jpg\n",
      "Image not found: images/test\\14989.jpg\n",
      "Image not found: images/test\\14990.jpg\n",
      "Image not found: images/test\\14991.jpg\n",
      "Image not found: images/test\\14992.jpg\n",
      "Image not found: images/test\\14993.jpg\n",
      "Image not found: images/test\\14994.jpg\n",
      "Image not found: images/test\\14995.jpg\n",
      "Image not found: images/test\\14996.jpg\n",
      "Image not found: images/test\\14997.jpg\n",
      "Image not found: images/test\\14998.jpg\n",
      "Image not found: images/test\\14999.jpg\n",
      "Image not found: images/test\\15000.jpg\n",
      "Image not found: images/test\\15001.jpg\n",
      "Image not found: images/test\\15002.jpg\n",
      "Image not found: images/test\\15003.jpg\n",
      "Image not found: images/test\\15004.jpg\n",
      "Image not found: images/test\\15005.jpg\n",
      "Image not found: images/test\\15006.jpg\n",
      "Image not found: images/test\\15007.jpg\n",
      "Image not found: images/test\\15008.jpg\n",
      "Image not found: images/test\\15009.jpg\n",
      "Image not found: images/test\\15011.jpg\n",
      "Image not found: images/test\\15012.jpg\n",
      "Image not found: images/test\\15013.jpg\n",
      "Image not found: images/test\\15014.jpg\n",
      "Image not found: images/test\\15015.jpg\n",
      "Image not found: images/test\\15016.jpg\n",
      "Image not found: images/test\\15017.jpg\n",
      "Image not found: images/test\\15018.jpg\n",
      "Image not found: images/test\\15019.jpg\n",
      "Image not found: images/test\\15020.jpg\n",
      "Image not found: images/test\\15021.jpg\n",
      "Image not found: images/test\\15022.jpg\n",
      "Image not found: images/test\\15023.jpg\n",
      "Image not found: images/test\\15024.jpg\n",
      "Image not found: images/test\\15025.jpg\n",
      "Image not found: images/test\\15026.jpg\n",
      "Image not found: images/test\\15027.jpg\n",
      "Image not found: images/test\\15028.jpg\n",
      "Image not found: images/test\\15029.jpg\n",
      "Image not found: images/test\\15030.jpg\n",
      "Image not found: images/test\\15031.jpg\n",
      "Image not found: images/test\\15032.jpg\n",
      "Image not found: images/test\\15033.jpg\n",
      "Image not found: images/test\\15034.jpg\n",
      "Image not found: images/test\\15035.jpg\n",
      "Image not found: images/test\\15036.jpg\n",
      "Image not found: images/test\\15037.jpg\n",
      "Image not found: images/test\\15038.jpg\n",
      "Image not found: images/test\\15039.jpg\n",
      "Image not found: images/test\\15040.jpg\n",
      "Image not found: images/test\\15041.jpg\n",
      "Image not found: images/test\\15042.jpg\n",
      "Image not found: images/test\\15043.jpg\n",
      "Image not found: images/test\\15044.jpg\n",
      "Image not found: images/test\\15045.jpg\n",
      "Image not found: images/test\\15046.jpg\n",
      "Image not found: images/test\\15047.jpg\n",
      "Image not found: images/test\\15048.jpg\n",
      "Image not found: images/test\\15049.jpg\n",
      "Image not found: images/test\\15050.jpg\n",
      "Image not found: images/test\\15051.jpg\n",
      "Image not found: images/test\\15052.jpg\n",
      "Image not found: images/test\\15053.jpg\n",
      "Image not found: images/test\\15054.jpg\n",
      "Image not found: images/test\\15055.jpg\n",
      "Image not found: images/test\\15056.jpg\n",
      "Image not found: images/test\\15057.jpg\n",
      "Image not found: images/test\\15058.jpg\n",
      "Image not found: images/test\\15059.jpg\n",
      "Image not found: images/test\\15060.jpg\n",
      "Image not found: images/test\\15061.jpg\n",
      "Image not found: images/test\\15062.jpg\n",
      "Image not found: images/test\\15063.jpg\n",
      "Image not found: images/test\\15064.jpg\n",
      "Image not found: images/test\\15065.jpg\n",
      "Image not found: images/test\\15066.jpg\n",
      "Image not found: images/test\\15067.jpg\n",
      "Image not found: images/test\\15068.jpg\n",
      "Image not found: images/test\\15069.jpg\n",
      "Image not found: images/test\\15070.jpg\n",
      "Image not found: images/test\\15071.jpg\n",
      "Image not found: images/test\\15072.jpg\n",
      "Image not found: images/test\\15073.jpg\n",
      "Image not found: images/test\\15074.jpg\n",
      "Image not found: images/test\\15075.jpg\n",
      "Image not found: images/test\\15076.jpg\n",
      "Image not found: images/test\\15078.jpg\n",
      "Image not found: images/test\\15079.jpg\n",
      "Image not found: images/test\\15080.jpg\n",
      "Image not found: images/test\\15081.jpg\n",
      "Image not found: images/test\\15082.jpg\n",
      "Image not found: images/test\\15083.jpg\n",
      "Image not found: images/test\\15084.jpg\n",
      "Image not found: images/test\\15085.jpg\n",
      "Image not found: images/test\\15086.jpg\n",
      "Image not found: images/test\\15087.jpg\n",
      "Image not found: images/test\\15088.jpg\n",
      "Image not found: images/test\\15089.jpg\n",
      "Image not found: images/test\\15090.jpg\n",
      "Image not found: images/test\\15091.jpg\n",
      "Image not found: images/test\\15092.jpg\n",
      "Image not found: images/test\\15093.jpg\n",
      "Image not found: images/test\\15094.jpg\n",
      "Image not found: images/test\\15095.jpg\n",
      "Image not found: images/test\\15096.jpg\n",
      "Image not found: images/test\\15097.jpg\n",
      "Image not found: images/test\\15098.jpg\n",
      "Image not found: images/test\\15099.jpg\n",
      "Image not found: images/test\\15100.jpg\n",
      "Image not found: images/test\\15101.jpg\n",
      "Image not found: images/test\\15102.jpg\n",
      "Image not found: images/test\\15103.jpg\n",
      "Image not found: images/test\\15104.jpg\n",
      "Image not found: images/test\\15105.jpg\n",
      "Image not found: images/test\\15106.jpg\n",
      "Image not found: images/test\\15107.jpg\n",
      "Image not found: images/test\\15108.jpg\n",
      "Image not found: images/test\\15109.jpg\n",
      "Image not found: images/test\\15110.jpg\n",
      "Image not found: images/test\\15111.jpg\n",
      "Image not found: images/test\\15112.jpg\n",
      "Image not found: images/test\\15113.jpg\n",
      "Image not found: images/test\\15114.jpg\n",
      "Image not found: images/test\\15115.jpg\n",
      "Image not found: images/test\\15116.jpg\n",
      "Image not found: images/test\\15117.jpg\n",
      "Image not found: images/test\\15118.jpg\n",
      "Image not found: images/test\\15119.jpg\n",
      "Image not found: images/test\\15120.jpg\n",
      "Image not found: images/test\\15121.jpg\n",
      "Image not found: images/test\\15122.jpg\n",
      "Image not found: images/test\\15123.jpg\n",
      "Image not found: images/test\\15124.jpg\n",
      "Image not found: images/test\\15125.jpg\n",
      "Image not found: images/test\\15126.jpg\n",
      "Image not found: images/test\\15128.jpg\n",
      "Image not found: images/test\\15129.jpg\n",
      "Image not found: images/test\\15130.jpg\n",
      "Image not found: images/test\\15131.jpg\n",
      "Image not found: images/test\\15132.jpg\n",
      "Image not found: images/test\\15133.jpg\n",
      "Image not found: images/test\\15134.jpg\n",
      "Image not found: images/test\\15135.jpg\n",
      "Image not found: images/test\\15136.jpg\n",
      "Image not found: images/test\\15137.jpg\n",
      "Image not found: images/test\\15138.jpg\n",
      "Image not found: images/test\\15139.jpg\n",
      "Image not found: images/test\\15140.jpg\n"
     ]
    },
    {
     "name": "stderr",
     "output_type": "stream",
     "text": [
      "100%|██████████████████████████████████████████████████████████████████████████████| 2000/2000 [00:41<00:00, 48.29it/s]\n"
     ]
    },
    {
     "name": "stdout",
     "output_type": "stream",
     "text": [
      "Processed batch 8/66\n"
     ]
    },
    {
     "name": "stderr",
     "output_type": "stream",
     "text": [
      " 28%|██████████████████████▍                                                        | 568/2000 [00:20<00:37, 37.99it/s]"
     ]
    },
    {
     "name": "stdout",
     "output_type": "stream",
     "text": [
      "Image not found: images/test\\16638.jpg\n",
      "Image not found: images/test\\16640.jpg\n",
      "Image not found: images/test\\16642.jpg\n"
     ]
    },
    {
     "name": "stderr",
     "output_type": "stream",
     "text": [
      "100%|██████████████████████████████████████████████████████████████████████████████| 2000/2000 [01:06<00:00, 30.28it/s]\n"
     ]
    },
    {
     "name": "stdout",
     "output_type": "stream",
     "text": [
      "Processed batch 9/66\n"
     ]
    },
    {
     "name": "stderr",
     "output_type": "stream",
     "text": [
      "  5%|███▉                                                                           | 100/2000 [00:03<01:02, 30.59it/s]"
     ]
    },
    {
     "name": "stdout",
     "output_type": "stream",
     "text": [
      "Image not found: images/test\\18135.jpg\n"
     ]
    },
    {
     "name": "stderr",
     "output_type": "stream",
     "text": [
      " 28%|██████████████████████▍                                                        | 567/2000 [00:20<00:45, 31.44it/s]"
     ]
    },
    {
     "name": "stdout",
     "output_type": "stream",
     "text": [
      "Image not found: images/test\\18612.jpg\n"
     ]
    },
    {
     "name": "stderr",
     "output_type": "stream",
     "text": [
      " 40%|███████████████████████████████▍                                               | 796/2000 [00:27<00:31, 38.24it/s]"
     ]
    },
    {
     "name": "stdout",
     "output_type": "stream",
     "text": [
      "Image not found: images/test\\18846.jpg\n"
     ]
    },
    {
     "name": "stderr",
     "output_type": "stream",
     "text": [
      "100%|██████████████████████████████████████████████████████████████████████████████| 2000/2000 [01:41<00:00, 19.61it/s]\n"
     ]
    },
    {
     "name": "stdout",
     "output_type": "stream",
     "text": [
      "Processed batch 10/66\n"
     ]
    },
    {
     "name": "stderr",
     "output_type": "stream",
     "text": [
      " 31%|████████████████████████▏                                                      | 612/2000 [00:45<02:00, 11.50it/s]"
     ]
    },
    {
     "name": "stdout",
     "output_type": "stream",
     "text": [
      "Image not found: images/test\\20766.jpg\n"
     ]
    },
    {
     "name": "stderr",
     "output_type": "stream",
     "text": [
      " 40%|███████████████████████████████▏                                               | 790/2000 [00:49<01:00, 20.06it/s]"
     ]
    },
    {
     "name": "stdout",
     "output_type": "stream",
     "text": [
      "Image not found: images/test\\20881.jpg\n"
     ]
    },
    {
     "name": "stderr",
     "output_type": "stream",
     "text": [
      " 58%|█████████████████████████████████████████████                                 | 1157/2000 [01:13<00:40, 20.75it/s]"
     ]
    },
    {
     "name": "stdout",
     "output_type": "stream",
     "text": [
      "Image not found: images/test\\21210.jpg\n"
     ]
    },
    {
     "name": "stderr",
     "output_type": "stream",
     "text": [
      " 60%|██████████████████████████████████████████████▋                               | 1198/2000 [01:16<00:55, 14.42it/s]"
     ]
    },
    {
     "name": "stdout",
     "output_type": "stream",
     "text": [
      "Image not found: images/test\\21257.jpg\n"
     ]
    },
    {
     "name": "stderr",
     "output_type": "stream",
     "text": [
      " 62%|███████████████████████████████████████████████▉                              | 1230/2000 [01:19<01:10, 10.97it/s]"
     ]
    },
    {
     "name": "stdout",
     "output_type": "stream",
     "text": [
      "Image not found: images/test\\21299.jpg\n",
      "Image not found: images/test\\21300.jpg\n"
     ]
    },
    {
     "name": "stderr",
     "output_type": "stream",
     "text": [
      "100%|██████████████████████████████████████████████████████████████████████████████| 2000/2000 [02:03<00:00, 16.16it/s]\n"
     ]
    },
    {
     "name": "stdout",
     "output_type": "stream",
     "text": [
      "Processed batch 11/66\n"
     ]
    },
    {
     "name": "stderr",
     "output_type": "stream",
     "text": [
      "100%|██████████████████████████████████████████████████████████████████████████████| 2000/2000 [02:09<00:00, 15.49it/s]\n"
     ]
    },
    {
     "name": "stdout",
     "output_type": "stream",
     "text": [
      "Processed batch 12/66\n"
     ]
    },
    {
     "name": "stderr",
     "output_type": "stream",
     "text": [
      "100%|██████████████████████████████████████████████████████████████████████████████| 2000/2000 [02:06<00:00, 15.83it/s]\n"
     ]
    },
    {
     "name": "stdout",
     "output_type": "stream",
     "text": [
      "Processed batch 13/66\n"
     ]
    },
    {
     "name": "stderr",
     "output_type": "stream",
     "text": [
      "100%|██████████████████████████████████████████████████████████████████████████████| 2000/2000 [02:00<00:00, 16.54it/s]\n"
     ]
    },
    {
     "name": "stdout",
     "output_type": "stream",
     "text": [
      "Processed batch 14/66\n"
     ]
    },
    {
     "name": "stderr",
     "output_type": "stream",
     "text": [
      " 64%|██████████████████████████████████████████████████▏                           | 1286/2000 [01:25<01:08, 10.45it/s]"
     ]
    },
    {
     "name": "stdout",
     "output_type": "stream",
     "text": [
      "Image not found: images/test\\29360.jpg\n",
      "Image not found: images/test\\29364.jpg\n",
      "Image not found: images/test\\29365.jpg\n",
      "Image not found: images/test\\29366.jpg\n",
      "Image not found: images/test\\29367.jpg\n",
      "Image not found: images/test\\29368.jpg\n",
      "Image not found: images/test\\29369.jpg\n",
      "Image not found: images/test\\29370.jpg\n",
      "Image not found: images/test\\29371.jpg\n",
      "Image not found: images/test\\29372.jpg\n",
      "Image not found: images/test\\29373.jpg\n",
      "Image not found: images/test\\29374.jpg\n",
      "Image not found: images/test\\29375.jpg\n",
      "Image not found: images/test\\29376.jpg\n",
      "Image not found: images/test\\29377.jpg\n",
      "Image not found: images/test\\29378.jpg\n",
      "Image not found: images/test\\29379.jpg\n",
      "Image not found: images/test\\29380.jpg\n",
      "Image not found: images/test\\29381.jpg\n",
      "Image not found: images/test\\29382.jpg\n",
      "Image not found: images/test\\29384.jpg\n",
      "Image not found: images/test\\29385.jpg\n",
      "Image not found: images/test\\29386.jpg\n",
      "Image not found: images/test\\29387.jpg\n",
      "Image not found: images/test\\29388.jpg\n",
      "Image not found: images/test\\29389.jpg\n",
      "Image not found: images/test\\29390.jpg\n",
      "Image not found: images/test\\29391.jpg\n",
      "Image not found: images/test\\29392.jpg\n",
      "Image not found: images/test\\29393.jpg\n",
      "Image not found: images/test\\29394.jpg\n",
      "Image not found: images/test\\29395.jpg\n",
      "Image not found: images/test\\29397.jpg\n",
      "Image not found: images/test\\29399.jpg\n",
      "Image not found: images/test\\29400.jpg\n",
      "Image not found: images/test\\29401.jpg\n",
      "Image not found: images/test\\29402.jpg\n",
      "Image not found: images/test\\29403.jpg\n",
      "Image not found: images/test\\29404.jpg\n",
      "Image not found: images/test\\29405.jpg\n",
      "Image not found: images/test\\29406.jpg\n",
      "Image not found: images/test\\29407.jpg\n",
      "Image not found: images/test\\29408.jpg\n",
      "Image not found: images/test\\29409.jpg\n",
      "Image not found: images/test\\29410.jpg\n",
      "Image not found: images/test\\29411.jpg\n",
      "Image not found: images/test\\29412.jpg\n",
      "Image not found: images/test\\29413.jpg\n",
      "Image not found: images/test\\29414.jpg\n",
      "Image not found: images/test\\29415.jpg\n",
      "Image not found: images/test\\29418.jpg\n",
      "Image not found: images/test\\29419.jpg\n",
      "Image not found: images/test\\29420.jpg\n",
      "Image not found: images/test\\29421.jpg\n",
      "Image not found: images/test\\29423.jpg\n",
      "Image not found: images/test\\29424.jpg\n",
      "Image not found: images/test\\29425.jpg\n",
      "Image not found: images/test\\29426.jpg\n",
      "Image not found: images/test\\29427.jpg\n",
      "Image not found: images/test\\29428.jpg\n",
      "Image not found: images/test\\29429.jpg\n",
      "Image not found: images/test\\29430.jpg\n",
      "Image not found: images/test\\29431.jpg\n",
      "Image not found: images/test\\29432.jpg\n",
      "Image not found: images/test\\29433.jpg\n",
      "Image not found: images/test\\29434.jpg\n",
      "Image not found: images/test\\29435.jpg\n",
      "Image not found: images/test\\29437.jpg\n",
      "Image not found: images/test\\29438.jpg\n",
      "Image not found: images/test\\29439.jpg\n",
      "Image not found: images/test\\29440.jpg\n",
      "Image not found: images/test\\29441.jpg\n",
      "Image not found: images/test\\29442.jpg\n",
      "Image not found: images/test\\29443.jpg\n",
      "Image not found: images/test\\29444.jpg\n",
      "Image not found: images/test\\29445.jpg\n",
      "Image not found: images/test\\29446.jpg\n",
      "Image not found: images/test\\29447.jpg\n",
      "Image not found: images/test\\29448.jpg\n",
      "Image not found: images/test\\29449.jpg\n",
      "Image not found: images/test\\29450.jpg\n",
      "Image not found: images/test\\29451.jpg\n",
      "Image not found: images/test\\29452.jpg\n",
      "Image not found: images/test\\29453.jpg\n",
      "Image not found: images/test\\29454.jpg\n",
      "Image not found: images/test\\29455.jpg\n",
      "Image not found: images/test\\29456.jpg\n",
      "Image not found: images/test\\29457.jpg\n",
      "Image not found: images/test\\29458.jpg\n",
      "Image not found: images/test\\29459.jpg\n",
      "Image not found: images/test\\29460.jpg\n",
      "Image not found: images/test\\29461.jpg\n",
      "Image not found: images/test\\29462.jpg\n",
      "Image not found: images/test\\29463.jpg\n",
      "Image not found: images/test\\29464.jpg\n",
      "Image not found: images/test\\29465.jpg\n",
      "Image not found: images/test\\29466.jpg\n",
      "Image not found: images/test\\29467.jpg\n",
      "Image not found: images/test\\29468.jpg\n",
      "Image not found: images/test\\29469.jpg\n",
      "Image not found: images/test\\29472.jpg\n",
      "Image not found: images/test\\29473.jpg\n",
      "Image not found: images/test\\29474.jpg\n",
      "Image not found: images/test\\29475.jpg\n",
      "Image not found: images/test\\29476.jpg\n",
      "Image not found: images/test\\29477.jpg\n",
      "Image not found: images/test\\29478.jpg\n",
      "Image not found: images/test\\29479.jpg\n",
      "Image not found: images/test\\29480.jpg\n",
      "Image not found: images/test\\29481.jpg\n",
      "Image not found: images/test\\29482.jpg\n",
      "Image not found: images/test\\29483.jpg\n",
      "Image not found: images/test\\29484.jpg\n",
      "Image not found: images/test\\29485.jpg\n",
      "Image not found: images/test\\29486.jpg\n",
      "Image not found: images/test\\29487.jpg\n",
      "Image not found: images/test\\29488.jpg\n",
      "Image not found: images/test\\29489.jpg\n",
      "Image not found: images/test\\29490.jpg\n",
      "Image not found: images/test\\29491.jpg\n",
      "Image not found: images/test\\29492.jpg\n",
      "Image not found: images/test\\29493.jpg\n",
      "Image not found: images/test\\29494.jpg\n",
      "Image not found: images/test\\29495.jpg\n",
      "Image not found: images/test\\29496.jpg\n",
      "Image not found: images/test\\29497.jpg\n",
      "Image not found: images/test\\29498.jpg\n",
      "Image not found: images/test\\29499.jpg\n",
      "Image not found: images/test\\29500.jpg\n",
      "Image not found: images/test\\29501.jpg\n",
      "Image not found: images/test\\29502.jpg\n",
      "Image not found: images/test\\29506.jpg\n",
      "Image not found: images/test\\29507.jpg\n",
      "Image not found: images/test\\29508.jpg\n",
      "Image not found: images/test\\29509.jpg\n",
      "Image not found: images/test\\29510.jpg\n",
      "Image not found: images/test\\29511.jpg\n",
      "Image not found: images/test\\29512.jpg\n",
      "Image not found: images/test\\29513.jpg\n",
      "Image not found: images/test\\29514.jpg\n",
      "Image not found: images/test\\29515.jpg\n",
      "Image not found: images/test\\29516.jpg\n",
      "Image not found: images/test\\29517.jpg\n",
      "Image not found: images/test\\29518.jpg\n",
      "Image not found: images/test\\29519.jpg\n",
      "Image not found: images/test\\29522.jpg\n",
      "Image not found: images/test\\29523.jpg\n",
      "Image not found: images/test\\29524.jpg\n",
      "Image not found: images/test\\29525.jpg\n",
      "Image not found: images/test\\29526.jpg\n",
      "Image not found: images/test\\29527.jpg\n",
      "Image not found: images/test\\29528.jpg\n",
      "Image not found: images/test\\29529.jpg\n",
      "Image not found: images/test\\29530.jpg\n",
      "Image not found: images/test\\29531.jpg\n",
      "Image not found: images/test\\29532.jpg\n",
      "Image not found: images/test\\29533.jpg\n",
      "Image not found: images/test\\29535.jpg\n",
      "Image not found: images/test\\29536.jpg\n",
      "Image not found: images/test\\29537.jpg\n",
      "Image not found: images/test\\29538.jpg\n",
      "Image not found: images/test\\29539.jpg\n",
      "Image not found: images/test\\29540.jpg\n",
      "Image not found: images/test\\29541.jpg\n",
      "Image not found: images/test\\29542.jpg\n",
      "Image not found: images/test\\29543.jpg\n",
      "Image not found: images/test\\29544.jpg\n",
      "Image not found: images/test\\29545.jpg\n",
      "Image not found: images/test\\29546.jpg\n",
      "Image not found: images/test\\29547.jpg\n",
      "Image not found: images/test\\29548.jpg\n",
      "Image not found: images/test\\29549.jpg\n",
      "Image not found: images/test\\29550.jpg\n",
      "Image not found: images/test\\29551.jpg\n",
      "Image not found: images/test\\29552.jpg\n",
      "Image not found: images/test\\29553.jpg\n",
      "Image not found: images/test\\29554.jpg\n",
      "Image not found: images/test\\29555.jpg\n",
      "Image not found: images/test\\29556.jpg\n",
      "Image not found: images/test\\29557.jpg\n",
      "Image not found: images/test\\29558.jpg\n",
      "Image not found: images/test\\29559.jpg\n",
      "Image not found: images/test\\29560.jpg\n",
      "Image not found: images/test\\29561.jpg\n",
      "Image not found: images/test\\29562.jpg\n",
      "Image not found: images/test\\29563.jpg\n",
      "Image not found: images/test\\29564.jpg\n",
      "Image not found: images/test\\29565.jpg\n",
      "Image not found: images/test\\29566.jpg\n",
      "Image not found: images/test\\29567.jpg\n",
      "Image not found: images/test\\29568.jpg\n",
      "Image not found: images/test\\29569.jpg\n",
      "Image not found: images/test\\29570.jpg\n",
      "Image not found: images/test\\29571.jpg\n",
      "Image not found: images/test\\29572.jpg\n",
      "Image not found: images/test\\29573.jpg\n",
      "Image not found: images/test\\29575.jpg\n",
      "Image not found: images/test\\29576.jpg\n",
      "Image not found: images/test\\29577.jpg\n",
      "Image not found: images/test\\29578.jpg\n",
      "Image not found: images/test\\29581.jpg\n",
      "Image not found: images/test\\29582.jpg\n",
      "Image not found: images/test\\29583.jpg\n",
      "Image not found: images/test\\29584.jpg\n",
      "Image not found: images/test\\29585.jpg\n",
      "Image not found: images/test\\29586.jpg\n",
      "Image not found: images/test\\29587.jpg\n",
      "Image not found: images/test\\29588.jpg\n",
      "Image not found: images/test\\29589.jpg\n",
      "Image not found: images/test\\29590.jpg\n",
      "Image not found: images/test\\29591.jpg\n",
      "Image not found: images/test\\29592.jpg\n",
      "Image not found: images/test\\29593.jpg\n",
      "Image not found: images/test\\29594.jpg\n",
      "Image not found: images/test\\29595.jpg\n",
      "Image not found: images/test\\29596.jpg\n",
      "Image not found: images/test\\29597.jpg\n",
      "Image not found: images/test\\29598.jpg\n",
      "Image not found: images/test\\29599.jpg\n",
      "Image not found: images/test\\29600.jpg\n",
      "Image not found: images/test\\29601.jpg\n",
      "Image not found: images/test\\29602.jpg\n",
      "Image not found: images/test\\29603.jpg\n",
      "Image not found: images/test\\29604.jpg\n",
      "Image not found: images/test\\29605.jpg\n",
      "Image not found: images/test\\29606.jpg\n",
      "Image not found: images/test\\29607.jpg\n",
      "Image not found: images/test\\29608.jpg\n",
      "Image not found: images/test\\29609.jpg\n",
      "Image not found: images/test\\29610.jpg\n",
      "Image not found: images/test\\29611.jpg\n",
      "Image not found: images/test\\29612.jpg\n",
      "Image not found: images/test\\29613.jpg\n",
      "Image not found: images/test\\29614.jpg\n",
      "Image not found: images/test\\29616.jpg\n",
      "Image not found: images/test\\29617.jpg\n",
      "Image not found: images/test\\29618.jpg\n",
      "Image not found: images/test\\29619.jpg\n",
      "Image not found: images/test\\29620.jpg\n",
      "Image not found: images/test\\29621.jpg\n",
      "Image not found: images/test\\29622.jpg\n",
      "Image not found: images/test\\29624.jpg\n",
      "Image not found: images/test\\29625.jpg\n",
      "Image not found: images/test\\29632.jpg\n",
      "Image not found: images/test\\29633.jpg\n",
      "Image not found: images/test\\29634.jpg\n",
      "Image not found: images/test\\29635.jpg\n",
      "Image not found: images/test\\29636.jpg\n",
      "Image not found: images/test\\29641.jpg\n",
      "Image not found: images/test\\29642.jpg\n",
      "Image not found: images/test\\29644.jpg\n",
      "Image not found: images/test\\29645.jpg\n",
      "Image not found: images/test\\29646.jpg\n",
      "Image not found: images/test\\29647.jpg\n",
      "Image not found: images/test\\29648.jpg\n",
      "Image not found: images/test\\29649.jpg\n",
      "Image not found: images/test\\29650.jpg\n",
      "Image not found: images/test\\29651.jpg\n",
      "Image not found: images/test\\29652.jpg\n",
      "Image not found: images/test\\29653.jpg\n",
      "Image not found: images/test\\29654.jpg\n",
      "Image not found: images/test\\29655.jpg\n",
      "Image not found: images/test\\29656.jpg\n",
      "Image not found: images/test\\29657.jpg\n",
      "Image not found: images/test\\29658.jpg\n",
      "Image not found: images/test\\29659.jpg\n",
      "Image not found: images/test\\29660.jpg\n",
      "Image not found: images/test\\29661.jpg\n",
      "Image not found: images/test\\29662.jpg\n",
      "Image not found: images/test\\29663.jpg\n",
      "Image not found: images/test\\29665.jpg\n",
      "Image not found: images/test\\29666.jpg\n",
      "Image not found: images/test\\29667.jpg\n",
      "Image not found: images/test\\29668.jpg\n",
      "Image not found: images/test\\29669.jpg\n",
      "Image not found: images/test\\29670.jpg\n",
      "Image not found: images/test\\29671.jpg\n",
      "Image not found: images/test\\29672.jpg\n",
      "Image not found: images/test\\29673.jpg\n",
      "Image not found: images/test\\29674.jpg\n",
      "Image not found: images/test\\29675.jpg\n",
      "Image not found: images/test\\29676.jpg\n",
      "Image not found: images/test\\29677.jpg\n",
      "Image not found: images/test\\29678.jpg\n",
      "Image not found: images/test\\29679.jpg\n",
      "Image not found: images/test\\29680.jpg\n",
      "Image not found: images/test\\29681.jpg\n",
      "Image not found: images/test\\29682.jpg\n",
      "Image not found: images/test\\29684.jpg\n",
      "Image not found: images/test\\29685.jpg\n",
      "Image not found: images/test\\29686.jpg\n",
      "Image not found: images/test\\29688.jpg\n",
      "Image not found: images/test\\29689.jpg\n",
      "Image not found: images/test\\29690.jpg\n",
      "Image not found: images/test\\29691.jpg\n",
      "Image not found: images/test\\29692.jpg\n",
      "Image not found: images/test\\29693.jpg\n",
      "Image not found: images/test\\29694.jpg\n",
      "Image not found: images/test\\29697.jpg\n",
      "Image not found: images/test\\29698.jpg\n",
      "Image not found: images/test\\29699.jpg\n",
      "Image not found: images/test\\29700.jpg\n",
      "Image not found: images/test\\29701.jpg\n",
      "Image not found: images/test\\29702.jpg\n",
      "Image not found: images/test\\29703.jpg\n",
      "Image not found: images/test\\29704.jpg\n",
      "Image not found: images/test\\29705.jpg\n",
      "Image not found: images/test\\29706.jpg\n",
      "Image not found: images/test\\29707.jpg\n",
      "Image not found: images/test\\29708.jpg\n",
      "Image not found: images/test\\29709.jpg\n",
      "Image not found: images/test\\29711.jpg\n",
      "Image not found: images/test\\29712.jpg\n",
      "Image not found: images/test\\29710.jpg\n",
      "Image not found: images/test\\29714.jpg\n",
      "Image not found: images/test\\29715.jpg\n",
      "Image not found: images/test\\29713.jpg\n",
      "Image not found: images/test\\29716.jpg\n",
      "Image not found: images/test\\29717.jpg\n",
      "Image not found: images/test\\29719.jpg\n",
      "Image not found: images/test\\29718.jpg\n",
      "Image not found: images/test\\29721.jpg\n",
      "Image not found: images/test\\29722.jpg\n",
      "Image not found: images/test\\29720.jpg\n",
      "Image not found: images/test\\29723.jpg\n",
      "Image not found: images/test\\29724.jpg\n",
      "Image not found: images/test\\29725.jpg\n",
      "Image not found: images/test\\29726.jpg\n",
      "Image not found: images/test\\29727.jpg\n",
      "Image not found: images/test\\29728.jpg\n",
      "Image not found: images/test\\29730.jpg\n",
      "Image not found: images/test\\29729.jpg\n",
      "Image not found: images/test\\29731.jpg\n",
      "Image not found: images/test\\29733.jpg\n",
      "Image not found: images/test\\29734.jpg\n",
      "Image not found: images/test\\29732.jpg\n",
      "Image not found: images/test\\29737.jpg\n",
      "Image not found: images/test\\29735.jpg\n",
      "Image not found: images/test\\29736.jpg\n"
     ]
    },
    {
     "name": "stderr",
     "output_type": "stream",
     "text": [
      "100%|██████████████████████████████████████████████████████████████████████████████| 2000/2000 [01:43<00:00, 19.28it/s]\n"
     ]
    },
    {
     "name": "stdout",
     "output_type": "stream",
     "text": [
      "Processed batch 15/66\n"
     ]
    },
    {
     "name": "stderr",
     "output_type": "stream",
     "text": [
      "100%|██████████████████████████████████████████████████████████████████████████████| 2000/2000 [02:08<00:00, 15.57it/s]\n"
     ]
    },
    {
     "name": "stdout",
     "output_type": "stream",
     "text": [
      "Processed batch 16/66\n"
     ]
    },
    {
     "name": "stderr",
     "output_type": "stream",
     "text": [
      "100%|██████████████████████████████████████████████████████████████████████████████| 2000/2000 [01:59<00:00, 16.77it/s]\n"
     ]
    },
    {
     "name": "stdout",
     "output_type": "stream",
     "text": [
      "Processed batch 17/66\n"
     ]
    },
    {
     "name": "stderr",
     "output_type": "stream",
     "text": [
      "100%|██████████████████████████████████████████████████████████████████████████████| 2000/2000 [01:59<00:00, 16.76it/s]\n"
     ]
    },
    {
     "name": "stdout",
     "output_type": "stream",
     "text": [
      "Processed batch 18/66\n"
     ]
    },
    {
     "name": "stderr",
     "output_type": "stream",
     "text": [
      " 40%|███████████████████████████████▏                                               | 791/2000 [00:52<01:35, 12.61it/s]"
     ]
    },
    {
     "name": "stdout",
     "output_type": "stream",
     "text": [
      "Image not found: images/test\\36856.jpg\n"
     ]
    },
    {
     "name": "stderr",
     "output_type": "stream",
     "text": [
      "100%|██████████████████████████████████████████████████████████████████████████████| 2000/2000 [02:06<00:00, 15.86it/s]\n"
     ]
    },
    {
     "name": "stdout",
     "output_type": "stream",
     "text": [
      "Processed batch 19/66\n"
     ]
    },
    {
     "name": "stderr",
     "output_type": "stream",
     "text": [
      "  3%|██▋                                                                             | 67/2000 [00:07<02:44, 11.77it/s]"
     ]
    },
    {
     "name": "stdout",
     "output_type": "stream",
     "text": [
      "Image not found: images/test\\38182.jpg\n",
      "Image not found: images/test\\38184.jpg\n",
      "Image not found: images/test\\38185.jpg\n",
      "Image not found: images/test\\38192.jpg\n",
      "Image not found: images/test\\38193.jpg\n",
      "Image not found: images/test\\38195.jpg\n",
      "Image not found: images/test\\38215.jpg\n",
      "Image not found: images/test\\38216.jpg\n",
      "Image not found: images/test\\38217.jpg\n"
     ]
    },
    {
     "name": "stderr",
     "output_type": "stream",
     "text": [
      " 29%|██████████████████████▊                                                        | 579/2000 [00:37<01:02, 22.60it/s]"
     ]
    },
    {
     "name": "stdout",
     "output_type": "stream",
     "text": [
      "Image not found: images/test\\38626.jpg\n"
     ]
    },
    {
     "name": "stderr",
     "output_type": "stream",
     "text": [
      " 45%|███████████████████████████████████▉                                           | 909/2000 [00:56<00:50, 21.71it/s]"
     ]
    },
    {
     "name": "stdout",
     "output_type": "stream",
     "text": [
      "Image not found: images/test\\38946.jpg\n",
      "Image not found: images/test\\38947.jpg\n",
      "Image not found: images/test\\38948.jpg\n",
      "Image not found: images/test\\38949.jpg\n"
     ]
    },
    {
     "name": "stderr",
     "output_type": "stream",
     "text": [
      " 46%|████████████████████████████████████▏                                          | 916/2000 [00:56<00:45, 23.72it/s]"
     ]
    },
    {
     "name": "stdout",
     "output_type": "stream",
     "text": [
      "Image not found: images/test\\38962.jpg\n",
      "Image not found: images/test\\38963.jpg\n",
      "Image not found: images/test\\38967.jpg\n"
     ]
    },
    {
     "name": "stderr",
     "output_type": "stream",
     "text": [
      " 52%|████████████████████████████████████████▎                                     | 1033/2000 [01:05<02:11,  7.35it/s]"
     ]
    },
    {
     "name": "stdout",
     "output_type": "stream",
     "text": [
      "Image not found: images/test\\39106.jpg\n"
     ]
    },
    {
     "name": "stderr",
     "output_type": "stream",
     "text": [
      " 52%|████████████████████████████████████████▋                                     | 1044/2000 [01:06<02:01,  7.84it/s]"
     ]
    },
    {
     "name": "stdout",
     "output_type": "stream",
     "text": [
      "Image not found: images/test\\39160.jpg\n",
      "Image not found: images/test\\39161.jpg\n"
     ]
    },
    {
     "name": "stderr",
     "output_type": "stream",
     "text": [
      " 60%|███████████████████████████████████████████████                               | 1206/2000 [01:14<00:31, 25.09it/s]"
     ]
    },
    {
     "name": "stdout",
     "output_type": "stream",
     "text": [
      "Image not found: images/test\\39242.jpg\n",
      "Image not found: images/test\\39243.jpg\n"
     ]
    },
    {
     "name": "stderr",
     "output_type": "stream",
     "text": [
      "100%|██████████████████████████████████████████████████████████████████████████████| 2000/2000 [02:03<00:00, 16.15it/s]\n"
     ]
    },
    {
     "name": "stdout",
     "output_type": "stream",
     "text": [
      "Processed batch 20/66\n"
     ]
    },
    {
     "name": "stderr",
     "output_type": "stream",
     "text": [
      " 47%|█████████████████████████████████████▏                                         | 941/2000 [01:06<01:49,  9.70it/s]"
     ]
    },
    {
     "name": "stdout",
     "output_type": "stream",
     "text": [
      "Image not found: images/test\\41090.jpg\n",
      "Image not found: images/test\\41091.jpg\n"
     ]
    },
    {
     "name": "stderr",
     "output_type": "stream",
     "text": [
      " 59%|██████████████████████████████████████████████▏                               | 1185/2000 [01:18<01:07, 12.08it/s]"
     ]
    },
    {
     "name": "stdout",
     "output_type": "stream",
     "text": [
      "Image not found: images/test\\41266.jpg\n"
     ]
    },
    {
     "name": "stderr",
     "output_type": "stream",
     "text": [
      " 92%|███████████████████████████████████████████████████████████████████████▎      | 1830/2000 [01:57<00:10, 16.70it/s]"
     ]
    },
    {
     "name": "stdout",
     "output_type": "stream",
     "text": [
      "Image not found: images/test\\41894.jpg\n",
      "Image not found: images/test\\41895.jpg\n"
     ]
    },
    {
     "name": "stderr",
     "output_type": "stream",
     "text": [
      "100%|██████████████████████████████████████████████████████████████████████████████| 2000/2000 [02:05<00:00, 15.93it/s]\n"
     ]
    },
    {
     "name": "stdout",
     "output_type": "stream",
     "text": [
      "Processed batch 21/66\n"
     ]
    },
    {
     "name": "stderr",
     "output_type": "stream",
     "text": [
      "  7%|█████▋                                                                         | 145/2000 [00:09<01:26, 21.56it/s]"
     ]
    },
    {
     "name": "stdout",
     "output_type": "stream",
     "text": [
      "Image not found: images/test\\42193.jpg\n"
     ]
    },
    {
     "name": "stderr",
     "output_type": "stream",
     "text": [
      " 27%|█████████████████████▏                                                         | 537/2000 [00:35<01:59, 12.27it/s]"
     ]
    },
    {
     "name": "stdout",
     "output_type": "stream",
     "text": [
      "Image not found: images/test\\42599.jpg\n"
     ]
    },
    {
     "name": "stderr",
     "output_type": "stream",
     "text": [
      " 32%|█████████████████████████▎                                                     | 641/2000 [00:41<01:13, 18.37it/s]"
     ]
    },
    {
     "name": "stdout",
     "output_type": "stream",
     "text": [
      "Image not found: images/test\\42704.jpg\n"
     ]
    },
    {
     "name": "stderr",
     "output_type": "stream",
     "text": [
      " 43%|█████████████████████████████████▊                                             | 856/2000 [00:52<00:44, 25.78it/s]"
     ]
    },
    {
     "name": "stdout",
     "output_type": "stream",
     "text": [
      "Image not found: images/test\\42898.jpg\n"
     ]
    },
    {
     "name": "stderr",
     "output_type": "stream",
     "text": [
      " 45%|███████████████████████████████████▋                                           | 902/2000 [00:58<01:51,  9.83it/s]"
     ]
    },
    {
     "name": "stdout",
     "output_type": "stream",
     "text": [
      "Image not found: images/test\\42974.jpg\n"
     ]
    },
    {
     "name": "stderr",
     "output_type": "stream",
     "text": [
      "100%|██████████████████████████████████████████████████████████████████████████████| 2000/2000 [02:05<00:00, 15.97it/s]\n"
     ]
    },
    {
     "name": "stdout",
     "output_type": "stream",
     "text": [
      "Processed batch 22/66\n"
     ]
    },
    {
     "name": "stderr",
     "output_type": "stream",
     "text": [
      "100%|██████████████████████████████████████████████████████████████████████████████| 2000/2000 [02:02<00:00, 16.35it/s]\n"
     ]
    },
    {
     "name": "stdout",
     "output_type": "stream",
     "text": [
      "Processed batch 23/66\n"
     ]
    },
    {
     "name": "stderr",
     "output_type": "stream",
     "text": [
      "100%|██████████████████████████████████████████████████████████████████████████████| 2000/2000 [02:09<00:00, 15.40it/s]\n"
     ]
    },
    {
     "name": "stdout",
     "output_type": "stream",
     "text": [
      "Processed batch 24/66\n"
     ]
    },
    {
     "name": "stderr",
     "output_type": "stream",
     "text": [
      " 40%|███████████████████████████████▏                                               | 791/2000 [00:54<01:50, 10.94it/s]"
     ]
    },
    {
     "name": "stdout",
     "output_type": "stream",
     "text": [
      "Image not found: images/test\\48864.jpg\n"
     ]
    },
    {
     "name": "stderr",
     "output_type": "stream",
     "text": [
      " 56%|███████████████████████████████████████████▌                                  | 1116/2000 [01:18<02:44,  5.37it/s]"
     ]
    },
    {
     "name": "stdout",
     "output_type": "stream",
     "text": [
      "Image not found: images/test\\49226.jpg\n"
     ]
    },
    {
     "name": "stderr",
     "output_type": "stream",
     "text": [
      " 56%|███████████████████████████████████████████▋                                  | 1119/2000 [01:18<02:41,  5.44it/s]"
     ]
    },
    {
     "name": "stdout",
     "output_type": "stream",
     "text": [
      "Image not found: images/test\\49302.jpg\n"
     ]
    },
    {
     "name": "stderr",
     "output_type": "stream",
     "text": [
      " 91%|██████████████████████████████████████████████████████████████████████▊       | 1815/2000 [02:05<00:23,  7.81it/s]"
     ]
    },
    {
     "name": "stdout",
     "output_type": "stream",
     "text": [
      "Image not found: images/test\\49985.jpg\n"
     ]
    },
    {
     "name": "stderr",
     "output_type": "stream",
     "text": [
      "100%|██████████████████████████████████████████████████████████████████████████████| 2000/2000 [02:09<00:00, 15.38it/s]\n"
     ]
    },
    {
     "name": "stdout",
     "output_type": "stream",
     "text": [
      "Processed batch 25/66\n"
     ]
    },
    {
     "name": "stderr",
     "output_type": "stream",
     "text": [
      " 47%|████████████████████████████████████▊                                          | 931/2000 [01:00<02:53,  6.18it/s]"
     ]
    },
    {
     "name": "stdout",
     "output_type": "stream",
     "text": [
      "Image not found: images/test\\51062.jpg\n"
     ]
    },
    {
     "name": "stderr",
     "output_type": "stream",
     "text": [
      " 59%|█████████████████████████████████████████████▊                                | 1175/2000 [01:11<00:40, 20.27it/s]"
     ]
    },
    {
     "name": "stdout",
     "output_type": "stream",
     "text": [
      "Image not found: images/test\\51246.jpg\n"
     ]
    },
    {
     "name": "stderr",
     "output_type": "stream",
     "text": [
      " 61%|███████████████████████████████████████████████▊                              | 1225/2000 [01:13<00:32, 23.87it/s]"
     ]
    },
    {
     "name": "stdout",
     "output_type": "stream",
     "text": [
      "Image not found: images/test\\51304.jpg\n"
     ]
    },
    {
     "name": "stderr",
     "output_type": "stream",
     "text": [
      " 65%|██████████████████████████████████████████████████▉                           | 1306/2000 [01:18<00:29, 23.54it/s]"
     ]
    },
    {
     "name": "stdout",
     "output_type": "stream",
     "text": [
      "Image not found: images/test\\51394.jpg\n",
      "Image not found: images/test\\51395.jpg\n"
     ]
    },
    {
     "name": "stderr",
     "output_type": "stream",
     "text": [
      "100%|██████████████████████████████████████████████████████████████████████████████| 2000/2000 [01:56<00:00, 17.16it/s]\n"
     ]
    },
    {
     "name": "stdout",
     "output_type": "stream",
     "text": [
      "Processed batch 26/66\n"
     ]
    },
    {
     "name": "stderr",
     "output_type": "stream",
     "text": [
      "100%|██████████████████████████████████████████████████████████████████████████████| 2000/2000 [02:10<00:00, 15.32it/s]\n"
     ]
    },
    {
     "name": "stdout",
     "output_type": "stream",
     "text": [
      "Processed batch 27/66\n"
     ]
    },
    {
     "name": "stderr",
     "output_type": "stream",
     "text": [
      " 64%|█████████████████████████████████████████████████▉                            | 1282/2000 [01:29<00:48, 14.95it/s]"
     ]
    },
    {
     "name": "stdout",
     "output_type": "stream",
     "text": [
      "Image not found: images/test\\55408.jpg\n"
     ]
    },
    {
     "name": "stderr",
     "output_type": "stream",
     "text": [
      " 73%|█████████████████████████████████████████████████████████▎                    | 1469/2000 [01:38<00:25, 20.70it/s]"
     ]
    },
    {
     "name": "stdout",
     "output_type": "stream",
     "text": [
      "Image not found: images/test\\55534.jpg\n"
     ]
    },
    {
     "name": "stderr",
     "output_type": "stream",
     "text": [
      " 93%|████████████████████████████████████████████████████████████████████████▊     | 1867/2000 [02:03<00:07, 17.05it/s]"
     ]
    },
    {
     "name": "stdout",
     "output_type": "stream",
     "text": [
      "Image not found: images/test\\55942.jpg\n",
      "Image not found: images/test\\55944.jpg\n"
     ]
    },
    {
     "name": "stderr",
     "output_type": "stream",
     "text": [
      "100%|██████████████████████████████████████████████████████████████████████████████| 2000/2000 [02:09<00:00, 15.43it/s]\n"
     ]
    },
    {
     "name": "stdout",
     "output_type": "stream",
     "text": [
      "Processed batch 28/66\n"
     ]
    },
    {
     "name": "stderr",
     "output_type": "stream",
     "text": [
      "  4%|███▏                                                                            | 79/2000 [00:08<02:32, 12.56it/s]"
     ]
    },
    {
     "name": "stdout",
     "output_type": "stream",
     "text": [
      "Image not found: images/test\\56173.jpg\n",
      "Image not found: images/test\\56174.jpg\n"
     ]
    },
    {
     "name": "stderr",
     "output_type": "stream",
     "text": [
      " 14%|███████████▍                                                                   | 290/2000 [00:21<01:46, 16.05it/s]"
     ]
    },
    {
     "name": "stdout",
     "output_type": "stream",
     "text": [
      "Image not found: images/test\\56365.jpg\n"
     ]
    },
    {
     "name": "stderr",
     "output_type": "stream",
     "text": [
      " 41%|████████████████████████████████▏                                              | 816/2000 [00:49<00:54, 21.85it/s]"
     ]
    },
    {
     "name": "stdout",
     "output_type": "stream",
     "text": [
      "Image not found: images/test\\56944.jpg\n"
     ]
    },
    {
     "name": "stderr",
     "output_type": "stream",
     "text": [
      " 49%|██████████████████████████████████████▎                                        | 971/2000 [00:59<00:54, 18.99it/s]"
     ]
    },
    {
     "name": "stdout",
     "output_type": "stream",
     "text": [
      "Image not found: images/test\\57097.jpg\n"
     ]
    },
    {
     "name": "stderr",
     "output_type": "stream",
     "text": [
      " 65%|██████████████████████████████████████████████████▎                           | 1291/2000 [01:16<00:35, 19.76it/s]"
     ]
    },
    {
     "name": "stdout",
     "output_type": "stream",
     "text": [
      "Image not found: images/test\\57332.jpg\n",
      "Image not found: images/test\\57333.jpg\n",
      "Image not found: images/test\\57334.jpg\n"
     ]
    },
    {
     "name": "stderr",
     "output_type": "stream",
     "text": [
      " 76%|███████████████████████████████████████████████████████████▋                  | 1529/2000 [01:33<00:23, 20.35it/s]"
     ]
    },
    {
     "name": "stdout",
     "output_type": "stream",
     "text": [
      "Image not found: images/test\\57626.jpg\n"
     ]
    },
    {
     "name": "stderr",
     "output_type": "stream",
     "text": [
      " 78%|████████████████████████████████████████████████████████████▊                 | 1558/2000 [01:35<00:23, 18.83it/s]"
     ]
    },
    {
     "name": "stdout",
     "output_type": "stream",
     "text": [
      "Image not found: images/test\\57707.jpg\n"
     ]
    },
    {
     "name": "stderr",
     "output_type": "stream",
     "text": [
      " 85%|██████████████████████████████████████████████████████████████████▋           | 1709/2000 [01:42<00:09, 29.67it/s]"
     ]
    },
    {
     "name": "stdout",
     "output_type": "stream",
     "text": [
      "Image not found: images/test\\57785.jpg\n"
     ]
    },
    {
     "name": "stderr",
     "output_type": "stream",
     "text": [
      "100%|██████████████████████████████████████████████████████████████████████████████| 2000/2000 [02:02<00:00, 16.33it/s]\n"
     ]
    },
    {
     "name": "stdout",
     "output_type": "stream",
     "text": [
      "Processed batch 29/66\n"
     ]
    },
    {
     "name": "stderr",
     "output_type": "stream",
     "text": [
      " 25%|███████████████████▍                                                           | 491/2000 [00:30<01:21, 18.53it/s]"
     ]
    },
    {
     "name": "stdout",
     "output_type": "stream",
     "text": [
      "Image not found: images/test\\58549.jpg\n"
     ]
    },
    {
     "name": "stderr",
     "output_type": "stream",
     "text": [
      " 43%|██████████████████████████████████                                             | 862/2000 [00:49<00:46, 24.43it/s]"
     ]
    },
    {
     "name": "stdout",
     "output_type": "stream",
     "text": [
      "Image not found: images/test\\58897.jpg\n",
      "Image not found: images/test\\58899.jpg\n"
     ]
    },
    {
     "name": "stderr",
     "output_type": "stream",
     "text": [
      " 45%|███████████████████████████████████▎                                           | 895/2000 [00:51<00:57, 19.15it/s]"
     ]
    },
    {
     "name": "stdout",
     "output_type": "stream",
     "text": [
      "Image not found: images/test\\58943.jpg\n",
      "Image not found: images/test\\58944.jpg\n",
      "Image not found: images/test\\58945.jpg\n"
     ]
    },
    {
     "name": "stderr",
     "output_type": "stream",
     "text": [
      " 70%|██████████████████████████████████████████████████████▎                       | 1392/2000 [01:23<01:09,  8.77it/s]"
     ]
    },
    {
     "name": "stdout",
     "output_type": "stream",
     "text": [
      "Image not found: images/test\\59493.jpg\n"
     ]
    },
    {
     "name": "stderr",
     "output_type": "stream",
     "text": [
      " 86%|██████████████████████████████████████████████████████████████████▉           | 1716/2000 [01:44<00:17, 16.32it/s]"
     ]
    },
    {
     "name": "stdout",
     "output_type": "stream",
     "text": [
      "Image not found: images/test\\59774.jpg\n"
     ]
    },
    {
     "name": "stderr",
     "output_type": "stream",
     "text": [
      " 87%|███████████████████████████████████████████████████████████████████▊          | 1739/2000 [01:50<00:30,  8.52it/s]"
     ]
    },
    {
     "name": "stdout",
     "output_type": "stream",
     "text": [
      "Image not found: images/test\\59893.jpg\n"
     ]
    },
    {
     "name": "stderr",
     "output_type": "stream",
     "text": [
      "100%|██████████████████████████████████████████████████████████████████████████████| 2000/2000 [02:00<00:00, 16.66it/s]\n"
     ]
    },
    {
     "name": "stdout",
     "output_type": "stream",
     "text": [
      "Processed batch 30/66\n"
     ]
    },
    {
     "name": "stderr",
     "output_type": "stream",
     "text": [
      "100%|██████████████████████████████████████████████████████████████████████████████| 2000/2000 [02:11<00:00, 15.22it/s]\n"
     ]
    },
    {
     "name": "stdout",
     "output_type": "stream",
     "text": [
      "Processed batch 31/66\n",
      "Image not found: images/test\\62014.jpg\n"
     ]
    },
    {
     "name": "stderr",
     "output_type": "stream",
     "text": [
      "  0%|                                                                                         | 0/2000 [00:00<?, ?it/s]"
     ]
    },
    {
     "name": "stdout",
     "output_type": "stream",
     "text": [
      "Image not found: images/test\\62053.jpg\n",
      "Image not found: images/test\\62054.jpg\n"
     ]
    },
    {
     "name": "stderr",
     "output_type": "stream",
     "text": [
      " 19%|███████████████                                                                | 382/2000 [00:31<02:12, 12.21it/s]"
     ]
    },
    {
     "name": "stdout",
     "output_type": "stream",
     "text": [
      "Image not found: images/test\\62465.jpg\n",
      "Image not found: images/test\\62466.jpg\n",
      "Image not found: images/test\\62467.jpg\n",
      "Image not found: images/test\\62469.jpg\n",
      "Image not found: images/test\\62471.jpg\n"
     ]
    },
    {
     "name": "stderr",
     "output_type": "stream",
     "text": [
      " 44%|███████████████████████████████████▏                                           | 890/2000 [01:02<00:58, 19.08it/s]"
     ]
    },
    {
     "name": "stdout",
     "output_type": "stream",
     "text": [
      "Image not found: images/test\\62943.jpg\n"
     ]
    },
    {
     "name": "stderr",
     "output_type": "stream",
     "text": [
      " 70%|██████████████████████████████████████████████████████▎                       | 1394/2000 [01:35<00:54, 11.14it/s]"
     ]
    },
    {
     "name": "stdout",
     "output_type": "stream",
     "text": [
      "Image not found: images/test\\63467.jpg\n"
     ]
    },
    {
     "name": "stderr",
     "output_type": "stream",
     "text": [
      " 86%|██████████████████████████████████████████████████████████████████▊           | 1714/2000 [01:55<00:23, 12.34it/s]"
     ]
    },
    {
     "name": "stdout",
     "output_type": "stream",
     "text": [
      "Image not found: images/test\\63818.jpg\n"
     ]
    },
    {
     "name": "stderr",
     "output_type": "stream",
     "text": [
      " 88%|████████████████████████████████████████████████████████████████████▋         | 1761/2000 [01:58<00:18, 12.98it/s]"
     ]
    },
    {
     "name": "stdout",
     "output_type": "stream",
     "text": [
      "Image not found: images/test\\63895.jpg\n",
      "Image not found: images/test\\63921.jpg\n"
     ]
    },
    {
     "name": "stderr",
     "output_type": "stream",
     "text": [
      "100%|██████████████████████████████████████████████████████████████████████████████| 2000/2000 [02:08<00:00, 15.55it/s]\n"
     ]
    },
    {
     "name": "stdout",
     "output_type": "stream",
     "text": [
      "Processed batch 32/66\n"
     ]
    },
    {
     "name": "stderr",
     "output_type": "stream",
     "text": [
      "  1%|▉                                                                               | 24/2000 [00:03<02:12, 14.86it/s]"
     ]
    },
    {
     "name": "stdout",
     "output_type": "stream",
     "text": [
      "Image not found: images/test\\64101.jpg\n"
     ]
    },
    {
     "name": "stderr",
     "output_type": "stream",
     "text": [
      " 50%|███████████████████████████████████████▍                                       | 999/2000 [01:04<00:53, 18.84it/s]"
     ]
    },
    {
     "name": "stdout",
     "output_type": "stream",
     "text": [
      "Image not found: images/test\\65100.jpg\n",
      "Image not found: images/test\\65102.jpg\n",
      "Image not found: images/test\\65103.jpg\n",
      "Image not found: images/test\\65105.jpg\n"
     ]
    },
    {
     "name": "stderr",
     "output_type": "stream",
     "text": [
      " 55%|██████████████████████████████████████████▉                                   | 1102/2000 [01:09<00:32, 27.56it/s]"
     ]
    },
    {
     "name": "stdout",
     "output_type": "stream",
     "text": [
      "Image not found: images/test\\65139.jpg\n"
     ]
    },
    {
     "name": "stderr",
     "output_type": "stream",
     "text": [
      " 94%|█████████████████████████████████████████████████████████████████████████     | 1872/2000 [01:55<00:04, 27.46it/s]"
     ]
    },
    {
     "name": "stdout",
     "output_type": "stream",
     "text": [
      "Image not found: images/test\\65938.jpg\n"
     ]
    },
    {
     "name": "stderr",
     "output_type": "stream",
     "text": [
      "100%|██████████████████████████████████████████████████████████████████████████████| 2000/2000 [02:00<00:00, 16.67it/s]\n"
     ]
    },
    {
     "name": "stdout",
     "output_type": "stream",
     "text": [
      "Processed batch 33/66\n"
     ]
    },
    {
     "name": "stderr",
     "output_type": "stream",
     "text": [
      " 12%|█████████▎                                                                     | 236/2000 [00:16<01:31, 19.30it/s]"
     ]
    },
    {
     "name": "stdout",
     "output_type": "stream",
     "text": [
      "Image not found: images/test\\66323.jpg\n"
     ]
    },
    {
     "name": "stderr",
     "output_type": "stream",
     "text": [
      " 34%|██████████████████████████▋                                                    | 676/2000 [00:43<01:10, 18.75it/s]"
     ]
    },
    {
     "name": "stdout",
     "output_type": "stream",
     "text": [
      "Image not found: images/test\\66707.jpg\n"
     ]
    },
    {
     "name": "stderr",
     "output_type": "stream",
     "text": [
      " 85%|██████████████████████████████████████████████████████████████████▍           | 1703/2000 [01:54<00:20, 14.54it/s]"
     ]
    },
    {
     "name": "stdout",
     "output_type": "stream",
     "text": [
      "Image not found: images/test\\67892.jpg\n"
     ]
    },
    {
     "name": "stderr",
     "output_type": "stream",
     "text": [
      " 86%|██████████████████████████████████████████████████████████████████▉           | 1715/2000 [02:08<01:16,  3.72it/s]"
     ]
    },
    {
     "name": "stdout",
     "output_type": "stream",
     "text": [
      "Image not found: images/test\\67972.jpg\n"
     ]
    },
    {
     "name": "stderr",
     "output_type": "stream",
     "text": [
      "100%|██████████████████████████████████████████████████████████████████████████████| 2000/2000 [02:11<00:00, 15.25it/s]\n"
     ]
    },
    {
     "name": "stdout",
     "output_type": "stream",
     "text": [
      "Processed batch 34/66\n"
     ]
    },
    {
     "name": "stderr",
     "output_type": "stream",
     "text": [
      "100%|██████████████████████████████████████████████████████████████████████████████| 2000/2000 [02:00<00:00, 16.54it/s]\n"
     ]
    },
    {
     "name": "stdout",
     "output_type": "stream",
     "text": [
      "Processed batch 35/66\n"
     ]
    },
    {
     "name": "stderr",
     "output_type": "stream",
     "text": [
      "  4%|███▌                                                                            | 88/2000 [00:07<01:27, 21.74it/s]"
     ]
    },
    {
     "name": "stdout",
     "output_type": "stream",
     "text": [
      "Image not found: images/test\\70165.jpg\n"
     ]
    },
    {
     "name": "stderr",
     "output_type": "stream",
     "text": [
      "100%|██████████████████████████████████████████████████████████████████████████████| 2000/2000 [02:01<00:00, 16.46it/s]\n"
     ]
    },
    {
     "name": "stdout",
     "output_type": "stream",
     "text": [
      "Processed batch 36/66\n"
     ]
    },
    {
     "name": "stderr",
     "output_type": "stream",
     "text": [
      "100%|██████████████████████████████████████████████████████████████████████████████| 2000/2000 [02:06<00:00, 15.77it/s]\n"
     ]
    },
    {
     "name": "stdout",
     "output_type": "stream",
     "text": [
      "Processed batch 37/66\n"
     ]
    },
    {
     "name": "stderr",
     "output_type": "stream",
     "text": [
      "  6%|████▊                                                                          | 122/2000 [00:10<04:24,  7.10it/s]"
     ]
    },
    {
     "name": "stdout",
     "output_type": "stream",
     "text": [
      "Image not found: images/test\\74180.jpg\n"
     ]
    },
    {
     "name": "stderr",
     "output_type": "stream",
     "text": [
      " 11%|████████▉                                                                      | 227/2000 [00:15<01:20, 22.12it/s]"
     ]
    },
    {
     "name": "stdout",
     "output_type": "stream",
     "text": [
      "Image not found: images/test\\74322.jpg\n"
     ]
    },
    {
     "name": "stderr",
     "output_type": "stream",
     "text": [
      " 25%|███████████████████▉                                                           | 505/2000 [00:32<01:06, 22.33it/s]"
     ]
    },
    {
     "name": "stdout",
     "output_type": "stream",
     "text": [
      "Image not found: images/test\\74560.jpg\n"
     ]
    },
    {
     "name": "stderr",
     "output_type": "stream",
     "text": [
      " 39%|██████████████████████████████▊                                                | 780/2000 [00:48<01:01, 19.95it/s]"
     ]
    },
    {
     "name": "stdout",
     "output_type": "stream",
     "text": [
      "Image not found: images/test\\74860.jpg\n",
      "Image not found: images/test\\74861.jpg\n"
     ]
    },
    {
     "name": "stderr",
     "output_type": "stream",
     "text": [
      " 39%|███████████████████████████████                                                | 787/2000 [00:52<02:14,  8.99it/s]"
     ]
    },
    {
     "name": "stdout",
     "output_type": "stream",
     "text": [
      "Image not found: images/test\\74902.jpg\n"
     ]
    },
    {
     "name": "stderr",
     "output_type": "stream",
     "text": [
      " 68%|█████████████████████████████████████████████████████                         | 1362/2000 [01:26<01:03, 10.07it/s]"
     ]
    },
    {
     "name": "stdout",
     "output_type": "stream",
     "text": [
      "Image not found: images/test\\75422.jpg\n"
     ]
    },
    {
     "name": "stderr",
     "output_type": "stream",
     "text": [
      " 69%|█████████████████████████████████████████████████████▊                        | 1379/2000 [01:28<00:53, 11.57it/s]"
     ]
    },
    {
     "name": "stdout",
     "output_type": "stream",
     "text": [
      "Image not found: images/test\\75460.jpg\n"
     ]
    },
    {
     "name": "stderr",
     "output_type": "stream",
     "text": [
      "100%|██████████████████████████████████████████████████████████████████████████████| 2000/2000 [02:03<00:00, 16.22it/s]\n"
     ]
    },
    {
     "name": "stdout",
     "output_type": "stream",
     "text": [
      "Processed batch 38/66\n"
     ]
    },
    {
     "name": "stderr",
     "output_type": "stream",
     "text": [
      "  1%|▌                                                                               | 13/2000 [00:02<05:27,  6.07it/s]"
     ]
    },
    {
     "name": "stdout",
     "output_type": "stream",
     "text": [
      "Image not found: images/test\\76065.jpg\n",
      "Image not found: images/test\\76069.jpg\n"
     ]
    },
    {
     "name": "stderr",
     "output_type": "stream",
     "text": [
      "  8%|██████▎                                                                        | 160/2000 [00:09<01:10, 26.28it/s]"
     ]
    },
    {
     "name": "stdout",
     "output_type": "stream",
     "text": [
      "Image not found: images/test\\76193.jpg\n",
      "Image not found: images/test\\76199.jpg\n",
      "Image not found: images/test\\76235.jpg\n"
     ]
    },
    {
     "name": "stderr",
     "output_type": "stream",
     "text": [
      " 11%|████████▋                                                                      | 219/2000 [00:12<00:51, 34.43it/s]"
     ]
    },
    {
     "name": "stdout",
     "output_type": "stream",
     "text": [
      "Image not found: images/test\\76277.jpg\n"
     ]
    },
    {
     "name": "stderr",
     "output_type": "stream",
     "text": [
      " 29%|███████████████████████                                                        | 585/2000 [00:43<03:54,  6.03it/s]"
     ]
    },
    {
     "name": "stdout",
     "output_type": "stream",
     "text": [
      "Image not found: images/test\\76707.jpg\n"
     ]
    },
    {
     "name": "stderr",
     "output_type": "stream",
     "text": [
      " 44%|██████████████████████████████████▉                                            | 883/2000 [00:59<00:59, 18.73it/s]"
     ]
    },
    {
     "name": "stdout",
     "output_type": "stream",
     "text": [
      "Image not found: images/test\\76965.jpg\n"
     ]
    },
    {
     "name": "stderr",
     "output_type": "stream",
     "text": [
      "100%|██████████████████████████████████████████████████████████████████████████████| 2000/2000 [02:55<00:00, 11.38it/s]\n"
     ]
    },
    {
     "name": "stdout",
     "output_type": "stream",
     "text": [
      "Processed batch 39/66\n"
     ]
    },
    {
     "name": "stderr",
     "output_type": "stream",
     "text": [
      "100%|██████████████████████████████████████████████████████████████████████████████| 2000/2000 [04:20<00:00,  7.67it/s]\n"
     ]
    },
    {
     "name": "stdout",
     "output_type": "stream",
     "text": [
      "Processed batch 40/66\n"
     ]
    },
    {
     "name": "stderr",
     "output_type": "stream",
     "text": [
      "100%|██████████████████████████████████████████████████████████████████████████████| 2000/2000 [04:07<00:00,  8.07it/s]\n"
     ]
    },
    {
     "name": "stdout",
     "output_type": "stream",
     "text": [
      "Processed batch 41/66\n"
     ]
    },
    {
     "name": "stderr",
     "output_type": "stream",
     "text": [
      "100%|██████████████████████████████████████████████████████████████████████████████| 2000/2000 [04:21<00:00,  7.65it/s]\n"
     ]
    },
    {
     "name": "stdout",
     "output_type": "stream",
     "text": [
      "Processed batch 42/66\n"
     ]
    },
    {
     "name": "stderr",
     "output_type": "stream",
     "text": [
      "100%|██████████████████████████████████████████████████████████████████████████████| 2000/2000 [04:08<00:00,  8.05it/s]\n"
     ]
    },
    {
     "name": "stdout",
     "output_type": "stream",
     "text": [
      "Processed batch 43/66\n"
     ]
    },
    {
     "name": "stderr",
     "output_type": "stream",
     "text": [
      "100%|██████████████████████████████████████████████████████████████████████████████| 2000/2000 [04:16<00:00,  7.79it/s]\n"
     ]
    },
    {
     "name": "stdout",
     "output_type": "stream",
     "text": [
      "Processed batch 44/66\n"
     ]
    },
    {
     "name": "stderr",
     "output_type": "stream",
     "text": [
      "100%|██████████████████████████████████████████████████████████████████████████████| 2000/2000 [04:10<00:00,  8.00it/s]\n"
     ]
    },
    {
     "name": "stdout",
     "output_type": "stream",
     "text": [
      "Processed batch 45/66\n"
     ]
    },
    {
     "name": "stderr",
     "output_type": "stream",
     "text": [
      "100%|██████████████████████████████████████████████████████████████████████████████| 2000/2000 [04:15<00:00,  7.82it/s]\n"
     ]
    },
    {
     "name": "stdout",
     "output_type": "stream",
     "text": [
      "Processed batch 46/66\n"
     ]
    },
    {
     "name": "stderr",
     "output_type": "stream",
     "text": [
      "100%|██████████████████████████████████████████████████████████████████████████████| 2000/2000 [04:18<00:00,  7.73it/s]\n"
     ]
    },
    {
     "name": "stdout",
     "output_type": "stream",
     "text": [
      "Processed batch 47/66\n"
     ]
    },
    {
     "name": "stderr",
     "output_type": "stream",
     "text": [
      " 73%|████████████████████████████████████████████████████████▊                     | 1457/2000 [03:17<00:57,  9.47it/s]"
     ]
    },
    {
     "name": "stdout",
     "output_type": "stream",
     "text": [
      "Image not found: images/test\\95502.jpg\n"
     ]
    },
    {
     "name": "stderr",
     "output_type": "stream",
     "text": [
      "100%|██████████████████████████████████████████████████████████████████████████████| 2000/2000 [04:19<00:00,  7.72it/s]\n"
     ]
    },
    {
     "name": "stdout",
     "output_type": "stream",
     "text": [
      "Processed batch 48/66\n"
     ]
    },
    {
     "name": "stderr",
     "output_type": "stream",
     "text": [
      "100%|██████████████████████████████████████████████████████████████████████████████| 2000/2000 [04:21<00:00,  7.65it/s]\n"
     ]
    },
    {
     "name": "stdout",
     "output_type": "stream",
     "text": [
      "Processed batch 49/66\n"
     ]
    },
    {
     "name": "stderr",
     "output_type": "stream",
     "text": [
      "100%|██████████████████████████████████████████████████████████████████████████████| 2000/2000 [04:13<00:00,  7.89it/s]\n"
     ]
    },
    {
     "name": "stdout",
     "output_type": "stream",
     "text": [
      "Processed batch 50/66\n"
     ]
    },
    {
     "name": "stderr",
     "output_type": "stream",
     "text": [
      "100%|██████████████████████████████████████████████████████████████████████████████| 2000/2000 [04:22<00:00,  7.61it/s]\n"
     ]
    },
    {
     "name": "stdout",
     "output_type": "stream",
     "text": [
      "Processed batch 51/66\n"
     ]
    },
    {
     "name": "stderr",
     "output_type": "stream",
     "text": [
      "100%|██████████████████████████████████████████████████████████████████████████████| 2000/2000 [04:23<00:00,  7.58it/s]\n"
     ]
    },
    {
     "name": "stdout",
     "output_type": "stream",
     "text": [
      "Processed batch 52/66\n"
     ]
    },
    {
     "name": "stderr",
     "output_type": "stream",
     "text": [
      "100%|██████████████████████████████████████████████████████████████████████████████| 2000/2000 [04:09<00:00,  8.03it/s]\n"
     ]
    },
    {
     "name": "stdout",
     "output_type": "stream",
     "text": [
      "Processed batch 53/66\n"
     ]
    },
    {
     "name": "stderr",
     "output_type": "stream",
     "text": [
      "100%|██████████████████████████████████████████████████████████████████████████████| 2000/2000 [04:21<00:00,  7.65it/s]\n"
     ]
    },
    {
     "name": "stdout",
     "output_type": "stream",
     "text": [
      "Processed batch 54/66\n"
     ]
    },
    {
     "name": "stderr",
     "output_type": "stream",
     "text": [
      "100%|██████████████████████████████████████████████████████████████████████████████| 2000/2000 [05:58<00:00,  5.58it/s]\n"
     ]
    },
    {
     "name": "stdout",
     "output_type": "stream",
     "text": [
      "Processed batch 55/66\n"
     ]
    },
    {
     "name": "stderr",
     "output_type": "stream",
     "text": [
      "100%|██████████████████████████████████████████████████████████████████████████████| 2000/2000 [05:53<00:00,  5.65it/s]\n"
     ]
    },
    {
     "name": "stdout",
     "output_type": "stream",
     "text": [
      "Processed batch 56/66\n"
     ]
    },
    {
     "name": "stderr",
     "output_type": "stream",
     "text": [
      "100%|██████████████████████████████████████████████████████████████████████████████| 2000/2000 [06:07<00:00,  5.44it/s]\n"
     ]
    },
    {
     "name": "stdout",
     "output_type": "stream",
     "text": [
      "Processed batch 57/66\n"
     ]
    },
    {
     "name": "stderr",
     "output_type": "stream",
     "text": [
      "100%|██████████████████████████████████████████████████████████████████████████████| 2000/2000 [08:37<00:00,  3.86it/s]\n"
     ]
    },
    {
     "name": "stdout",
     "output_type": "stream",
     "text": [
      "Processed batch 58/66\n"
     ]
    },
    {
     "name": "stderr",
     "output_type": "stream",
     "text": [
      "100%|██████████████████████████████████████████████████████████████████████████████| 2000/2000 [09:31<00:00,  3.50it/s]\n"
     ]
    },
    {
     "name": "stdout",
     "output_type": "stream",
     "text": [
      "Processed batch 59/66\n"
     ]
    },
    {
     "name": "stderr",
     "output_type": "stream",
     "text": [
      "100%|██████████████████████████████████████████████████████████████████████████████| 2000/2000 [08:43<00:00,  3.82it/s]\n"
     ]
    },
    {
     "name": "stdout",
     "output_type": "stream",
     "text": [
      "Processed batch 60/66\n"
     ]
    },
    {
     "name": "stderr",
     "output_type": "stream",
     "text": [
      "100%|██████████████████████████████████████████████████████████████████████████████| 2000/2000 [09:06<00:00,  3.66it/s]\n"
     ]
    },
    {
     "name": "stdout",
     "output_type": "stream",
     "text": [
      "Processed batch 61/66\n"
     ]
    },
    {
     "name": "stderr",
     "output_type": "stream",
     "text": [
      "100%|██████████████████████████████████████████████████████████████████████████████| 2000/2000 [09:25<00:00,  3.54it/s]\n"
     ]
    },
    {
     "name": "stdout",
     "output_type": "stream",
     "text": [
      "Processed batch 62/66\n"
     ]
    },
    {
     "name": "stderr",
     "output_type": "stream",
     "text": [
      "100%|██████████████████████████████████████████████████████████████████████████████| 2000/2000 [09:32<00:00,  3.49it/s]\n"
     ]
    },
    {
     "name": "stdout",
     "output_type": "stream",
     "text": [
      "Processed batch 63/66\n"
     ]
    },
    {
     "name": "stderr",
     "output_type": "stream",
     "text": [
      "100%|██████████████████████████████████████████████████████████████████████████████| 2000/2000 [11:20<00:00,  2.94it/s]\n"
     ]
    },
    {
     "name": "stdout",
     "output_type": "stream",
     "text": [
      "Processed batch 64/66\n"
     ]
    },
    {
     "name": "stderr",
     "output_type": "stream",
     "text": [
      "100%|██████████████████████████████████████████████████████████████████████████████| 2000/2000 [11:17<00:00,  2.95it/s]\n"
     ]
    },
    {
     "name": "stdout",
     "output_type": "stream",
     "text": [
      "Processed batch 65/66\n"
     ]
    },
    {
     "name": "stderr",
     "output_type": "stream",
     "text": [
      "100%|██████████████████████████████████████████████████████████████████████████████| 1187/1187 [09:50<00:00,  2.01it/s]\n"
     ]
    },
    {
     "name": "stdout",
     "output_type": "stream",
     "text": [
      "Processed batch 66/66\n",
      "Text extraction completed and saved to test_with_extracted_text_final.csv.\n"
     ]
    }
   ],
   "source": [
    "import easyocr\n",
    "import os\n",
    "from tqdm import tqdm\n",
    "from concurrent.futures import ThreadPoolExecutor\n",
    "import pandas as pd\n",
    "import torch\n",
    "from PIL import Image\n",
    "import numpy as np\n",
    "\n",
    "# Initialize EasyOCR reader with GPU support (use GPU if available)\n",
    "reader = easyocr.Reader(['en'], gpu=True)  # Set GPU=True to use the GPU\n",
    "\n",
    "# Function to extract text from an image with resizing\n",
    "def extract_text_from_image(image_path, resize_factor=0.2):  # Reduced resize factor to reduce memory load\n",
    "    try:\n",
    "        # Open image using PIL\n",
    "        img = Image.open(image_path)\n",
    "        \n",
    "        # Optionally resize image to reduce memory usage\n",
    "        if resize_factor < 1.0:\n",
    "            new_size = (int(img.width * resize_factor), int(img.height * resize_factor))\n",
    "            img = img.resize(new_size)\n",
    "\n",
    "        # Convert the PIL image to a numpy array for EasyOCR\n",
    "        img_np = np.array(img)\n",
    "\n",
    "        # Use EasyOCR to extract text directly\n",
    "        result = reader.readtext(img_np, detail=0)  # detail=0 returns only text\n",
    "        torch.cuda.empty_cache()  # Clear GPU memory after each operation\n",
    "        \n",
    "        return ' '.join(result)  # Combine all extracted text\n",
    "    except Exception as e:\n",
    "        print(f\"Error processing image {image_path}: {e}\")\n",
    "        return \"\"\n",
    "\n",
    "# Function to process OCR for a single image\n",
    "def process_image_for_ocr(idx_image):\n",
    "    idx, image_path = idx_image\n",
    "    if os.path.exists(image_path):\n",
    "        return idx, extract_text_from_image(image_path)\n",
    "    else:\n",
    "        print(f\"Image not found: {image_path}\")\n",
    "        return idx, \"\"\n",
    "\n",
    "# Function to process images in batches\n",
    "def extract_text_from_images_batch(test, save_folder, batch_size=2000, num_threads=20):  # Use batches and lower threads\n",
    "    total_images = len(test)\n",
    "    for i in range(0, total_images, batch_size):\n",
    "        batch_test = test.iloc[i:i + batch_size]\n",
    "        idx_image_list = [(idx, os.path.join(save_folder, f\"{idx}.jpg\")) for idx in batch_test.index]\n",
    "\n",
    "        with ThreadPoolExecutor(max_workers=num_threads) as executor:\n",
    "            results = list(tqdm(executor.map(process_image_for_ocr, idx_image_list), total=len(idx_image_list)))\n",
    "\n",
    "        # Save the extracted text into the main test DataFrame\n",
    "        for idx, text in results:\n",
    "            test.at[idx, 'extracted_text'] = text\n",
    "\n",
    "        # Save progress after every batch\n",
    "        print(f\"Processed batch {i//batch_size + 1}/{total_images//batch_size + 1}\")\n",
    "        test.to_csv(f'test_with_extracted_text_partial_{i//batch_size + 1}.csv', index=False)\n",
    "\n",
    "# Set the number of threads and batch size for parallel processing\n",
    "num_threads = 20  # Adjust this based on your system’s capability (GPU memory)\n",
    "batch_size = 2000  # Process 2000 images in each batch to avoid memory overflow\n",
    "\n",
    "# Extract text from test images in batches\n",
    "print(\"Extracting text from test images in batches with parallel threads and GPU support...\")\n",
    "extract_text_from_images_batch(test, 'images/test', batch_size=batch_size, num_threads=num_threads)\n",
    "\n",
    "# Save the final result after all batches are processed\n",
    "test.to_csv('test_with_extracted_text_final.csv', index=False)\n",
    "\n",
    "print(\"Text extraction completed and saved to test_with_extracted_text_final.csv.\")"
   ]
  },
  {
   "cell_type": "markdown",
   "id": "71e860bc",
   "metadata": {},
   "source": [
    "# Step 14: Predict Values and Units for Test Data"
   ]
  },
  {
   "cell_type": "code",
   "execution_count": 21,
   "id": "97ac8c57-db7f-4cf3-9d6e-b9d2a542a573",
   "metadata": {},
   "outputs": [
    {
     "name": "stdout",
     "output_type": "stream",
     "text": [
      "Predicting values and units for test data...\n"
     ]
    },
    {
     "name": "stderr",
     "output_type": "stream",
     "text": [
      "100%|████████████████████████████████████████████████████████████████████████████████████████████████████████████| 131187/131187 [00:14<00:00, 9158.02it/s]\n"
     ]
    },
    {
     "name": "stdout",
     "output_type": "stream",
     "text": [
      "Predicted values and units for test data saved to 'test_with_predictions.csv'.\n"
     ]
    }
   ],
   "source": [
    "import numpy as np\n",
    "from tqdm import tqdm\n",
    "\n",
    "# Initialize columns for predicted values and units\n",
    "test['predicted_value'] = np.nan\n",
    "test['predicted_unit'] = ''\n",
    "\n",
    "print(\"Predicting values and units for test data...\")\n",
    "\n",
    "# Loop through the test DataFrame and predict values and units based on the processed text\n",
    "for idx, row in tqdm(test.iterrows(), total=test.shape[0]):\n",
    "    text = row['processed_text']  # Processed text from OCR\n",
    "    entity_name = row['entity_name']  # Entity name from the row\n",
    "    \n",
    "    # Predict the value and unit using the predefined function\n",
    "    value, unit = extract_value_unit_from_text(text, entity_name)\n",
    "    \n",
    "    # Handle the cases where extraction failed (value and unit are empty)\n",
    "    if value is None or np.isnan(value):\n",
    "        value = np.nan\n",
    "    if unit is None:\n",
    "        unit = ''\n",
    "    \n",
    "    # Update the DataFrame with the predicted value and unit\n",
    "    test.at[idx, 'predicted_value'] = value\n",
    "    test.at[idx, 'predicted_unit'] = unit\n",
    "\n",
    "# Save the updated test DataFrame with predictions\n",
    "test.to_csv('test_with_predictions.csv', index=False)\n",
    "\n",
    "print(\"Predicted values and units for test data saved to 'test_with_predictions.csv'.\")"
   ]
  },
  {
   "cell_type": "markdown",
   "id": "6ab984d8",
   "metadata": {},
   "source": [
    "# Step 15: Debugging and Refining Value-Unit Extraction Logic"
   ]
  },
  {
   "cell_type": "code",
   "execution_count": 24,
   "id": "db966e5b-510b-4fb9-ac74-ff8b517588e0",
   "metadata": {},
   "outputs": [],
   "source": [
    "def extract_value_unit_from_text(text, entity_name):\n",
    "    print(f\"Processing text: {text}, Entity: {entity_name}\")  # Debugging line\n",
    "    units = entity_unit_map.get(entity_name, [])\n",
    "    units_regex = '|'.join([re.escape(unit) for unit in units])\n",
    "    pattern = r'([0-9.]+)\\s*(' + units_regex + r')\\b'\n",
    "    matches = re.findall(pattern, text)\n",
    "    \n",
    "    if matches:\n",
    "        value, unit = matches[0]\n",
    "        print(f\"Extracted value: {value}, Unit: {unit}\")  # Debugging line\n",
    "        return float(value), unit.strip()\n",
    "    else:\n",
    "        print(\"No match found.\")  # Debugging line\n",
    "        return np.nan, ''"
   ]
  },
  {
   "cell_type": "markdown",
   "id": "aad11a3a",
   "metadata": {},
   "source": [
    "# Step 16: Cleaning and Formatting Extracted Text"
   ]
  },
  {
   "cell_type": "code",
   "execution_count": 26,
   "id": "d077aad4-3002-44f3-aaa8-81dbcead8f61",
   "metadata": {},
   "outputs": [
    {
     "name": "stdout",
     "output_type": "stream",
     "text": [
      "Processed text completed and saved to 'test_with_processed_text.csv'.\n"
     ]
    }
   ],
   "source": [
    "import re\n",
    "\n",
    "# Function to preprocess the extracted text\n",
    "def preprocess_text(text):\n",
    "    if isinstance(text, str):\n",
    "        # Convert to lowercase\n",
    "        text = text.lower()\n",
    "        \n",
    "        # Remove unwanted characters (keep only alphanumeric, periods, percentages, and spaces)\n",
    "        text = re.sub(r'[^a-z0-9.% ]', ' ', text)\n",
    "        \n",
    "        # Remove extra spaces\n",
    "        text = re.sub(r'\\s+', ' ', text).strip()\n",
    "        \n",
    "        return text\n",
    "    else:\n",
    "        return ''\n",
    "\n",
    "# Re-run the preprocessing step\n",
    "test_data['processed_text'] = test_data['extracted_text'].apply(preprocess_text)\n",
    "\n",
    "# Save the updated DataFrame with processed text\n",
    "test_data.to_csv('test_with_processed_text.csv', index=False)\n",
    "\n",
    "print(\"Processed text completed and saved to 'test_with_processed_text.csv'.\")"
   ]
  },
  {
   "cell_type": "markdown",
   "id": "749d6a77",
   "metadata": {},
   "source": [
    "# Step 17: Final Value and Unit Prediction from Preprocessed Text with Error Handling"
   ]
  },
  {
   "cell_type": "code",
   "execution_count": 31,
   "id": "1a837bec-c52c-430f-b2b1-83fb6d8757bc",
   "metadata": {},
   "outputs": [
    {
     "name": "stdout",
     "output_type": "stream",
     "text": [
      "Predicting values and units for test data...\n"
     ]
    },
    {
     "name": "stderr",
     "output_type": "stream",
     "text": [
      "100%|███████████████████████████████████████████████████████████████████████████████████████████████████████████| 131187/131187 [00:11<00:00, 11118.24it/s]\n"
     ]
    },
    {
     "name": "stdout",
     "output_type": "stream",
     "text": [
      "Predicted values and units for test data saved to 'test_with_predictions_fixed.csv'.\n"
     ]
    }
   ],
   "source": [
    "import re\n",
    "import numpy as np\n",
    "\n",
    "# Function to extract value and unit from the preprocessed text\n",
    "def extract_value_unit_from_text(text, entity_name):\n",
    "    # Ensure the text is a string\n",
    "    if isinstance(text, str):\n",
    "        # Get allowed units for the entity\n",
    "        units = entity_unit_map.get(entity_name, [])\n",
    "        # Escape units for regex to safely match them in the text\n",
    "        units_regex = '|'.join([re.escape(unit) for unit in units])\n",
    "\n",
    "        # Handle cases where the value and unit are connected directly (e.g., \"74m\", \"220V\", etc.)\n",
    "        # Regex looks for digits followed by unit without a space\n",
    "        pattern = r'([0-9.]+)\\s*(' + units_regex + r')\\b'\n",
    "\n",
    "        # Find all matches\n",
    "        matches = re.findall(pattern, text)\n",
    "        \n",
    "        if matches:\n",
    "            value, unit = matches[0]\n",
    "            try:\n",
    "                # Ensure the value can be converted to a float\n",
    "                value = float(value)\n",
    "            except ValueError:\n",
    "                # If conversion fails, return NaN\n",
    "                value = np.nan\n",
    "            \n",
    "            return value, unit.strip()\n",
    "        else:\n",
    "            return np.nan, ''\n",
    "    else:\n",
    "        # If the text is not a valid string, return NaN\n",
    "        return np.nan, ''\n",
    "\n",
    "# Reload the processed test data\n",
    "test_processed_data = pd.read_csv('test_with_processed_text.csv')\n",
    "\n",
    "# Initialize columns for predicted values and units\n",
    "test_processed_data['predicted_value'] = np.nan\n",
    "test_processed_data['predicted_unit'] = ''\n",
    "\n",
    "print(\"Predicting values and units for test data...\")\n",
    "\n",
    "# Loop through the test DataFrame and predict values and units based on the processed text\n",
    "for idx, row in tqdm(test_processed_data.iterrows(), total=test_processed_data.shape[0]):\n",
    "    text = row['processed_text']  # Processed text from OCR\n",
    "    entity_name = row['entity_name']  # Entity name from the row\n",
    "    \n",
    "    # Predict the value and unit using the updated function\n",
    "    value, unit = extract_value_unit_from_text(text, entity_name)\n",
    "    \n",
    "    # Handle cases where extraction failed (value and unit are empty)\n",
    "    if value is None or np.isnan(value):\n",
    "        value = np.nan\n",
    "    if unit is None:\n",
    "        unit = ''\n",
    "    \n",
    "    # Update the DataFrame with the predicted value and unit\n",
    "    test_processed_data.at[idx, 'predicted_value'] = value\n",
    "    test_processed_data.at[idx, 'predicted_unit'] = unit\n",
    "\n",
    "# Save the updated test DataFrame with predictions\n",
    "test_processed_data.to_csv('test_with_predictions_fixed.csv', index=False)\n",
    "\n",
    "print(\"Predicted values and units for test data saved to 'test_with_predictions_fixed.csv'.\")"
   ]
  },
  {
   "cell_type": "markdown",
   "id": "f3b75357",
   "metadata": {},
   "source": [
    "# Step 18: Text Cleanup and Enhanced Value-Unit Prediction"
   ]
  },
  {
   "cell_type": "code",
   "execution_count": 34,
   "id": "066ca0c4-4861-4dac-a058-f45b73f26247",
   "metadata": {},
   "outputs": [
    {
     "name": "stdout",
     "output_type": "stream",
     "text": [
      "Predicting values and units for test data...\n"
     ]
    },
    {
     "name": "stderr",
     "output_type": "stream",
     "text": [
      "100%|████████████████████████████████████████████████████████████████████████████████████████████████████████████| 131187/131187 [00:13<00:00, 9780.39it/s]\n"
     ]
    },
    {
     "name": "stdout",
     "output_type": "stream",
     "text": [
      "Predicted values and units for test data saved to 'test_with_predictions_fixed.csv'.\n"
     ]
    }
   ],
   "source": [
    "import re\n",
    "import numpy as np\n",
    "\n",
    "# Function to clean up the text before applying extraction\n",
    "def clean_up_text(text):\n",
    "    # Replace common misrecognized characters (like \"O\" -> \"0\", \"n\" -> \"m\")\n",
    "    text = text.replace(\"O\", \"0\").replace(\"n\", \"m\").replace(\"€\", \"\").replace(\"/\", \" \")\n",
    "    \n",
    "    # Normalize spaces\n",
    "    text = re.sub(r'\\s+', ' ', text).strip()\n",
    "    \n",
    "    return text\n",
    "\n",
    "# Function to extract value and unit from the cleaned text\n",
    "def extract_value_unit_from_text(text, entity_name):\n",
    "    # Ensure the text is a string\n",
    "    if isinstance(text, str):\n",
    "        # Clean up the text before extracting\n",
    "        text = clean_up_text(text)\n",
    "        \n",
    "        # Get allowed units for the entity\n",
    "        units = entity_unit_map.get(entity_name, [])\n",
    "        # Escape units for regex to safely match them in the text\n",
    "        units_regex = '|'.join([re.escape(unit) for unit in units])\n",
    "\n",
    "        # Handle cases where the value and unit are connected directly (e.g., \"74m\", \"220V\", etc.)\n",
    "        # Regex looks for digits followed by unit without a space\n",
    "        pattern = r'([0-9.]+)\\s*(' + units_regex + r')\\b'\n",
    "\n",
    "        # Find all matches\n",
    "        matches = re.findall(pattern, text)\n",
    "\n",
    "        if matches:\n",
    "            value, unit = matches[0]\n",
    "            try:\n",
    "                # Ensure the value can be converted to a float\n",
    "                value = float(value)\n",
    "            except ValueError:\n",
    "                # If conversion fails, return NaN\n",
    "                value = np.nan\n",
    "            \n",
    "            return value, unit.strip()\n",
    "        else:\n",
    "            return np.nan, ''\n",
    "    else:\n",
    "        # If the text is not a valid string, return NaN\n",
    "        return np.nan, ''\n",
    "\n",
    "# Reload the processed test data\n",
    "test_processed_data = pd.read_csv('test_with_processed_text.csv')\n",
    "\n",
    "# Initialize columns for predicted values and units\n",
    "test_processed_data['predicted_value'] = np.nan\n",
    "test_processed_data['predicted_unit'] = ''\n",
    "\n",
    "print(\"Predicting values and units for test data...\")\n",
    "\n",
    "# Loop through the test DataFrame and predict values and units based on the processed text\n",
    "for idx, row in tqdm(test_processed_data.iterrows(), total=test_processed_data.shape[0]):\n",
    "    text = row['processed_text']  # Processed text from OCR\n",
    "    entity_name = row['entity_name']  # Entity name from the row\n",
    "    \n",
    "    # Predict the value and unit using the updated function\n",
    "    value, unit = extract_value_unit_from_text(text, entity_name)\n",
    "    \n",
    "    # Handle cases where extraction failed (value and unit are empty)\n",
    "    if value is None or np.isnan(value):\n",
    "        value = np.nan\n",
    "    if unit is None:\n",
    "        unit = ''\n",
    "    \n",
    "    # Update the DataFrame with the predicted value and unit\n",
    "    test_processed_data.at[idx, 'predicted_value'] = value\n",
    "    test_processed_data.at[idx, 'predicted_unit'] = unit\n",
    "\n",
    "# Save the updated test DataFrame with predictions\n",
    "test_processed_data.to_csv('test_with_predictions_fixed.csv', index=False)\n",
    "\n",
    "print(\"Predicted values and units for test data saved to 'test_with_predictions_fixed.csv'.\")"
   ]
  },
  {
   "cell_type": "markdown",
   "id": "05c2c58a",
   "metadata": {},
   "source": [
    "# Step 19: Final Value-Unit Prediction with Text Cleanup, Fallback Mechanisms, and Submission Formatting"
   ]
  },
  {
   "cell_type": "code",
   "execution_count": 44,
   "id": "e48fa96d-6d9b-4940-984a-350f6ba0b474",
   "metadata": {},
   "outputs": [
    {
     "name": "stdout",
     "output_type": "stream",
     "text": [
      "Predicting values and units for test data with enforced pairing...\n"
     ]
    },
    {
     "name": "stderr",
     "output_type": "stream",
     "text": [
      "100%|████████████████████████████████████████████████████████████████████████████████████████████████████████████| 131187/131187 [00:14<00:00, 8906.64it/s]\n"
     ]
    },
    {
     "name": "stdout",
     "output_type": "stream",
     "text": [
      "Predicted values and units saved to 'test_with_predictions_complete.csv'.\n",
      "Number of rows with missing predictions: 53399\n",
      "Missing predictions saved to 'missing_predictions_final_complete.csv'.\n"
     ]
    }
   ],
   "source": [
    "import re\n",
    "import numpy as np\n",
    "import pandas as pd\n",
    "from tqdm import tqdm\n",
    "\n",
    "# Load your test data with processed text\n",
    "test_processed_data = pd.read_csv('test_with_processed_text.csv')\n",
    "\n",
    "# Define a robust cleaning function to fix common OCR mistakes\n",
    "def clean_up_text(text):\n",
    "    if isinstance(text, str):\n",
    "        # Replace common OCR misrecognitions\n",
    "        text = text.replace(\"O\", \"0\").replace(\"n\", \"m\").replace(\"€\", \"\").replace(\"/\", \" \").replace(\"l\", \"1\")\n",
    "        text = re.sub(r'[^a-zA-Z0-9.% ]', ' ', text).strip()  # Remove unwanted characters\n",
    "        text = text.lower()  # Convert to lowercase for consistency\n",
    "        return text\n",
    "    else:\n",
    "        return \"\"\n",
    "\n",
    "# Enhanced function to extract value and unit from text\n",
    "def extract_value_unit_from_text(text, entity_name):\n",
    "    text = clean_up_text(text)  # Clean the text\n",
    "\n",
    "    # Get allowed units for the entity from the entity_unit_map\n",
    "    units = entity_unit_map.get(entity_name, [])\n",
    "    if not units:\n",
    "        return np.nan, ''  # If no units found for the entity\n",
    "\n",
    "    units_regex = '|'.join([re.escape(unit) for unit in units])  # Prepare regex for units\n",
    "    pattern = r'([0-9.]+)\\s*(' + units_regex + r')\\b'  # Pattern to extract value and unit\n",
    "\n",
    "    # Try to extract the value and unit\n",
    "    matches = re.findall(pattern, text)\n",
    "    if matches:\n",
    "        for value, unit in matches:\n",
    "            try:\n",
    "                value = float(value)\n",
    "                return value, unit.strip()\n",
    "            except ValueError:\n",
    "                continue\n",
    "    return np.nan, ''  # Return NaN and empty string if no match is found\n",
    "\n",
    "# Fallback mechanism for cases where extraction fails\n",
    "def fallback_extraction(text, entity_name):\n",
    "    try:\n",
    "        # Try to extract just a numeric value if all else fails\n",
    "        value_match = re.search(r'[0-9.]+', text)\n",
    "        if value_match:\n",
    "            typical_unit = list(entity_unit_map.get(entity_name, []))\n",
    "            unit = typical_unit[0] if typical_unit else ''  # Assign the first unit as a fallback\n",
    "            return float(value_match.group()), unit\n",
    "        return np.nan, ''\n",
    "    except Exception:\n",
    "        return np.nan, ''\n",
    "\n",
    "# Initialize columns for predicted values and units\n",
    "test_processed_data['predicted_value'] = np.nan\n",
    "test_processed_data['predicted_unit'] = ''\n",
    "\n",
    "# Predict values and units for test data\n",
    "print(\"Predicting values and units for test data with enforced pairing...\")\n",
    "\n",
    "for idx, row in tqdm(test_processed_data.iterrows(), total=test_processed_data.shape[0]):\n",
    "    text = row['processed_text']\n",
    "    entity_name = row['entity_name']\n",
    "    \n",
    "    # Extract value and unit using the enhanced method\n",
    "    value, unit = extract_value_unit_from_text(text, entity_name)\n",
    "    \n",
    "    # Use fallback extraction if the primary method fails\n",
    "    if np.isnan(value) or unit == '':\n",
    "        value, unit = fallback_extraction(text, entity_name)\n",
    "    \n",
    "    # If fallback worked but unit is still missing, assign the typical unit based on entity_name\n",
    "    if unit == '':\n",
    "        typical_unit = list(entity_unit_map.get(entity_name, []))\n",
    "        unit = typical_unit[0] if typical_unit else 'unknown_unit'  # Assign a fallback unit if missing\n",
    "\n",
    "    # Update the DataFrame with the predicted value and unit\n",
    "    test_processed_data.at[idx, 'predicted_value'] = value\n",
    "    test_processed_data.at[idx, 'predicted_unit'] = unit\n",
    "\n",
    "# Save the updated test DataFrame with predictions\n",
    "test_processed_data.to_csv('test_with_predictions_complete.csv', index=False)\n",
    "print(\"Predicted values and units saved to 'test_with_predictions_complete.csv'.\")\n",
    "\n",
    "# Check for any remaining missing predictions\n",
    "missing_predictions = test_processed_data[test_processed_data['predicted_value'].isna() | (test_processed_data['predicted_unit'] == '')]\n",
    "missing_predictions.to_csv('missing_predictions_final_complete.csv', index=False)\n",
    "print(f\"Number of rows with missing predictions: {len(missing_predictions)}\")\n",
    "print(\"Missing predictions saved to 'missing_predictions_final_complete.csv'.\")"
   ]
  },
  {
   "cell_type": "markdown",
   "id": "379b9a22",
   "metadata": {},
   "source": [
    "# Step 20: Value-Unit Prediction with Fallback and Final Submission Preparation"
   ]
  },
  {
   "cell_type": "code",
   "execution_count": 53,
   "id": "3d542247-3a64-468e-9004-e12efa3df3a9",
   "metadata": {},
   "outputs": [
    {
     "name": "stdout",
     "output_type": "stream",
     "text": [
      "Predicting values and units for test data with enforced pairing...\n"
     ]
    },
    {
     "name": "stderr",
     "output_type": "stream",
     "text": [
      "100%|████████████████████████████████████████████████████████████████████████| 131187/131187 [00:15<00:00, 8699.20it/s]\n"
     ]
    },
    {
     "name": "stdout",
     "output_type": "stream",
     "text": [
      "Submission file saved to 'test_output.csv'.\n",
      "Final submission saved to 'test_output_with_zeros.csv'.\n"
     ]
    }
   ],
   "source": [
    "import re\n",
    "import numpy as np\n",
    "import pandas as pd\n",
    "from tqdm import tqdm\n",
    "\n",
    "# Load your test data with processed text\n",
    "test_processed_data = pd.read_csv('test_with_processed_text.csv')\n",
    "\n",
    "# Define a robust cleaning function to fix common OCR mistakes\n",
    "def clean_up_text(text):\n",
    "    if isinstance(text, str):\n",
    "        # Replace common OCR misrecognitions\n",
    "        text = text.replace(\"O\", \"0\").replace(\"n\", \"m\").replace(\"€\", \"\").replace(\"/\", \" \").replace(\"l\", \"1\")\n",
    "        text = re.sub(r'[^a-zA-Z0-9.% ]', ' ', text).strip()  # Remove unwanted characters\n",
    "        text = text.lower()  # Convert to lowercase for consistency\n",
    "        return text\n",
    "    else:\n",
    "        return \"\"\n",
    "\n",
    "# Enhanced function to extract value and unit from text\n",
    "def extract_value_unit_from_text(text, entity_name):\n",
    "    text = clean_up_text(text)  # Clean the text\n",
    "\n",
    "    # Get allowed units for the entity from the entity_unit_map\n",
    "    units = entity_unit_map.get(entity_name, [])\n",
    "    \n",
    "    # If the units are stored as a set, convert to list\n",
    "    if isinstance(units, set):\n",
    "        units = list(units)\n",
    "\n",
    "    if not units:\n",
    "        return np.nan, ''  # If no units found for the entity\n",
    "\n",
    "    units_regex = '|'.join([re.escape(unit) for unit in units])  # Prepare regex for units\n",
    "    pattern = r'([0-9.]+)\\s*(' + units_regex + r')\\b'  # Pattern to extract value and unit\n",
    "\n",
    "    # Try to extract the value and unit\n",
    "    matches = re.findall(pattern, text)\n",
    "    if matches:\n",
    "        for value, unit in matches:\n",
    "            try:\n",
    "                value = float(value)\n",
    "                return value, unit.strip()\n",
    "            except ValueError:\n",
    "                continue\n",
    "    return np.nan, ''  # Return NaN and empty string if no match is found\n",
    "\n",
    "# Fallback mechanism for cases where extraction fails\n",
    "def fallback_extraction(text, entity_name):\n",
    "    try:\n",
    "        # Try to extract just a numeric value if all else fails\n",
    "        value_match = re.search(r'[0-9.]+', text)\n",
    "        if value_match:\n",
    "            typical_unit = list(entity_unit_map.get(entity_name, []))\n",
    "            if isinstance(typical_unit, set):\n",
    "                typical_unit = list(typical_unit)\n",
    "            unit = typical_unit[0] if typical_unit else ''  # Assign the first unit as a fallback\n",
    "            return float(value_match.group()), unit\n",
    "        return np.nan, ''\n",
    "    except Exception:\n",
    "        return np.nan, ''\n",
    "\n",
    "# Function to format the prediction\n",
    "def format_prediction(value, unit, entity_name):\n",
    "    if pd.notnull(value) and unit:\n",
    "        # Format the value to standard float format\n",
    "        value_str = f\"{value:.2f}\".rstrip('0').rstrip('.')  # Remove unnecessary trailing zeros\n",
    "        return f\"{value_str} {unit}\"\n",
    "    else:\n",
    "        # If the value or unit is missing, return \"0 <unit>\" where <unit> is assigned based on entity_name\n",
    "        fallback_unit = list(entity_unit_map.get(entity_name, ['unknown_unit']))\n",
    "        if isinstance(fallback_unit, set):\n",
    "            fallback_unit = list(fallback_unit)\n",
    "        return f\"0 {fallback_unit[0]}\"\n",
    "\n",
    "# Initialize columns for predicted values and units\n",
    "test_processed_data['predicted_value'] = np.nan\n",
    "test_processed_data['predicted_unit'] = ''\n",
    "\n",
    "# Predict values and units for test data\n",
    "print(\"Predicting values and units for test data with enforced pairing...\")\n",
    "\n",
    "for idx, row in tqdm(test_processed_data.iterrows(), total=test_processed_data.shape[0]):\n",
    "    text = row['processed_text']\n",
    "    entity_name = row['entity_name']\n",
    "    \n",
    "    # Extract value and unit using the enhanced method\n",
    "    value, unit = extract_value_unit_from_text(text, entity_name)\n",
    "    \n",
    "    # Use fallback extraction if the primary method fails\n",
    "    if np.isnan(value) or unit == '':\n",
    "        value, unit = fallback_extraction(text, entity_name)\n",
    "    \n",
    "    # If fallback worked but unit is still missing, assign the typical unit based on entity_name\n",
    "    if unit == '':\n",
    "        typical_unit = list(entity_unit_map.get(entity_name, []))\n",
    "        if isinstance(typical_unit, set):\n",
    "            typical_unit = list(typical_unit)\n",
    "        unit = typical_unit[0] if typical_unit else 'unknown_unit'  # Assign a fallback unit if missing\n",
    "\n",
    "    # Update the DataFrame with the predicted value and unit\n",
    "    test_processed_data.at[idx, 'predicted_value'] = value\n",
    "    test_processed_data.at[idx, 'predicted_unit'] = unit\n",
    "\n",
    "# Format the prediction column\n",
    "test_processed_data['prediction'] = test_processed_data.apply(\n",
    "    lambda row: format_prediction(row['predicted_value'], row['predicted_unit'], row['entity_name']),\n",
    "    axis=1\n",
    ")\n",
    "\n",
    "# Prepare the submission file with 'index' and 'prediction' columns\n",
    "submission = test_processed_data[['index', 'prediction']]\n",
    "\n",
    "# Save the submission file to CSV\n",
    "submission.to_csv('test_output.csv', index=False)\n",
    "\n",
    "print(\"Submission file saved to 'test_output.csv'.\")\n",
    "\n",
    "# Check for missing predictions and fill missing predictions with \"0 <unit>\"\n",
    "test_processed_data['prediction'] = test_processed_data.apply(\n",
    "    lambda row: format_prediction(0, row['predicted_unit'], row['entity_name']) if row['prediction'] == '' else row['prediction'],\n",
    "    axis=1\n",
    ")\n",
    "\n",
    "# Save the final submission with zero for missing predictions\n",
    "submission.to_csv('test_output_with_zeros.csv', index=False)\n",
    "print(\"Final submission saved to 'test_output_with_zeros.csv'.\")"
   ]
  },
  {
   "cell_type": "code",
   "execution_count": null,
   "id": "b3203979-2cc8-48f8-9787-15fbab510c7a",
   "metadata": {},
   "outputs": [],
   "source": []
  }
 ],
 "metadata": {
  "kernelspec": {
   "display_name": "Python 3 (ipykernel)",
   "language": "python",
   "name": "python3"
  },
  "language_info": {
   "codemirror_mode": {
    "name": "ipython",
    "version": 3
   },
   "file_extension": ".py",
   "mimetype": "text/x-python",
   "name": "python",
   "nbconvert_exporter": "python",
   "pygments_lexer": "ipython3",
   "version": "3.12.0"
  }
 },
 "nbformat": 4,
 "nbformat_minor": 5
}
